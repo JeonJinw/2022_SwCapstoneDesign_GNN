{
 "cells": [
  {
   "cell_type": "markdown",
   "id": "9010e283-eb33-423e-8670-eda779dbceaf",
   "metadata": {
    "tags": []
   },
   "source": [
    "# Typhoon Prediction Project\n",
    "* Predict the trajectory of typhoons\n",
    "    * 6h, 12h, 18h, 24h, ...\n",
    "* LSTM, GRU"
   ]
  },
  {
   "cell_type": "code",
   "execution_count": 3,
   "id": "9e1988b2-1225-42b4-8600-de1eb0aaa004",
   "metadata": {},
   "outputs": [],
   "source": [
    "import pandas as pd\n",
    "# from pandas.core.common import SettingWithCopyWarning\n",
    "import numpy as np\n",
    "import torch\n",
    "from torch.utils.data import Dataset,DataLoader\n",
    "from sklearn.preprocessing import StandardScaler, MinMaxScaler\n",
    "import matplotlib.pyplot as plt\n",
    "from tqdm.auto import tqdm, trange\n",
    "import random\n",
    "import torch\n",
    "import torch.nn as nn\n",
    "import torch.nn.functional as F\n",
    "import torch.optim as optim\n",
    "from torchinfo import summary\n",
    "from torch.nn.utils.rnn import pad_sequence\n",
    "from sklearn.metrics import mean_absolute_error, f1_score\n",
    "from sklearn.model_selection import train_test_split\n",
    "from torch.autograd import Variable\n",
    "import geopandas as gpd\n",
    "from shapely.geometry import LineString\n",
    "from torch.nn.utils.rnn import pad_sequence, pack_padded_sequence, pad_packed_sequence\n",
    "\n",
    "pd.set_option('mode.chained_assignment', None)\n",
    "train_on_gpu = torch.cuda.is_available()\n",
    "if not train_on_gpu:\n",
    "    device = 'cpu'\n",
    "    print('CUDA is not available. Training on CPU...')\n",
    "else:\n",
    "    device = 'cuda'"
   ]
  },
  {
   "cell_type": "code",
   "execution_count": 2,
   "id": "33a340b9-6526-4931-9dd2-f4a8b7470337",
   "metadata": {},
   "outputs": [
    {
     "name": "stdout",
     "output_type": "stream",
     "text": [
      "Collecting torchinfo\n",
      "  Downloading torchinfo-1.7.1-py3-none-any.whl (22 kB)\n",
      "Installing collected packages: torchinfo\n",
      "Successfully installed torchinfo-1.7.1\n",
      "Note: you may need to restart the kernel to use updated packages.\n"
     ]
    }
   ],
   "source": [
    "pip install torchinfo"
   ]
  },
  {
   "cell_type": "code",
   "execution_count": 88,
   "id": "6c9fa743-6ca5-4b12-828f-1dc83a1fdd5f",
   "metadata": {},
   "outputs": [],
   "source": [
    "DIR_MAP = {'북': 0, '북동':45, '북서': 315, '북북서':337.5, '북북동':22.5, '서북서':292.5, '서':270, '서남서':247.5, '동북동':67.5, '남서':225,'남남동':157.5, '동남동':112.5, '남남서':202.5, '동':90, '남':180, '남동':157.5, -1:-1}"
   ]
  },
  {
   "cell_type": "code",
   "execution_count": 156,
   "id": "2f1e20c0-3ece-4580-9268-0b00fbc3362b",
   "metadata": {},
   "outputs": [],
   "source": [
    "## 전처리\n",
    "def rep_nan(data):\n",
    "    data['진행방향'].fillna(-1, inplace = True)\n",
    "def drop_str(data):\n",
    "    cnt=0\n",
    "    for y,m,d,t in zip(data[\"Year\"],data[\"Month\"],data[\"Date\"],data[\"Time\"]):\n",
    "            data[\"Year\"][cnt] = y.split(\"년\")[0]\n",
    "            data[\"Month\"][cnt] = m.split(\"월\")[0]\n",
    "            data[\"Date\"][cnt] = d.split(\"일\")[0]\n",
    "            data[\"Time\"][cnt] = t.split(\"시\")[0]\n",
    "            cnt+=1\n",
    "    return data\n",
    "def str2int(data):\n",
    "    data[\"Year\"]=0\n",
    "    data[\"Month\"]=0\n",
    "    data[\"Date\"]=0\n",
    "    data[\"Time\"]=0\n",
    "    for i, element in enumerate(data[\"일시\"]):\n",
    "        data[\"Year\"][i]=element.split(' ')[0]\n",
    "        data[\"Month\"][i]=element.split(' ')[1]\n",
    "        data[\"Date\"][i]=element.split(' ')[2]\n",
    "        data[\"Time\"][i]=element.split(' ')[3]\n",
    "    return data\n",
    "def cat_1(data):\n",
    "    strength_map={}\n",
    "    for i, s in enumerate(data[\"강도\"].unique()):\n",
    "        strength_map[s] = i\n",
    "    data[\"강도\"] = data[\"강도\"].map(strength_map)\n",
    "    return data\n",
    "def cat_2(data):\n",
    "    for i, s in enumerate(data[\"크기\"]):\n",
    "        if s==\"-\":\n",
    "            data[\"크기\"][i] = 0\n",
    "        elif s==\"소형\":\n",
    "            data[\"크기\"][i] = 1\n",
    "        elif s==\"중형\":\n",
    "            data[\"크기\"][i] = 2\n",
    "        else:\n",
    "            data[\"크기\"][i] = 3\n",
    "    return data\n",
    "def dir_enc(data):\n",
    "    for i in range(len(data)):\n",
    "        \"\"\"\n",
    "        if data[\"진행방향\"][i-1] == \"북\":\n",
    "            if data[\"진행방향\"][i] == \"북북동\" or \"북동\" or \"동북동\" or \"동\" or \"동남동\" or \"남동\" or \"남남동\"\n",
    "                 data[\"진행방향\"][i-1] == 0\n",
    "            else:\n",
    "                data[\"진행방향\"][i-1] == 360\n",
    "        \"\"\"\n",
    "        data[\"진행방향\"][i] = DIR_MAP[data[\"진행방향\"][i]]\n",
    "def prepro(data):\n",
    "    idx = data[data[\"Unnamed: 1\"]!=0].index\n",
    "    data = data.drop(idx)\n",
    "    data = data.reset_index()\n",
    "    data = str2int(data)\n",
    "    drop_str(data)\n",
    "    data =cat_1(data)\n",
    "    data =cat_2(data)\n",
    "    data = data.drop([\"70% 확률 반경(km)\", \"Unnamed: 1\",\"일시\",\"index\"], axis=1)\n",
    "    rep_nan(data)\n",
    "    dir_enc(data)\n",
    "    return data\n",
    "# def prepro2(data):\n",
    "#     data = dir_enc(data)"
   ]
  },
  {
   "cell_type": "code",
   "execution_count": 90,
   "id": "bda62208-aacb-4b1f-a8b7-d82111254e3d",
   "metadata": {},
   "outputs": [
    {
     "data": {
      "text/plain": [
       "'C:\\\\Users\\\\asy10\\\\Desktop\\\\캡스톤'"
      ]
     },
     "execution_count": 90,
     "metadata": {},
     "output_type": "execute_result"
    }
   ],
   "source": [
    "pwd"
   ]
  },
  {
   "cell_type": "code",
   "execution_count": 91,
   "id": "aa8d3444-9c93-419d-a47e-78ac3df568be",
   "metadata": {},
   "outputs": [
    {
     "name": "stdout",
     "output_type": "stream",
     "text": [
      "C:\\Users\\asy10\\Desktop\\캡스톤\\typhoon_pt\n"
     ]
    }
   ],
   "source": [
    "cd typhoon_pt"
   ]
  },
  {
   "cell_type": "code",
   "execution_count": 144,
   "id": "62c8dad5-384c-4b48-80cf-04d3f5b5b238",
   "metadata": {},
   "outputs": [],
   "source": [
    "data_dir = \"C:/Users/asy10/Desktop/캡스톤/typhoon_pt/Typhoon/tp_\"\n",
    "data = []"
   ]
  },
  {
   "cell_type": "code",
   "execution_count": 145,
   "id": "4a4dcc59-18f4-492f-b0ed-24064afd47e0",
   "metadata": {},
   "outputs": [],
   "source": [
    "## csv 순서대로읽어와서 data에 저장\n",
    "for i in range(1,529):\n",
    "    data.append(pd.read_csv(data_dir+str(i).zfill(3)+\".csv\",encoding_errors='ignore',encoding=\"cp949\"))"
   ]
  },
  {
   "cell_type": "code",
   "execution_count": 146,
   "id": "c203df35-40e7-4826-94f8-d9a480779b15",
   "metadata": {},
   "outputs": [],
   "source": [
    "Hin = data[521]\n",
    "Megi = data[512]\n",
    "del(data[521])\n",
    "del(data[512])"
   ]
  },
  {
   "cell_type": "code",
   "execution_count": 147,
   "id": "70216cb1-1b8c-4193-990d-883978b180f9",
   "metadata": {},
   "outputs": [],
   "source": [
    "for i in range(len(data)):\n",
    "    data[i]=prepro(data[i])\n",
    "    #data[i].insert(0,'ID', i)\n",
    "Hin = prepro(Hin)\n",
    "Megi = prepro(Megi)"
   ]
  },
  {
   "cell_type": "code",
   "execution_count": 148,
   "id": "af640928-9aeb-4e7f-a548-a176f36d58f9",
   "metadata": {},
   "outputs": [],
   "source": [
    "for i in range(len(data)):\n",
    "    data[i] = data[i].drop([\"Year\",\"Month\",\"Date\",\"Time\"],axis=1)\n",
    "Hin = Hin.drop([\"Year\",\"Month\",\"Date\",\"Time\"],axis=1)\n",
    "Megi = Megi.drop([\"Year\",\"Month\",\"Date\",\"Time\"],axis=1)"
   ]
  },
  {
   "cell_type": "code",
   "execution_count": 149,
   "id": "599fa224-6e0f-48d2-8ae7-824c008b2493",
   "metadata": {},
   "outputs": [],
   "source": [
    "# for i in range(len(data)):\n",
    "#     data[i] = data[i].drop([\"ID\"],axis=1)\n",
    "# Hin = Hin.drop([\"ID\"],axis=1)"
   ]
  },
  {
   "cell_type": "code",
   "execution_count": 150,
   "id": "4329538a-713b-4c5c-a3f6-4834f1ba775a",
   "metadata": {},
   "outputs": [],
   "source": [
    "for i in range(len(data)):\n",
    "    data[i] = data[i].fillna(-2)"
   ]
  },
  {
   "cell_type": "code",
   "execution_count": 99,
   "id": "417d8cc9-5925-4252-9029-5a6d43f8d407",
   "metadata": {},
   "outputs": [],
   "source": [
    "# sc1 = MinMaxScaler()\n",
    "# sc2 = MinMaxScaler()\n",
    "\n",
    "# for i in range(len(data)):\n",
    "#     data[i][['위도(N)','경도(E)','중심기압','초속(m/s)','시속(km/h)','강풍반경(km)[예외반경]','강도','크기','이동속도(km/h)']]=sc1.fit_transform(data[i][['위도(N)','경도(E)','중심기압','초속(m/s)','시속(km/h)','강풍반경(km)[예외반경]','강도','크기','이동속도(km/h)']])\n",
    "#     data[i][['위도(N)','경도(E)']] = sc2.fit_transform(data[i][['위도(N)','경도(E)']])"
   ]
  },
  {
   "cell_type": "code",
   "execution_count": 155,
   "id": "14802d39-d6e6-4251-b059-38c561faca91",
   "metadata": {},
   "outputs": [
    {
     "ename": "AttributeError",
     "evalue": "'list' object has no attribute 'columns'",
     "output_type": "error",
     "traceback": [
      "\u001b[1;31m---------------------------------------------------------------------------\u001b[0m",
      "\u001b[1;31mAttributeError\u001b[0m                            Traceback (most recent call last)",
      "Input \u001b[1;32mIn [155]\u001b[0m, in \u001b[0;36m<cell line: 1>\u001b[1;34m()\u001b[0m\n\u001b[1;32m----> 1\u001b[0m \u001b[43mdata\u001b[49m\u001b[38;5;241;43m.\u001b[39;49m\u001b[43mcolumns\u001b[49m()\n",
      "\u001b[1;31mAttributeError\u001b[0m: 'list' object has no attribute 'columns'"
     ]
    }
   ],
   "source": [
    "data.columns()"
   ]
  },
  {
   "cell_type": "code",
   "execution_count": 100,
   "id": "ec202ad8-66dd-4435-a817-3b76a8efe3c7",
   "metadata": {},
   "outputs": [
    {
     "name": "stdout",
     "output_type": "stream",
     "text": [
      "min 1.6\n",
      "max 54.0\n",
      "min 99.8\n",
      "max 180.0\n",
      "min 0\n",
      "max 1010\n",
      "min -2.0\n",
      "max 61\n",
      "min -4\n",
      "max 220\n",
      "min -2.0\n",
      "max 1480.0\n",
      "min -2.0\n",
      "max 216\n"
     ]
    }
   ],
   "source": [
    "minmax = {}\n",
    "for j in ['위도(N)','경도(E)','중심기압','초속(m/s)','시속(km/h)','강풍반경(km)[예외반경]','이동속도(km/h)']:\n",
    "    m = np.inf\n",
    "    M = -np.inf\n",
    "    for i in range(len(data)):\n",
    "        m = m if np.min(data[i][[j]].values) > m else np.min(data[i][[j]].values)\n",
    "        # if m == -1 :\n",
    "            # print(i, end = ' ')\n",
    "    for i in range(len(data)):\n",
    "        M = M if np.max(data[i][[j]].values) < M  else np.max(data[i][[j]].values)\n",
    "    minmax[j] = [m,M]\n",
    "    print('min', m)\n",
    "    print('max', M)"
   ]
  },
  {
   "cell_type": "code",
   "execution_count": 101,
   "id": "3f747aa0-510e-4712-be01-8458cfed2f09",
   "metadata": {},
   "outputs": [],
   "source": [
    "minmax['위도(N)'][0], minmax['위도(N)'][1] = 0, 60\n",
    "minmax['경도(E)'][0], minmax['경도(E)'][1] = 90, 180\n",
    "\n",
    "for i in range(len(data)):\n",
    "    for j in ['위도(N)','경도(E)','중심기압','초속(m/s)','시속(km/h)','강풍반경(km)[예외반경]','이동속도(km/h)']:\n",
    "        data[i][j] = (data[i][j] - minmax[j][0])/(minmax[j][1] - minmax[j][0])\n",
    "\n",
    "# for i in range(len(data)):\n",
    "#     for j in ['중심기압','초속(m/s)','시속(km/h)','강풍반경(km)[예외반경]','이동속도(km/h)']:\n",
    "#         data[i][j] = (data[i][j] - minmax[j][0])/(minmax[j][1] - minmax[j][0])"
   ]
  },
  {
   "cell_type": "markdown",
   "id": "cd2b7f56-d8c6-4c64-a10e-4aaef5e0d5fd",
   "metadata": {},
   "source": [
    "### With_padding"
   ]
  },
  {
   "cell_type": "code",
   "execution_count": 102,
   "id": "a24e3c0a-5a3d-4b8d-ba08-d0fd0305b9fa",
   "metadata": {},
   "outputs": [],
   "source": [
    "# for i in range(len(data)):\n",
    "#     pad = nn.ConstantPad2d((0,0,0,max-data[i].shape[0]),0)\n",
    "#     data[i]=pad(torch.tensor(data[i].values, dtype=torch.float32))\n",
    "\n",
    "# y=[]\n",
    "# for i in range(len(data)):\n",
    "#     y.append(data[i][:,0:2])\n",
    "\n",
    "# for i in range(len(data)):\n",
    "#     data[i] = data[i][:,2:]"
   ]
  },
  {
   "cell_type": "markdown",
   "id": "0238de44-ca36-4e14-8631-7da73f738929",
   "metadata": {},
   "source": [
    "### Without_padding"
   ]
  },
  {
   "cell_type": "code",
   "execution_count": 103,
   "id": "d9cdbd4f-a1d4-40d0-b9da-a65455ef30e9",
   "metadata": {},
   "outputs": [],
   "source": [
    "y=[]\n",
    "for i in range(len(data)):\n",
    "    y.append(pd.concat([data[i][:]['위도(N)'],data[i][:]['경도(E)']],axis=1))\n",
    "\n",
    "for i in range(len(data)):\n",
    "    data[i] = data[i].drop(['위도(N)','경도(E)'], axis=1)\n",
    "\n",
    "for i in range(len(data)):\n",
    "    data[i] = torch.tensor(data[i].values, dtype=torch.float32)\n",
    "    y[i] = torch.tensor(y[i].values, dtype=torch.float32)\n"
   ]
  },
  {
   "cell_type": "code",
   "execution_count": 104,
   "id": "9b32d905-e558-4df2-a674-d228b44f35af",
   "metadata": {},
   "outputs": [
    {
     "data": {
      "text/plain": [
       "tensor([[0.3000, 0.3233],\n",
       "        [0.3233, 0.3400],\n",
       "        [0.3683, 0.3633]])"
      ]
     },
     "execution_count": 104,
     "metadata": {},
     "output_type": "execute_result"
    }
   ],
   "source": [
    "y[0]"
   ]
  },
  {
   "cell_type": "code",
   "execution_count": 105,
   "id": "fabd71ad-fe01-4a43-a94e-89d0698d4928",
   "metadata": {},
   "outputs": [],
   "source": [
    "x_train, x_valid, y_train, y_valid = train_test_split(data, y, test_size=0.1,shuffle=False)"
   ]
  },
  {
   "cell_type": "markdown",
   "id": "643d4485-6c1a-4541-a175-173d6515832e",
   "metadata": {},
   "source": [
    "# 전처리 끝"
   ]
  },
  {
   "cell_type": "code",
   "execution_count": 106,
   "id": "130043f8-7219-4377-a5d7-93c9cfcb6d70",
   "metadata": {},
   "outputs": [],
   "source": [
    "def pad_collate(batch):\n",
    "    (xx, yy) = zip(*batch)\n",
    "    x_lens = [len(x) for x in xx]\n",
    "    y_lens = [len(y) for y in yy]\n",
    "    \n",
    "    xx_pad = pad_sequence(xx, batch_first=True, padding_value=10)\n",
    "    yy_pad = pad_sequence(yy, batch_first=True, padding_value=10)\n",
    "    \n",
    "    return xx_pad, yy_pad"
   ]
  },
  {
   "cell_type": "code",
   "execution_count": 107,
   "id": "9abebdb6-3997-441e-a6ec-42c27f821a02",
   "metadata": {},
   "outputs": [],
   "source": [
    "class my_dataset(Dataset):\n",
    "    def __init__(self, data, y):\n",
    "        self.data = data\n",
    "        self.target = y\n",
    "        \n",
    "    def __len__(self):\n",
    "        return len(self.data)\n",
    "        \n",
    "    def __getitem__(self, i):\n",
    "        return self.data[i], self.target[i]"
   ]
  },
  {
   "cell_type": "code",
   "execution_count": 108,
   "id": "673a7ba9-b08a-41e4-872f-153cf688dad7",
   "metadata": {},
   "outputs": [],
   "source": [
    "batch_size = 32\n",
    "input_size = 8\n",
    "hidden_size = 128\n",
    "num_layer = 2\n",
    "output_size = 2\n",
    "MAX_LENGTH = 74\n",
    "# embedding_size = 32"
   ]
  },
  {
   "cell_type": "code",
   "execution_count": 109,
   "id": "f69f914c-8c33-4355-a9af-e0252d7cce45",
   "metadata": {},
   "outputs": [],
   "source": [
    "train_dataset = my_dataset(x_train, y_train)\n",
    "valid_dataset = my_dataset(x_valid, y_valid)\n",
    "train_loader = DataLoader(train_dataset, batch_size, shuffle=False, collate_fn = pad_collate)\n",
    "valid_loader = DataLoader(valid_dataset, batch_size, shuffle=False, collate_fn = pad_collate)"
   ]
  },
  {
   "cell_type": "markdown",
   "id": "a7fe86aa-08f1-4c98-8c02-5d3778ae428f",
   "metadata": {
    "tags": []
   },
   "source": [
    "### Encoder"
   ]
  },
  {
   "cell_type": "code",
   "execution_count": 110,
   "id": "b5f8bfac-037c-40c7-ad10-53e9c80c41c7",
   "metadata": {},
   "outputs": [],
   "source": [
    "class EncoderRNN(nn.Module):\n",
    "    def __init__(self, input_size, hidden_size,num_layer,batch_size):\n",
    "        super(EncoderRNN, self).__init__()\n",
    "        self.hidden_size = hidden_size\n",
    "        self.input_size = input_size\n",
    "        self.batch_size = batch_size\n",
    "        self.num_layer = num_layer\n",
    "        self.gru = nn.GRU(input_size, hidden_size,num_layer, batch_first=True)\n",
    "        \n",
    "        self.ln = nn.LayerNorm(hidden_size)\n",
    "         \n",
    "        self.dropout= nn.Dropout(0.3)\n",
    "        \n",
    "    def forward(self, input, hidden):\n",
    "        \n",
    "        output, hidden = self.gru(input, hidden)\n",
    "        # output = self.ln(output)\n",
    "        \n",
    "        hidden = self.ln(hidden)\n",
    "\n",
    "        return output, hidden\n",
    "        \n",
    "    def initHidden(self,num_layer,batch_size):\n",
    "        return torch.zeros(num_layer,batch_size,self.hidden_size)"
   ]
  },
  {
   "cell_type": "markdown",
   "id": "1512557b-861d-42f5-be6a-cd7a1625a8c9",
   "metadata": {},
   "source": [
    "### Attention\n",
    "\n",
    "1. 인코더의 히든 스테이트(h1~h32)들을 스텝별로 구한다. -> encoder_hiddens \n",
    "\n",
    "2. 디코더의 이전 스텝 히든 스테이트들을 encoder_hiddens에 각각 내적해서 어텐션 가중치를 만든다. \n",
    "\n",
    "3. 어텐션 가중치를 소프트맥스한다. \n",
    "\n",
    "4. 소프트맥스 된 점수에 해당하는 각각의 히든 스테이트들에 어텐션 가중치를 곱한다\n",
    " \n",
    "5. 점수에 곱해진 vector들을 sum up 한다 -> context vector \n"
   ]
  },
  {
   "cell_type": "code",
   "execution_count": null,
   "id": "2f0f4099-0078-4436-8d5c-2f3e66a48936",
   "metadata": {},
   "outputs": [],
   "source": [
    "class Attention(nn.Module):\n",
    "    def __init__(self, enc_hidden_dim, dec_hidden_dim):\n",
    "        super().__init__()\n",
    "               \n",
    "        self.attn = nn.Linear((enc_hidden_dim  + dec_hidden_dim), dec_hidden_dim)\n",
    "        self.v = nn.Linear(dec_hidden_dim, 1, bias=False)\n",
    "        \n",
    "    def forward(self, hidden, enc_outputs):\n",
    "        \n",
    "        # enc_outputs: [피처 개수, 배치 크기, 인코더 히든 차원 * 방향의 수]: 전체 태풍의 출력 정보\n",
    "        batch_size = enc_outputs.shape[1]\n",
    "        src_len = enc_outputs.shape[0]\n",
    "        \n",
    "        # 현재 디코더의 히든 상태(hidden state)를 src_len만큼 반복\n",
    "        hidden = hidden.unsqueeze(1).repeat(1, src_len, 1)\n",
    "        enc_outputs = enc_outputs.permute(1, 0, 2)\n",
    "        \n",
    "        # energy: [배치 크기, 피처 개수, 디코더 히든 차원]\n",
    "        energy = torch.tanh(self.attn(torch.cat((hidden, enc_outputs), dim=2)))\n",
    "        \n",
    "        # attention: [배치 크기, 피처 개수]: 피처에 대한 어텐선(attention) 값들\n",
    "        attention = self.v(energy).squeeze(2)\n",
    "        \n",
    "        return F.softmax(attention, dim=1)"
   ]
  },
  {
   "cell_type": "markdown",
   "id": "73b497e4-384e-4efd-b025-b95d1ea985da",
   "metadata": {},
   "source": [
    "### AttentionDecoder"
   ]
  },
  {
   "cell_type": "code",
   "execution_count": null,
   "id": "731f3357-c380-4219-9b07-5bedb4f71719",
   "metadata": {},
   "outputs": [],
   "source": [
    "class AttentionDecoder(nn.Module):\n",
    "    def __init__(self, decoder_input_size, enc_hidden_dim, dec_hidden_dim, output_size, batch_size, dropout_p=0.1):\n",
    "        super(AttnDecoder, self).__init__()\n",
    "        self.decoder_input_size = decoder_input_size\n",
    "        \n",
    "        self.attention = attention \n",
    "        \n",
    "        self.enc_hidden_dim = enc_hidden_dim\n",
    "        self.dec_hidden_dim = dec_hidden_dim\n",
    "        \n",
    "        self.output_size = output_size\n",
    "        self.batch_size = batch_size\n",
    "        self.dropout_p = dropout_p\n",
    "        \n",
    "        self.gru = nn.GRU(decoder_input_size,hidden_size,batch_first=True)\n",
    "        self.out = nn.Linear((self.enc_hidden_dim  + self.dec_hidden_dim), self.output_size)\n",
    "        \n",
    "    def forward(self, input, hidden, enc_outputs):\n",
    "        # input : [배치크기, 레이어 개수, 피처개수(2,위도, 경도)]\n",
    "        # hidden : [레이어 개수, 배치 크기, 히든 차원 ] - 수정? \n",
    "        # enc_outputs: [피처 개수(8), 배치 크기, 인코더 히든 차원 * 방향의 수]: 전체 태풍의 출력 정보\n",
    "        \n",
    "        #피처 개수는 항상 1개이도록 구현 한다.\n",
    "        input = input.squeeze(0) \n",
    "        \n",
    "        #attention : [배치 크기 , 피처 개수] : 각 피처에 대한 어텐션 값들 \n",
    "        attention = self.attention(hidden, enc_outputs)\n",
    "        \n",
    "        attention = attention.squeeze(1)\n",
    "        \n",
    "        #enc_outputs [배치 크기, 피처 개수, 인코더 히든 차원 * 방향의 수] : 전체 태풍의 출력 정보 \n",
    "        enc_outputs = enc_outputs.permute(1,0,2) # 텐서의 차원 순서 변경 \n",
    "        \n",
    "        # weighted: [배치 크기, 레이어 개수, 인코더 히든 차원 * 방향의 수]\n",
    "        weighted = torch.bmm(attention, enc_outputs) # 행렬 곱 함수 \n",
    "        \n",
    "        # weighted: [레이어 개수, 배치 크기, 인코더 히든 차원 * 방향의 수]\n",
    "        weighted = weighted.permute(1,0,2)\n",
    "        \n",
    "        # decoder_input : [1, 배치 크기, 인코더 히든 차원 * 방향의 수 ] : 어텐션이 적용된 현재 위도,경도 정보\n",
    "        decoder_input = torch.cat((input, weighted), dim = 2) \n",
    "        \n",
    "        \n",
    "        #output: [피처 개수, 배치 크기, 디코더 히든 차원 * 방향의 수]\n",
    "        # hidden: [레이어 개수 * 방향의 수, 배치 크기, 디코더 히든 차원]: 현재까지의 모든 위도, 경도 정보\n",
    "        output, hidden = self.gru(decoder_input, hidden.unsqueeze(0))\n",
    "        \n",
    "        ouput = output.squeeze(0)\n",
    "        weighted = weighted.squeeze(0)\n",
    "        \n",
    "        prediction = self.out(torch.cat((output,weighted), dim = 1))\n",
    "        \n",
    "        return prediction , hidden.squeeze(0)\n",
    "        "
   ]
  },
  {
   "cell_type": "markdown",
   "id": "f0efc277-aa12-435d-b82f-17f1d84641eb",
   "metadata": {},
   "source": [
    "### Decoder"
   ]
  },
  {
   "cell_type": "code",
   "execution_count": 111,
   "id": "0ea27618-0070-486b-8dbd-ce24f4632e27",
   "metadata": {},
   "outputs": [],
   "source": [
    "class DecoderRNN(nn.Module):\n",
    "    def __init__(self, output_size, hidden_size, num_layer, batch_size):\n",
    "        super(DecoderRNN, self).__init__()\n",
    "        self.output_size = output_size\n",
    "        self.hidden_size = hidden_size\n",
    "        self.batch_size = batch_size\n",
    "        self.num_layer = num_layer\n",
    "        \n",
    "        self.gru = nn.GRU(output_size, hidden_size,num_layer, batch_first=True)\n",
    "        \n",
    "        self.fc1 = nn.Linear(hidden_size, hidden_size)\n",
    "        \n",
    "        self.fc2 = nn.Linear(hidden_size, output_size)\n",
    "        \n",
    "        self.ln = nn.LayerNorm(hidden_size)\n",
    "        \n",
    "        self.relu = nn.ReLU(True)\n",
    "        \n",
    "        self.dropout = nn.Dropout(0.3)\n",
    "        \n",
    "        self.bn = nn.InstanceNorm1d(hidden_size)\n",
    "        \n",
    "        #self.bn = nn.BatchNorm1d(hidden_size)\n",
    "        \n",
    "    def forward(self, input, hidden):\n",
    "        \n",
    "        output, hidden = self.gru(input, hidden)\n",
    "        \n",
    "        # hidden = self.ln(hidden)\n",
    "        output = self.ln(output)\n",
    "        \n",
    "        output = self.relu(self.bn(self.fc1(output)))\n",
    "        \n",
    "        output = self.dropout(output)\n",
    "        \n",
    "        output = self.fc2(output)\n",
    "        \n",
    "        output = self.relu(output)\n",
    "        \n",
    "        return output, hidden\n",
    "    \n",
    "    def initHidden(self, num_layer, batch_size):\n",
    "        return torch.zeros(num_layer,batch_size,self.hidden_size)"
   ]
  },
  {
   "cell_type": "markdown",
   "id": "5779bf90-4f01-4444-b8e2-17f8185d642d",
   "metadata": {},
   "source": [
    "## Bi"
   ]
  },
  {
   "cell_type": "markdown",
   "id": "c37d92b3-9de4-4b30-ab31-6e7066d25507",
   "metadata": {},
   "source": [
    "### Linear"
   ]
  },
  {
   "cell_type": "code",
   "execution_count": 114,
   "id": "0e0604b4-8996-415d-acce-39b68e2e1bc2",
   "metadata": {},
   "outputs": [],
   "source": [
    "encoder = EncoderRNN(input_size, hidden_size, num_layer, batch_size)\n",
    "decoder = DecoderRNN(output_size, hidden_size, num_layer, batch_size)"
   ]
  },
  {
   "cell_type": "code",
   "execution_count": 115,
   "id": "034d694c-a07a-462b-9003-127e0b8d6126",
   "metadata": {},
   "outputs": [
    {
     "data": {
      "text/plain": [
       "EncoderRNN(\n",
       "  (gru): GRU(8, 128, num_layers=2, batch_first=True)\n",
       "  (ln): LayerNorm((128,), eps=1e-05, elementwise_affine=True)\n",
       "  (dropout): Dropout(p=0.3, inplace=False)\n",
       ")"
      ]
     },
     "execution_count": 115,
     "metadata": {},
     "output_type": "execute_result"
    }
   ],
   "source": [
    "encoder"
   ]
  },
  {
   "cell_type": "code",
   "execution_count": 116,
   "id": "912aa7ef-cad4-4163-89f5-c22ccf26fe94",
   "metadata": {},
   "outputs": [
    {
     "data": {
      "text/plain": [
       "DecoderRNN(\n",
       "  (gru): GRU(2, 128, num_layers=2, batch_first=True)\n",
       "  (fc1): Linear(in_features=128, out_features=128, bias=True)\n",
       "  (fc2): Linear(in_features=128, out_features=2, bias=True)\n",
       "  (ln): LayerNorm((128,), eps=1e-05, elementwise_affine=True)\n",
       "  (relu): ReLU(inplace=True)\n",
       "  (dropout): Dropout(p=0.3, inplace=False)\n",
       "  (bn): InstanceNorm1d(128, eps=1e-05, momentum=0.1, affine=False, track_running_stats=False)\n",
       ")"
      ]
     },
     "execution_count": 116,
     "metadata": {},
     "output_type": "execute_result"
    }
   ],
   "source": [
    "decoder"
   ]
  },
  {
   "cell_type": "code",
   "execution_count": 117,
   "id": "a787a1d0-d85e-4d81-8dcc-88289be40088",
   "metadata": {},
   "outputs": [],
   "source": [
    "def mse_loss(data, target, ignored_index):\n",
    "    mask = (target == ignored_index)\n",
    "    o_loss = nn.MSELoss(reduction = 'mean')\n",
    "    m_data = data[~mask]\n",
    "    m_target = target[~mask]\n",
    "    loss = o_loss(m_data, m_target)\n",
    "    return loss"
   ]
  },
  {
   "cell_type": "code",
   "execution_count": null,
   "id": "46fe398f-0859-4e8a-b121-2e5ee2994dd6",
   "metadata": {},
   "outputs": [],
   "source": [
    "batch_size = 32\n",
    "input_size = 8\n",
    "hidden_size = 128\n",
    "num_layer = 2\n",
    "output_size = 2\n",
    "MAX_LENGTH = 74\n",
    "# embedding_size = 32"
   ]
  },
  {
   "cell_type": "code",
   "execution_count": 182,
   "id": "4d795815-2bae-462a-aeed-25e2cb0313de",
   "metadata": {
    "tags": []
   },
   "outputs": [
    {
     "data": {
      "application/vnd.jupyter.widget-view+json": {
       "model_id": "21913aaa162344d696a8af7515ef451c",
       "version_major": 2,
       "version_minor": 0
      },
      "text/plain": [
       "  0%|          | 0/200 [00:00<?, ?it/s]"
      ]
     },
     "metadata": {},
     "output_type": "display_data"
    },
    {
     "name": "stdout",
     "output_type": "stream",
     "text": [
      "encoder hidden size  :  128\n",
      "34\n",
      "encoder hiddens :  torch.Size([34, 128])\n",
      "encoder hidden :  torch.Size([2, 32, 128])\n"
     ]
    },
    {
     "ename": "IndexError",
     "evalue": "index 43 is out of bounds for dimension 0 with size 34",
     "output_type": "error",
     "traceback": [
      "\u001b[1;31m---------------------------------------------------------------------------\u001b[0m",
      "\u001b[1;31mIndexError\u001b[0m                                Traceback (most recent call last)",
      "Input \u001b[1;32mIn [182]\u001b[0m, in \u001b[0;36m<cell line: 21>\u001b[1;34m()\u001b[0m\n\u001b[0;32m     46\u001b[0m \u001b[38;5;28;01mfor\u001b[39;00m ei \u001b[38;5;129;01min\u001b[39;00m \u001b[38;5;28mrange\u001b[39m(input_length):\n\u001b[0;32m     47\u001b[0m     encoder_output, encoder_hidden \u001b[38;5;241m=\u001b[39m encoder(data[:,ei,:]\u001b[38;5;241m.\u001b[39mreshape(label\u001b[38;5;241m.\u001b[39mshape[\u001b[38;5;241m0\u001b[39m],\u001b[38;5;241m1\u001b[39m,\u001b[38;5;241m-\u001b[39m\u001b[38;5;241m1\u001b[39m), encoder_hidden)\n\u001b[1;32m---> 48\u001b[0m     encoder_hiddens[i] \u001b[38;5;241m=\u001b[39m encoder_hidden[\u001b[38;5;241m0\u001b[39m]\n\u001b[0;32m     50\u001b[0m \u001b[38;5;66;03m# Decoder_init\u001b[39;00m\n\u001b[0;32m     51\u001b[0m d_input \u001b[38;5;241m=\u001b[39m torch\u001b[38;5;241m.\u001b[39mzeros((label\u001b[38;5;241m.\u001b[39mshape[\u001b[38;5;241m0\u001b[39m],\u001b[38;5;241m1\u001b[39m,\u001b[38;5;241m2\u001b[39m))\u001b[38;5;241m.\u001b[39mto(device)\n",
      "\u001b[1;31mIndexError\u001b[0m: index 43 is out of bounds for dimension 0 with size 34"
     ]
    }
   ],
   "source": [
    "epoch = 200\n",
    "teacher_forcing_ratio = 0.5\n",
    "learning_rate = 0.001\n",
    "# embeder = Emb(hidden_size, output_size)\n",
    "encoder.to(device)\n",
    "decoder.to(device)\n",
    "# embeder.to(device)\n",
    "encoder_optimizer = optim.Adam(encoder.parameters(), lr = learning_rate)\n",
    "decoder_optimizer = optim.Adam(decoder.parameters(), lr = learning_rate)\n",
    "# embeder_optimizer = optim.Adam(embeder.parameters(), lr = learning_rate)\n",
    "# scheduler1 = optim.lr_scheduler.StepLR(encoder_optimizer,step_size=400,gamma=0.1,verbose=True)\n",
    "# scheduler2 = optim.lr_scheduler.StepLR(decoder_optimizer,step_size=400,gamma=0.1,verbose=True)\n",
    "\n",
    "criterion = mse_loss\n",
    "\n",
    "# Save training loss\n",
    "train_loss = torch.zeros(epoch)\n",
    "valid_loss_min = np.Inf\n",
    "# Save validation loss\n",
    "valid_loss = torch.zeros(epoch)\n",
    "for e in trange(epoch):\n",
    "    encoder.train()\n",
    "    decoder.train()\n",
    "    for data, label in train_loader:\n",
    "        data, label = data.to(device), label.to(device)\n",
    "        # print(type(data))\n",
    "\n",
    "        encoder_hidden = encoder.initHidden(num_layer,label.shape[0])\n",
    "        encoder_hidden = encoder_hidden.to(device)\n",
    "        \n",
    "        encoder_optimizer.zero_grad()\n",
    "        decoder_optimizer.zero_grad()\n",
    "        # embeder_optimizer.zero_grad()\n",
    "        \n",
    "        input_length = data.size(1)\n",
    "        target_length = label.size(1)\n",
    "        \n",
    "        print(\"encoder hidden size  : \",encoder.hidden_size)\n",
    "        \n",
    "        encoder_hiddens = torch.zeros(input_length, encoder.hidden_size).to(device) # attention weight calcul \n",
    "        print(input_length)\n",
    "        print(\"encoder hiddens : \" , encoder_hiddens.shape) # num_layer, batch_size, hidden_size \n",
    "        \n",
    "        print(\"encoder hidden : \" , encoder_hidden.shape)\n",
    "        # Encoder\n",
    "        for ei in range(input_length):\n",
    "            encoder_output, encoder_hidden = encoder(data[:,ei,:].reshape(label.shape[0],1,-1), encoder_hidden)\n",
    "            encoder_hiddens[i] = encoder_hidden[0]\n",
    "        \n",
    "        # Decoder_init\n",
    "        d_input = torch.zeros((label.shape[0],1,2)).to(device)\n",
    "        decoder_input = label[:,0,:].reshape(label.shape[0],1,-1)#d_input\n",
    "        # print(decoder_input.shape)\n",
    "        decoder_hidden = encoder_hidden\n",
    "        # print(decoder_hidden.shape)\n",
    "        \n",
    "        # Decoder\n",
    "        for di in range(1,target_length):\n",
    "            # print(decoder_input.size(), decoder_hidden.size())\n",
    "            # print(decoder_input.size(), decoder_hidden.size())\n",
    "            decoder_output, decoder_hidden = decoder(decoder_input,decoder_hidden)\n",
    "            \n",
    "            # print(decoder_input[:,di,:].shape, label[:,di,:].reshape(1,1,-1).shape)\n",
    "            # output = embeder(decoder_output)\n",
    "            # print(output.shape)\n",
    "            # teacher_force = random.random() < teacher_forcing_ratio\n",
    "            loss=criterion(decoder_output, label[:,di,:].reshape(label.shape[0],1,-1),ignored_index=10)\n",
    "            decoder_input = label[:,di,:].reshape(label.shape[0],1,-1) #if teacher_force else decoder_output\n",
    "            # print(decoder_output.shape)\n",
    "            train_loss[e] += loss.item()\n",
    "        loss.backward(retain_graph = True)\n",
    "        encoder_optimizer.step()\n",
    "        decoder_optimizer.step()\n",
    "        # embeder_optimizer.step()\n",
    "    train_loss[e] /= len(train_loader)\n",
    "\n",
    "    with torch.no_grad():\n",
    "        encoder.eval()\n",
    "        decoder.eval()\n",
    "        # embeder.eval()\n",
    "        for data, label in valid_loader:\n",
    "            data, label = data.to(device), label.to(device)\n",
    "            \n",
    "            encoder_hidden = encoder.initHidden(num_layer,label.shape[0])\n",
    "            encoder_hidden = encoder_hidden.to(device)\n",
    "\n",
    "            # encoder_optimizer.zero_grad()\n",
    "            # decoder_optimizer.zero_grad()\n",
    "            # embeder_optimizer.zero_grad()\n",
    "\n",
    "            input_length = data.size(1)\n",
    "            target_length = label.size(1)\n",
    "\n",
    "            # encoder_outputs = torch.zeros(MAX_LENGTH, encoder.hidden_size).to(device)\n",
    "\n",
    "            for ei in range(input_length):\n",
    "                \n",
    "                # print(data.size(), encoder_hidden.size())\n",
    "                encoder_output, encoder_hidden = encoder(data[:,ei,:].reshape(label.shape[0],1,-1), encoder_hidden)\n",
    "                # print(1)\n",
    "                # encoder_outputs[ei] += encoder_output[0,0]\n",
    "\n",
    "            d_input = torch.zeros((label.shape[0],1,2)).to(device)\n",
    "            decoder_input = label[:,0,:].reshape(label.shape[0],1,-1)\n",
    "            decoder_hidden = encoder_hidden\n",
    "\n",
    "            for di in range(1,target_length):\n",
    "                \n",
    "                decoder_output, decoder_hidden = decoder(decoder_input,decoder_hidden)\n",
    "                # print(decoder_output.shape, decoder_hidden.shape, label.shape)\n",
    "                # output = embeder(decoder_output)\n",
    "                # teacher_force = random.random() < teacher_forcing_ratio\n",
    "                loss=criterion(decoder_output, label[:,di,:].reshape(label.shape[0],1,-1),ignored_index=10)\n",
    "                decoder_input = label[:,di,:].reshape(label.shape[0],1,-1)# if teacher_force else decoder_output\n",
    "                valid_loss[e] += loss.item()\n",
    "        valid_loss[e] /= len(valid_loader)\n",
    "        # scheduler1.step()\n",
    "        # scheduler2.step()\n",
    "    print(f'Epoch : {e},\\ttrain_loss : {train_loss[e]}\\tvalid_loss :{valid_loss[e]}')\n",
    "    if (valid_loss[e] <= valid_loss_min):\n",
    "        print(f'**********Valid loss decreased ({valid_loss_min:.6f} ==> {valid_loss[e]:.6f})**********')\n",
    "        valid_loss_min = valid_loss[e]\n",
    "        torch.save(encoder.state_dict(),'Encoder{}.pt'.format(e))\n",
    "        torch.save(decoder.state_dict(),'Decoder{}.pt'.format(e))"
   ]
  },
  {
   "cell_type": "code",
   "execution_count": 119,
   "id": "8f02b1c1-2ff0-4d2c-8dd7-8c9ee6334f74",
   "metadata": {},
   "outputs": [
    {
     "data": {
      "text/plain": [
       "([<matplotlib.lines.Line2D at 0x20950f4e4f0>],\n",
       " [<matplotlib.lines.Line2D at 0x20950f4ed60>])"
      ]
     },
     "execution_count": 119,
     "metadata": {},
     "output_type": "execute_result"
    },
    {
     "data": {
      "image/png": "[encoded data removed]",
      "text/plain": [
       "<Figure size 432x288 with 1 Axes>"
      ]
     },
     "metadata": {
      "needs_background": "light"
     },
     "output_type": "display_data"
    }
   ],
   "source": [
    "plt.plot(train_loss),plt.plot(valid_loss)"
   ]
  },
  {
   "cell_type": "code",
   "execution_count": 120,
   "id": "c709c17f-146a-496f-8b25-96b68c005857",
   "metadata": {},
   "outputs": [
    {
     "data": {
      "text/plain": [
       "[<matplotlib.lines.Line2D at 0x20966d7f700>]"
      ]
     },
     "execution_count": 120,
     "metadata": {},
     "output_type": "execute_result"
    },
    {
     "data": {
      "image/png": "[encoded data removed]",
      "text/plain": [
       "<Figure size 432x288 with 1 Axes>"
      ]
     },
     "metadata": {
      "needs_background": "light"
     },
     "output_type": "display_data"
    }
   ],
   "source": [
    "plt.plot(train_loss)"
   ]
  },
  {
   "cell_type": "code",
   "execution_count": 121,
   "id": "10b3c493-ff2c-4cd3-8b2a-ef58486f5684",
   "metadata": {},
   "outputs": [
    {
     "data": {
      "text/plain": [
       "[<matplotlib.lines.Line2D at 0x209674a7790>]"
      ]
     },
     "execution_count": 121,
     "metadata": {},
     "output_type": "execute_result"
    },
    {
     "data": {
      "image/png": "[encoded data removed]",
      "text/plain": [
       "<Figure size 432x288 with 1 Axes>"
      ]
     },
     "metadata": {
      "needs_background": "light"
     },
     "output_type": "display_data"
    }
   ],
   "source": [
    "plt.plot(valid_loss)"
   ]
  },
  {
   "cell_type": "code",
   "execution_count": 122,
   "id": "6402cd02-6126-464d-b712-86f6d67cd6b8",
   "metadata": {},
   "outputs": [],
   "source": [
    "Hin_X = Hin.drop(['위도(N)','경도(E)'],axis=1)\n",
    "Hin_Y = pd.concat([Hin['위도(N)'],Hin['경도(E)']],axis=1)\n",
    "\n",
    "Megi_X = Megi.drop(['위도(N)','경도(E)'],axis=1)\n",
    "Megi_Y = pd.concat([Megi['위도(N)'],Megi['경도(E)']],axis=1)"
   ]
  },
  {
   "cell_type": "code",
   "execution_count": 123,
   "id": "991ccc0d-3ded-4e3c-8d80-374fe5f3d21d",
   "metadata": {},
   "outputs": [],
   "source": [
    "for j in ['중심기압','초속(m/s)','시속(km/h)','강풍반경(km)[예외반경]','이동속도(km/h)']:\n",
    "        Hin_X[j] = (Hin_X[j] - minmax[j][0])/(minmax[j][1] - minmax[j][0])\n",
    "        Megi_X[j] = (Megi_X[j] - minmax[j][0])/(minmax[j][1] - minmax[j][0])"
   ]
  },
  {
   "cell_type": "code",
   "execution_count": 124,
   "id": "aab20a29-6de9-465e-8cb4-a8e99b586d1f",
   "metadata": {},
   "outputs": [],
   "source": [
    "for j in ['위도(N)','경도(E)']:\n",
    "    Hin_Y[j] = (Hin_Y[j] - minmax[j][0])/(minmax[j][1] - minmax[j][0])\n",
    "    Megi_Y[j] = (Megi_Y[j] - minmax[j][0])/(minmax[j][1] - minmax[j][0])"
   ]
  },
  {
   "cell_type": "code",
   "execution_count": 125,
   "id": "ca6ce196-97d0-445d-bbb0-7464e9941b4b",
   "metadata": {},
   "outputs": [],
   "source": [
    "Hin_X=Hin_X.values.reshape(-1,44,8).astype(np.float32)\n",
    "Megi_X=Megi_X.values.reshape(-1,9,8).astype(np.float32)\n",
    "Hin_Y=Hin_Y.values.reshape(-1,44,2).astype(np.float32)\n",
    "Megi_Y=Megi_Y.values.reshape(-1,9,2).astype(np.float32)"
   ]
  },
  {
   "cell_type": "code",
   "execution_count": 126,
   "id": "a7733c30-8511-4163-b333-29b7fcdb0754",
   "metadata": {},
   "outputs": [],
   "source": [
    "Hin_X = torch.tensor(Hin_X, dtype=torch.float32)\n",
    "Megi_X = torch.tensor(Megi_X, dtype=torch.float32)\n",
    "Hin_Y = torch.tensor(Hin_Y, dtype=torch.float32)\n",
    "decoder_inputg = Hin_Y[:,0,:].to(device)\n",
    "Megi_Y = torch.tensor(Megi_Y, dtype=torch.float32)\n",
    "decoder_inputm = Megi_Y[:,0,:].to(device)"
   ]
  },
  {
   "cell_type": "code",
   "execution_count": 127,
   "id": "a40a05f3-eb3e-49c9-addb-51448b5da901",
   "metadata": {},
   "outputs": [
    {
     "data": {
      "text/plain": [
       "torch.Size([1, 44, 8])"
      ]
     },
     "execution_count": 127,
     "metadata": {},
     "output_type": "execute_result"
    }
   ],
   "source": [
    "Hin_X.shape"
   ]
  },
  {
   "cell_type": "code",
   "execution_count": 157,
   "id": "3450a4a7-d30a-4774-af16-f304ad923ec0",
   "metadata": {},
   "outputs": [
    {
     "data": {
      "text/plain": [
       "'C:\\\\Users\\\\asy10\\\\Desktop\\\\캡스톤\\\\typhoon_pt'"
      ]
     },
     "execution_count": 157,
     "metadata": {},
     "output_type": "execute_result"
    }
   ],
   "source": [
    "pwd"
   ]
  },
  {
   "cell_type": "code",
   "execution_count": 158,
   "id": "9709b56b-39fb-4258-aa7e-56521a3e974f",
   "metadata": {},
   "outputs": [
    {
     "data": {
      "text/plain": [
       "<All keys matched successfully>"
      ]
     },
     "execution_count": 158,
     "metadata": {},
     "output_type": "execute_result"
    }
   ],
   "source": [
    "# encoder = EncoderRNN(input_size,hidden_size,batch_size)\n",
    "# decoder = DecoderRNN()\n",
    "encoder.load_state_dict(torch.load('../Encoder94.pt'))\n",
    "decoder.load_state_dict(torch.load('../Decoder94.pt'))"
   ]
  },
  {
   "cell_type": "code",
   "execution_count": 159,
   "id": "9c92657f-a421-4010-93ec-1544c6c68bba",
   "metadata": {},
   "outputs": [],
   "source": [
    "Hin_X = Hin_X.to(device)\n",
    "hid = encoder.initHidden(2,1)\n",
    "hid = hid.to(device)\n",
    "# encoder_outputs = torch.zeros(MAX_LENGTH, encoder.hidden_size).to(device)\n",
    "decode_path = []\n",
    "# given_path = []\n",
    "for i in range(Hin_X.shape[1]):\n",
    "    out, hidden = encoder(Hin_X[:,i,:].reshape(1,1,-1),hid)\n",
    "    # given_path.append(Hin_Y[:,i,:].reshap(1,1,-1))\n",
    "    # encoder_outputs[i] += out[0,0]\n",
    "d_input = torch.zeros((1,1,2)).to(device)\n",
    "decoder_input = decoder_inputg.reshape(1,-1,2) #d_input\n",
    "decode_path.append(decoder_input)\n",
    "decoder_hidden = hidden\n",
    "\n",
    "# decode_path.append(decoder_input)\n",
    "for i in range(1,Hin_X.shape[1]):\n",
    "    decoder_output , decoder_hidden = decoder(decoder_input, decoder_hidden)\n",
    "    decoder_input = Hin_Y[:,i,:].reshape(1,1,-1).to(device)#decoder_output#\n",
    "    decode_path.append(decoder_output)"
   ]
  },
  {
   "cell_type": "code",
   "execution_count": 160,
   "id": "7f722f20-a820-46eb-982f-a709f1d3bc13",
   "metadata": {},
   "outputs": [
    {
     "data": {
      "text/plain": [
       "44"
      ]
     },
     "execution_count": 160,
     "metadata": {},
     "output_type": "execute_result"
    }
   ],
   "source": [
    "len(decode_path)"
   ]
  },
  {
   "cell_type": "code",
   "execution_count": 161,
   "id": "bb842b01-2456-410a-9dc4-2fa3b801c6dc",
   "metadata": {},
   "outputs": [
    {
     "data": {
      "text/plain": [
       "0.4483333230018616"
      ]
     },
     "execution_count": 161,
     "metadata": {},
     "output_type": "execute_result"
    }
   ],
   "source": [
    "decode_path[0].squeeze()[0].item()#.to('cpu').detach().numpy()"
   ]
  },
  {
   "cell_type": "code",
   "execution_count": 162,
   "id": "081e3c8b-05cf-4e55-94b2-0ea280b39e30",
   "metadata": {},
   "outputs": [],
   "source": [
    "path_x=[]\n",
    "path_y=[]\n",
    "for i in range(len(decode_path)):\n",
    "    path_x.append(decode_path[i].squeeze()[0].item()* (minmax['위도(N)'][1] - minmax['위도(N)'][0]) + minmax['위도(N)'][0])\n",
    "    path_y.append(decode_path[i].squeeze()[1].item()* (minmax['경도(E)'][1] - minmax['경도(E)'][0]) + minmax['경도(E)'][0])"
   ]
  },
  {
   "cell_type": "code",
   "execution_count": 163,
   "id": "4c9862e8-a627-4600-924f-edcb135ca60b",
   "metadata": {},
   "outputs": [],
   "source": [
    "# path_x=[]\n",
    "# path_y=[]\n",
    "# for i in range(len(decode_path)):\n",
    "#     path_x.append(decode_path[i].squeeze()[0].item())\n",
    "#     path_y.append(decode_path[i].squeeze()[1].item())"
   ]
  },
  {
   "cell_type": "code",
   "execution_count": 164,
   "id": "51746d4d-925e-425f-8dcb-539bfd5ac2a0",
   "metadata": {},
   "outputs": [
    {
     "data": {
      "text/plain": [
       "148.4999978542328"
      ]
     },
     "execution_count": 164,
     "metadata": {},
     "output_type": "execute_result"
    }
   ],
   "source": [
    "path_y[0]"
   ]
  },
  {
   "cell_type": "code",
   "execution_count": 165,
   "id": "9a32f21a-b78e-4b8c-8812-64bd1cbc37ef",
   "metadata": {},
   "outputs": [],
   "source": [
    "path_x = pd.DataFrame(path_x)\n",
    "path_y = pd.DataFrame(path_y)"
   ]
  },
  {
   "cell_type": "code",
   "execution_count": 166,
   "id": "02ef0ae2-61d7-4462-ade5-82b26d6e1f38",
   "metadata": {},
   "outputs": [],
   "source": [
    "pred1_path = pd.concat([path_x, path_y],axis=1)"
   ]
  },
  {
   "cell_type": "code",
   "execution_count": 167,
   "id": "78fed90f-cdbe-4fbc-b584-0c842722d45f",
   "metadata": {},
   "outputs": [],
   "source": [
    "pred1_path.columns=['위도','경도']"
   ]
  },
  {
   "cell_type": "code",
   "execution_count": 168,
   "id": "4232b39e-04eb-4aac-8a9b-3d0d124d29bc",
   "metadata": {},
   "outputs": [
    {
     "data": {
      "text/html": [
       "<div>\n",
       "<style scoped>\n",
       "    .dataframe tbody tr th:only-of-type {\n",
       "        vertical-align: middle;\n",
       "    }\n",
       "\n",
       "    .dataframe tbody tr th {\n",
       "        vertical-align: top;\n",
       "    }\n",
       "\n",
       "    .dataframe thead th {\n",
       "        text-align: right;\n",
       "    }\n",
       "</style>\n",
       "<table border=\"1\" class=\"dataframe\">\n",
       "  <thead>\n",
       "    <tr style=\"text-align: right;\">\n",
       "      <th></th>\n",
       "      <th>위도</th>\n",
       "      <th>경도</th>\n",
       "    </tr>\n",
       "  </thead>\n",
       "  <tbody>\n",
       "    <tr>\n",
       "      <th>0</th>\n",
       "      <td>26.899999</td>\n",
       "      <td>148.499998</td>\n",
       "    </tr>\n",
       "    <tr>\n",
       "      <th>1</th>\n",
       "      <td>48.833063</td>\n",
       "      <td>126.323918</td>\n",
       "    </tr>\n",
       "    <tr>\n",
       "      <th>2</th>\n",
       "      <td>49.269269</td>\n",
       "      <td>120.856771</td>\n",
       "    </tr>\n",
       "    <tr>\n",
       "      <th>3</th>\n",
       "      <td>48.454463</td>\n",
       "      <td>127.850867</td>\n",
       "    </tr>\n",
       "    <tr>\n",
       "      <th>4</th>\n",
       "      <td>44.261642</td>\n",
       "      <td>138.355374</td>\n",
       "    </tr>\n",
       "    <tr>\n",
       "      <th>5</th>\n",
       "      <td>38.433198</td>\n",
       "      <td>144.743355</td>\n",
       "    </tr>\n",
       "    <tr>\n",
       "      <th>6</th>\n",
       "      <td>33.470950</td>\n",
       "      <td>146.526831</td>\n",
       "    </tr>\n",
       "    <tr>\n",
       "      <th>7</th>\n",
       "      <td>29.976861</td>\n",
       "      <td>145.363685</td>\n",
       "    </tr>\n",
       "    <tr>\n",
       "      <th>8</th>\n",
       "      <td>27.977883</td>\n",
       "      <td>143.348488</td>\n",
       "    </tr>\n",
       "    <tr>\n",
       "      <th>9</th>\n",
       "      <td>27.063485</td>\n",
       "      <td>140.832378</td>\n",
       "    </tr>\n",
       "    <tr>\n",
       "      <th>10</th>\n",
       "      <td>26.536943</td>\n",
       "      <td>138.413277</td>\n",
       "    </tr>\n",
       "    <tr>\n",
       "      <th>11</th>\n",
       "      <td>26.159842</td>\n",
       "      <td>136.190981</td>\n",
       "    </tr>\n",
       "    <tr>\n",
       "      <th>12</th>\n",
       "      <td>25.799133</td>\n",
       "      <td>134.223710</td>\n",
       "    </tr>\n",
       "    <tr>\n",
       "      <th>13</th>\n",
       "      <td>25.302851</td>\n",
       "      <td>132.477530</td>\n",
       "    </tr>\n",
       "    <tr>\n",
       "      <th>14</th>\n",
       "      <td>24.566106</td>\n",
       "      <td>130.869336</td>\n",
       "    </tr>\n",
       "    <tr>\n",
       "      <th>15</th>\n",
       "      <td>23.648583</td>\n",
       "      <td>129.498419</td>\n",
       "    </tr>\n",
       "    <tr>\n",
       "      <th>16</th>\n",
       "      <td>22.849658</td>\n",
       "      <td>128.506147</td>\n",
       "    </tr>\n",
       "    <tr>\n",
       "      <th>17</th>\n",
       "      <td>22.232659</td>\n",
       "      <td>127.900928</td>\n",
       "    </tr>\n",
       "    <tr>\n",
       "      <th>18</th>\n",
       "      <td>21.893780</td>\n",
       "      <td>127.581324</td>\n",
       "    </tr>\n",
       "    <tr>\n",
       "      <th>19</th>\n",
       "      <td>21.814606</td>\n",
       "      <td>127.385584</td>\n",
       "    </tr>\n",
       "    <tr>\n",
       "      <th>20</th>\n",
       "      <td>21.950855</td>\n",
       "      <td>127.178893</td>\n",
       "    </tr>\n",
       "    <tr>\n",
       "      <th>21</th>\n",
       "      <td>22.193103</td>\n",
       "      <td>126.961720</td>\n",
       "    </tr>\n",
       "    <tr>\n",
       "      <th>22</th>\n",
       "      <td>22.492504</td>\n",
       "      <td>126.804398</td>\n",
       "    </tr>\n",
       "    <tr>\n",
       "      <th>23</th>\n",
       "      <td>22.892568</td>\n",
       "      <td>126.721142</td>\n",
       "    </tr>\n",
       "    <tr>\n",
       "      <th>24</th>\n",
       "      <td>23.406329</td>\n",
       "      <td>126.727501</td>\n",
       "    </tr>\n",
       "    <tr>\n",
       "      <th>25</th>\n",
       "      <td>24.114427</td>\n",
       "      <td>126.859037</td>\n",
       "    </tr>\n",
       "    <tr>\n",
       "      <th>26</th>\n",
       "      <td>24.902794</td>\n",
       "      <td>126.925207</td>\n",
       "    </tr>\n",
       "    <tr>\n",
       "      <th>27</th>\n",
       "      <td>25.810697</td>\n",
       "      <td>126.980002</td>\n",
       "    </tr>\n",
       "    <tr>\n",
       "      <th>28</th>\n",
       "      <td>26.881514</td>\n",
       "      <td>127.219056</td>\n",
       "    </tr>\n",
       "    <tr>\n",
       "      <th>29</th>\n",
       "      <td>27.865802</td>\n",
       "      <td>127.375461</td>\n",
       "    </tr>\n",
       "    <tr>\n",
       "      <th>30</th>\n",
       "      <td>28.859385</td>\n",
       "      <td>127.557921</td>\n",
       "    </tr>\n",
       "    <tr>\n",
       "      <th>31</th>\n",
       "      <td>29.752192</td>\n",
       "      <td>127.779145</td>\n",
       "    </tr>\n",
       "    <tr>\n",
       "      <th>32</th>\n",
       "      <td>30.548222</td>\n",
       "      <td>128.002184</td>\n",
       "    </tr>\n",
       "    <tr>\n",
       "      <th>33</th>\n",
       "      <td>31.217637</td>\n",
       "      <td>128.268503</td>\n",
       "    </tr>\n",
       "    <tr>\n",
       "      <th>34</th>\n",
       "      <td>31.972661</td>\n",
       "      <td>128.693456</td>\n",
       "    </tr>\n",
       "    <tr>\n",
       "      <th>35</th>\n",
       "      <td>32.762661</td>\n",
       "      <td>129.250031</td>\n",
       "    </tr>\n",
       "    <tr>\n",
       "      <th>36</th>\n",
       "      <td>33.558054</td>\n",
       "      <td>129.873963</td>\n",
       "    </tr>\n",
       "    <tr>\n",
       "      <th>37</th>\n",
       "      <td>34.403937</td>\n",
       "      <td>130.554625</td>\n",
       "    </tr>\n",
       "    <tr>\n",
       "      <th>38</th>\n",
       "      <td>35.183104</td>\n",
       "      <td>131.318614</td>\n",
       "    </tr>\n",
       "    <tr>\n",
       "      <th>39</th>\n",
       "      <td>35.978712</td>\n",
       "      <td>132.261923</td>\n",
       "    </tr>\n",
       "    <tr>\n",
       "      <th>40</th>\n",
       "      <td>36.860336</td>\n",
       "      <td>133.337999</td>\n",
       "    </tr>\n",
       "    <tr>\n",
       "      <th>41</th>\n",
       "      <td>37.765843</td>\n",
       "      <td>134.380356</td>\n",
       "    </tr>\n",
       "    <tr>\n",
       "      <th>42</th>\n",
       "      <td>38.661983</td>\n",
       "      <td>135.461007</td>\n",
       "    </tr>\n",
       "    <tr>\n",
       "      <th>43</th>\n",
       "      <td>39.964099</td>\n",
       "      <td>137.002441</td>\n",
       "    </tr>\n",
       "  </tbody>\n",
       "</table>\n",
       "</div>"
      ],
      "text/plain": [
       "           위도          경도\n",
       "0   26.899999  148.499998\n",
       "1   48.833063  126.323918\n",
       "2   49.269269  120.856771\n",
       "3   48.454463  127.850867\n",
       "4   44.261642  138.355374\n",
       "5   38.433198  144.743355\n",
       "6   33.470950  146.526831\n",
       "7   29.976861  145.363685\n",
       "8   27.977883  143.348488\n",
       "9   27.063485  140.832378\n",
       "10  26.536943  138.413277\n",
       "11  26.159842  136.190981\n",
       "12  25.799133  134.223710\n",
       "13  25.302851  132.477530\n",
       "14  24.566106  130.869336\n",
       "15  23.648583  129.498419\n",
       "16  22.849658  128.506147\n",
       "17  22.232659  127.900928\n",
       "18  21.893780  127.581324\n",
       "19  21.814606  127.385584\n",
       "20  21.950855  127.178893\n",
       "21  22.193103  126.961720\n",
       "22  22.492504  126.804398\n",
       "23  22.892568  126.721142\n",
       "24  23.406329  126.727501\n",
       "25  24.114427  126.859037\n",
       "26  24.902794  126.925207\n",
       "27  25.810697  126.980002\n",
       "28  26.881514  127.219056\n",
       "29  27.865802  127.375461\n",
       "30  28.859385  127.557921\n",
       "31  29.752192  127.779145\n",
       "32  30.548222  128.002184\n",
       "33  31.217637  128.268503\n",
       "34  31.972661  128.693456\n",
       "35  32.762661  129.250031\n",
       "36  33.558054  129.873963\n",
       "37  34.403937  130.554625\n",
       "38  35.183104  131.318614\n",
       "39  35.978712  132.261923\n",
       "40  36.860336  133.337999\n",
       "41  37.765843  134.380356\n",
       "42  38.661983  135.461007\n",
       "43  39.964099  137.002441"
      ]
     },
     "execution_count": 168,
     "metadata": {},
     "output_type": "execute_result"
    }
   ],
   "source": [
    "pred1_path"
   ]
  },
  {
   "cell_type": "code",
   "execution_count": 169,
   "id": "f379b29a-90eb-4809-a444-d4bcf2bf435d",
   "metadata": {},
   "outputs": [
    {
     "data": {
      "text/html": [
       "<div>\n",
       "<style scoped>\n",
       "    .dataframe tbody tr th:only-of-type {\n",
       "        vertical-align: middle;\n",
       "    }\n",
       "\n",
       "    .dataframe tbody tr th {\n",
       "        vertical-align: top;\n",
       "    }\n",
       "\n",
       "    .dataframe thead th {\n",
       "        text-align: right;\n",
       "    }\n",
       "</style>\n",
       "<table border=\"1\" class=\"dataframe\">\n",
       "  <thead>\n",
       "    <tr style=\"text-align: right;\">\n",
       "      <th></th>\n",
       "      <th>위도</th>\n",
       "      <th>경도</th>\n",
       "    </tr>\n",
       "  </thead>\n",
       "  <tbody>\n",
       "    <tr>\n",
       "      <th>0</th>\n",
       "      <td>26.899999</td>\n",
       "      <td>148.499998</td>\n",
       "    </tr>\n",
       "    <tr>\n",
       "      <th>1</th>\n",
       "      <td>48.833063</td>\n",
       "      <td>126.323918</td>\n",
       "    </tr>\n",
       "    <tr>\n",
       "      <th>2</th>\n",
       "      <td>49.269269</td>\n",
       "      <td>120.856771</td>\n",
       "    </tr>\n",
       "    <tr>\n",
       "      <th>3</th>\n",
       "      <td>48.454463</td>\n",
       "      <td>127.850867</td>\n",
       "    </tr>\n",
       "    <tr>\n",
       "      <th>4</th>\n",
       "      <td>44.261642</td>\n",
       "      <td>138.355374</td>\n",
       "    </tr>\n",
       "    <tr>\n",
       "      <th>5</th>\n",
       "      <td>38.433198</td>\n",
       "      <td>144.743355</td>\n",
       "    </tr>\n",
       "    <tr>\n",
       "      <th>6</th>\n",
       "      <td>33.470950</td>\n",
       "      <td>146.526831</td>\n",
       "    </tr>\n",
       "    <tr>\n",
       "      <th>7</th>\n",
       "      <td>29.976861</td>\n",
       "      <td>145.363685</td>\n",
       "    </tr>\n",
       "    <tr>\n",
       "      <th>8</th>\n",
       "      <td>27.977883</td>\n",
       "      <td>143.348488</td>\n",
       "    </tr>\n",
       "    <tr>\n",
       "      <th>9</th>\n",
       "      <td>27.063485</td>\n",
       "      <td>140.832378</td>\n",
       "    </tr>\n",
       "    <tr>\n",
       "      <th>10</th>\n",
       "      <td>26.536943</td>\n",
       "      <td>138.413277</td>\n",
       "    </tr>\n",
       "    <tr>\n",
       "      <th>11</th>\n",
       "      <td>26.159842</td>\n",
       "      <td>136.190981</td>\n",
       "    </tr>\n",
       "    <tr>\n",
       "      <th>12</th>\n",
       "      <td>25.799133</td>\n",
       "      <td>134.223710</td>\n",
       "    </tr>\n",
       "    <tr>\n",
       "      <th>13</th>\n",
       "      <td>25.302851</td>\n",
       "      <td>132.477530</td>\n",
       "    </tr>\n",
       "    <tr>\n",
       "      <th>14</th>\n",
       "      <td>24.566106</td>\n",
       "      <td>130.869336</td>\n",
       "    </tr>\n",
       "    <tr>\n",
       "      <th>15</th>\n",
       "      <td>23.648583</td>\n",
       "      <td>129.498419</td>\n",
       "    </tr>\n",
       "    <tr>\n",
       "      <th>16</th>\n",
       "      <td>22.849658</td>\n",
       "      <td>128.506147</td>\n",
       "    </tr>\n",
       "    <tr>\n",
       "      <th>17</th>\n",
       "      <td>22.232659</td>\n",
       "      <td>127.900928</td>\n",
       "    </tr>\n",
       "    <tr>\n",
       "      <th>18</th>\n",
       "      <td>21.893780</td>\n",
       "      <td>127.581324</td>\n",
       "    </tr>\n",
       "    <tr>\n",
       "      <th>19</th>\n",
       "      <td>21.814606</td>\n",
       "      <td>127.385584</td>\n",
       "    </tr>\n",
       "    <tr>\n",
       "      <th>20</th>\n",
       "      <td>21.950855</td>\n",
       "      <td>127.178893</td>\n",
       "    </tr>\n",
       "    <tr>\n",
       "      <th>21</th>\n",
       "      <td>22.193103</td>\n",
       "      <td>126.961720</td>\n",
       "    </tr>\n",
       "    <tr>\n",
       "      <th>22</th>\n",
       "      <td>22.492504</td>\n",
       "      <td>126.804398</td>\n",
       "    </tr>\n",
       "    <tr>\n",
       "      <th>23</th>\n",
       "      <td>22.892568</td>\n",
       "      <td>126.721142</td>\n",
       "    </tr>\n",
       "    <tr>\n",
       "      <th>24</th>\n",
       "      <td>23.406329</td>\n",
       "      <td>126.727501</td>\n",
       "    </tr>\n",
       "    <tr>\n",
       "      <th>25</th>\n",
       "      <td>24.114427</td>\n",
       "      <td>126.859037</td>\n",
       "    </tr>\n",
       "    <tr>\n",
       "      <th>26</th>\n",
       "      <td>24.902794</td>\n",
       "      <td>126.925207</td>\n",
       "    </tr>\n",
       "    <tr>\n",
       "      <th>27</th>\n",
       "      <td>25.810697</td>\n",
       "      <td>126.980002</td>\n",
       "    </tr>\n",
       "    <tr>\n",
       "      <th>28</th>\n",
       "      <td>26.881514</td>\n",
       "      <td>127.219056</td>\n",
       "    </tr>\n",
       "    <tr>\n",
       "      <th>29</th>\n",
       "      <td>27.865802</td>\n",
       "      <td>127.375461</td>\n",
       "    </tr>\n",
       "    <tr>\n",
       "      <th>30</th>\n",
       "      <td>28.859385</td>\n",
       "      <td>127.557921</td>\n",
       "    </tr>\n",
       "    <tr>\n",
       "      <th>31</th>\n",
       "      <td>29.752192</td>\n",
       "      <td>127.779145</td>\n",
       "    </tr>\n",
       "    <tr>\n",
       "      <th>32</th>\n",
       "      <td>30.548222</td>\n",
       "      <td>128.002184</td>\n",
       "    </tr>\n",
       "    <tr>\n",
       "      <th>33</th>\n",
       "      <td>31.217637</td>\n",
       "      <td>128.268503</td>\n",
       "    </tr>\n",
       "    <tr>\n",
       "      <th>34</th>\n",
       "      <td>31.972661</td>\n",
       "      <td>128.693456</td>\n",
       "    </tr>\n",
       "    <tr>\n",
       "      <th>35</th>\n",
       "      <td>32.762661</td>\n",
       "      <td>129.250031</td>\n",
       "    </tr>\n",
       "    <tr>\n",
       "      <th>36</th>\n",
       "      <td>33.558054</td>\n",
       "      <td>129.873963</td>\n",
       "    </tr>\n",
       "    <tr>\n",
       "      <th>37</th>\n",
       "      <td>34.403937</td>\n",
       "      <td>130.554625</td>\n",
       "    </tr>\n",
       "    <tr>\n",
       "      <th>38</th>\n",
       "      <td>35.183104</td>\n",
       "      <td>131.318614</td>\n",
       "    </tr>\n",
       "    <tr>\n",
       "      <th>39</th>\n",
       "      <td>35.978712</td>\n",
       "      <td>132.261923</td>\n",
       "    </tr>\n",
       "    <tr>\n",
       "      <th>40</th>\n",
       "      <td>36.860336</td>\n",
       "      <td>133.337999</td>\n",
       "    </tr>\n",
       "    <tr>\n",
       "      <th>41</th>\n",
       "      <td>37.765843</td>\n",
       "      <td>134.380356</td>\n",
       "    </tr>\n",
       "    <tr>\n",
       "      <th>42</th>\n",
       "      <td>38.661983</td>\n",
       "      <td>135.461007</td>\n",
       "    </tr>\n",
       "    <tr>\n",
       "      <th>43</th>\n",
       "      <td>39.964099</td>\n",
       "      <td>137.002441</td>\n",
       "    </tr>\n",
       "  </tbody>\n",
       "</table>\n",
       "</div>"
      ],
      "text/plain": [
       "           위도          경도\n",
       "0   26.899999  148.499998\n",
       "1   48.833063  126.323918\n",
       "2   49.269269  120.856771\n",
       "3   48.454463  127.850867\n",
       "4   44.261642  138.355374\n",
       "5   38.433198  144.743355\n",
       "6   33.470950  146.526831\n",
       "7   29.976861  145.363685\n",
       "8   27.977883  143.348488\n",
       "9   27.063485  140.832378\n",
       "10  26.536943  138.413277\n",
       "11  26.159842  136.190981\n",
       "12  25.799133  134.223710\n",
       "13  25.302851  132.477530\n",
       "14  24.566106  130.869336\n",
       "15  23.648583  129.498419\n",
       "16  22.849658  128.506147\n",
       "17  22.232659  127.900928\n",
       "18  21.893780  127.581324\n",
       "19  21.814606  127.385584\n",
       "20  21.950855  127.178893\n",
       "21  22.193103  126.961720\n",
       "22  22.492504  126.804398\n",
       "23  22.892568  126.721142\n",
       "24  23.406329  126.727501\n",
       "25  24.114427  126.859037\n",
       "26  24.902794  126.925207\n",
       "27  25.810697  126.980002\n",
       "28  26.881514  127.219056\n",
       "29  27.865802  127.375461\n",
       "30  28.859385  127.557921\n",
       "31  29.752192  127.779145\n",
       "32  30.548222  128.002184\n",
       "33  31.217637  128.268503\n",
       "34  31.972661  128.693456\n",
       "35  32.762661  129.250031\n",
       "36  33.558054  129.873963\n",
       "37  34.403937  130.554625\n",
       "38  35.183104  131.318614\n",
       "39  35.978712  132.261923\n",
       "40  36.860336  133.337999\n",
       "41  37.765843  134.380356\n",
       "42  38.661983  135.461007\n",
       "43  39.964099  137.002441"
      ]
     },
     "execution_count": 169,
     "metadata": {},
     "output_type": "execute_result"
    }
   ],
   "source": [
    "pred1_path"
   ]
  },
  {
   "cell_type": "code",
   "execution_count": 170,
   "id": "b375a1f4-fdc4-4c59-90f0-2ddfe1643f69",
   "metadata": {
    "tags": []
   },
   "outputs": [
    {
     "data": {
      "text/plain": [
       "tensor([[[0.1817, 0.3989],\n",
       "         [0.1817, 0.3933],\n",
       "         [0.1833, 0.3911],\n",
       "         [0.1833, 0.3889],\n",
       "         [0.1833, 0.3867],\n",
       "         [0.1833, 0.3833],\n",
       "         [0.1883, 0.3844],\n",
       "         [0.1850, 0.3889],\n",
       "         [0.1850, 0.3978]]])"
      ]
     },
     "execution_count": 170,
     "metadata": {},
     "output_type": "execute_result"
    }
   ],
   "source": [
    "Megi_Y"
   ]
  },
  {
   "cell_type": "code",
   "execution_count": 171,
   "id": "0a1fd0e0-a3a2-433f-bc75-bcd4a86aadf6",
   "metadata": {},
   "outputs": [
    {
     "name": "stderr",
     "output_type": "stream",
     "text": [
      "C:\\Users\\asy10\\Anaconda3\\lib\\site-packages\\pandas\\core\\dtypes\\cast.py:118: ShapelyDeprecationWarning: The array interface is deprecated and will no longer work in Shapely 2.0. Convert the '.coords' to a numpy array instead.\n",
      "  arr = construct_1d_object_array_from_listlike(values)\n"
     ]
    },
    {
     "data": {
      "text/plain": [
       "<AxesSubplot:>"
      ]
     },
     "execution_count": 171,
     "metadata": {},
     "output_type": "execute_result"
    },
    {
     "data": {
      "image/png": "[encoded data removed]",
      "text/plain": [
       "<Figure size 1440x1440 with 1 Axes>"
      ]
     },
     "metadata": {
      "needs_background": "light"
     },
     "output_type": "display_data"
    }
   ],
   "source": [
    "gdf_path = gpd.GeoDataFrame(pred1_path, geometry=gpd.points_from_xy(pred1_path[:]['경도'],pred1_path[:]['위도']), crs='epsg:4326')\n",
    "line_geometry = LineString(gdf_path[\"geometry\"])\n",
    "df_path_line = pd.DataFrame({'geometry' : [line_geometry]})\n",
    "gdf_path_line = gpd.GeoDataFrame(df_path_line, geometry=df_path_line.geometry)\n",
    "world = gpd.read_file(gpd.datasets.get_path('naturalearth_lowres'))\n",
    "basemap = world.loc[world['name'].isin(['South Korea', 'North Korea','Japan', 'China', 'Philippines','Taiwan'])]\n",
    "ax = basemap.plot(figsize=(20,20), color='whitesmoke', edgecolor='black', linewidth=1)\n",
    "ax.axis('off')\n",
    "gdf_path_line.plot(ax=ax, linewidth=1., color='blue', zorder=1)"
   ]
  },
  {
   "cell_type": "code",
   "execution_count": 172,
   "id": "0b601172-3b34-4815-b016-fc4c5b95a35f",
   "metadata": {},
   "outputs": [
    {
     "name": "stderr",
     "output_type": "stream",
     "text": [
      "C:\\Users\\asy10\\Anaconda3\\lib\\site-packages\\pandas\\core\\dtypes\\cast.py:118: ShapelyDeprecationWarning: The array interface is deprecated and will no longer work in Shapely 2.0. Convert the '.coords' to a numpy array instead.\n",
      "  arr = construct_1d_object_array_from_listlike(values)\n"
     ]
    },
    {
     "data": {
      "text/plain": [
       "<AxesSubplot:>"
      ]
     },
     "execution_count": 172,
     "metadata": {},
     "output_type": "execute_result"
    },
    {
     "data": {
      "image/png": "[encoded data removed]",
      "text/plain": [
       "<Figure size 1440x1440 with 1 Axes>"
      ]
     },
     "metadata": {
      "needs_background": "light"
     },
     "output_type": "display_data"
    }
   ],
   "source": [
    "gdf_path = gpd.GeoDataFrame(pred1_path, geometry=gpd.points_from_xy(pred1_path[:]['경도'],pred1_path[:]['위도']), crs='epsg:4326')\n",
    "line_geometry = LineString(gdf_path[\"geometry\"])\n",
    "df_path_line = pd.DataFrame({'geometry' : [line_geometry]})\n",
    "gdf_path_line = gpd.GeoDataFrame(df_path_line, geometry=df_path_line.geometry)\n",
    "world = gpd.read_file(gpd.datasets.get_path('naturalearth_lowres'))\n",
    "basemap = world.loc[world['name'].isin(['South Korea', 'North Korea','Japan', 'China', 'Philippines','Taiwan'])]\n",
    "ax = basemap.plot(figsize=(20,20), color='whitesmoke', edgecolor='black', linewidth=1)\n",
    "ax.axis('off')\n",
    "gdf_path_line.plot(ax=ax, linewidth=1., color='blue', zorder=1)"
   ]
  },
  {
   "cell_type": "code",
   "execution_count": 173,
   "id": "954cd737-f840-41b3-9941-71af7b7ae089",
   "metadata": {},
   "outputs": [
    {
     "ename": "IndexError",
     "evalue": "too many indices for tensor of dimension 3",
     "output_type": "error",
     "traceback": [
      "\u001b[1;31m---------------------------------------------------------------------------\u001b[0m",
      "\u001b[1;31mIndexError\u001b[0m                                Traceback (most recent call last)",
      "Input \u001b[1;32mIn [173]\u001b[0m, in \u001b[0;36m<cell line: 1>\u001b[1;34m()\u001b[0m\n\u001b[1;32m----> 1\u001b[0m gdf_path \u001b[38;5;241m=\u001b[39m gpd\u001b[38;5;241m.\u001b[39mGeoDataFrame(Hin_Y, geometry\u001b[38;5;241m=\u001b[39mgpd\u001b[38;5;241m.\u001b[39mpoints_from_xy(\u001b[43mHin_Y\u001b[49m\u001b[43m[\u001b[49m\u001b[43m:\u001b[49m\u001b[43m]\u001b[49m\u001b[43m[\u001b[49m\u001b[38;5;124;43m'\u001b[39;49m\u001b[38;5;124;43m경도(E)\u001b[39;49m\u001b[38;5;124;43m'\u001b[39;49m\u001b[43m]\u001b[49m,Hin_Y[:][\u001b[38;5;124m'\u001b[39m\u001b[38;5;124m위도(N)\u001b[39m\u001b[38;5;124m'\u001b[39m]), crs\u001b[38;5;241m=\u001b[39m\u001b[38;5;124m'\u001b[39m\u001b[38;5;124mepsg:4326\u001b[39m\u001b[38;5;124m'\u001b[39m)\n\u001b[0;32m      2\u001b[0m line_geometry \u001b[38;5;241m=\u001b[39m LineString(gdf_path[\u001b[38;5;124m\"\u001b[39m\u001b[38;5;124mgeometry\u001b[39m\u001b[38;5;124m\"\u001b[39m])\n\u001b[0;32m      3\u001b[0m df_path_line \u001b[38;5;241m=\u001b[39m pd\u001b[38;5;241m.\u001b[39mDataFrame({\u001b[38;5;124m'\u001b[39m\u001b[38;5;124mgeometry\u001b[39m\u001b[38;5;124m'\u001b[39m : [line_geometry]})\n",
      "\u001b[1;31mIndexError\u001b[0m: too many indices for tensor of dimension 3"
     ]
    }
   ],
   "source": [
    "gdf_path = gpd.GeoDataFrame(Hin_Y, geometry=gpd.points_from_xy(Hin_Y[:]['경도(E)'],Hin_Y[:]['위도(N)']), crs='epsg:4326')\n",
    "line_geometry = LineString(gdf_path[\"geometry\"])\n",
    "df_path_line = pd.DataFrame({'geometry' : [line_geometry]})\n",
    "gdf_path_line = gpd.GeoDataFrame(df_path_line, geometry=df_path_line.geometry)\n",
    "world = gpd.read_file(gpd.datasets.get_path('naturalearth_lowres'))\n",
    "basemap = world.loc[world['name'].isin(['South Korea', 'North Korea','Japan', 'China', 'Philippines','Taiwan'])]\n",
    "ax = basemap.plot(figsize=(20,20), color='whitesmoke', edgecolor='black', linewidth=1)\n",
    "ax.axis('off')\n",
    "gdf_path_line.plot(ax=ax, linewidth=1., color='b', zorder=1)"
   ]
  },
  {
   "cell_type": "code",
   "execution_count": null,
   "id": "1132bcd4-1283-4b14-b3c0-9b4512dd6c82",
   "metadata": {},
   "outputs": [],
   "source": []
  }
 ],
 "metadata": {
  "kernelspec": {
   "display_name": "Python 3 (ipykernel)",
   "language": "python",
   "name": "python3"
  },
  "language_info": {
   "codemirror_mode": {
    "name": "ipython",
    "version": 3
   },
   "file_extension": ".py",
   "mimetype": "text/x-python",
   "name": "python",
   "nbconvert_exporter": "python",
   "pygments_lexer": "ipython3",
   "version": "3.9.12"
  }
 },
 "nbformat": 4,
 "nbformat_minor": 5
}
