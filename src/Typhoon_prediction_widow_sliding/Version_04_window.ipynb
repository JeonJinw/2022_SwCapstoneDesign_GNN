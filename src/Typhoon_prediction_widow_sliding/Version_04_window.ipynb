{
 "cells": [
  {
   "cell_type": "markdown",
   "id": "9010e283-eb33-423e-8670-eda779dbceaf",
   "metadata": {},
   "source": [
    "# Typhoon Prediction Project\n",
    "* Predict the trajectory of typhoons\n",
    "    * 6h, 12h, 18h, 24h, ...\n",
    "* LSTM, GRU"
   ]
  },
  {
   "cell_type": "code",
   "execution_count": 481,
   "id": "9e1988b2-1225-42b4-8600-de1eb0aaa004",
   "metadata": {},
   "outputs": [],
   "source": [
    "import pandas as pd\n",
    "# from pandas.core.common import SettingWithCopyWarning\n",
    "import numpy as np\n",
    "import torch\n",
    "from torch.utils.data import Dataset,DataLoader\n",
    "from sklearn.preprocessing import StandardScaler, MinMaxScaler\n",
    "import matplotlib.pyplot as plt\n",
    "from tqdm.auto import tqdm, trange\n",
    "import random\n",
    "import torch\n",
    "import torch.nn as nn\n",
    "import torch.nn.functional as F\n",
    "import torch.optim as optim\n",
    "from torchinfo import summary\n",
    "from torch.nn.utils.rnn import pad_sequence\n",
    "from sklearn.metrics import mean_absolute_error, f1_score\n",
    "from sklearn.model_selection import train_test_split\n",
    "from torch.autograd import Variable\n",
    "import geopandas as gpd\n",
    "from shapely.geometry import LineString\n",
    "from torch.nn.utils.rnn import pad_sequence, pack_padded_sequence, pad_packed_sequence\n",
    "\n",
    "pd.set_option('mode.chained_assignment', None)\n",
    "train_on_gpu = torch.cuda.is_available()\n",
    "if not train_on_gpu:\n",
    "    device = 'cpu'\n",
    "    print('CUDA is not available. Training on CPU...')\n",
    "else:\n",
    "    device = 'cuda'"
   ]
  },
  {
   "cell_type": "markdown",
   "id": "30c6ac5f-615f-4ea2-a480-208fa7a27190",
   "metadata": {},
   "source": [
    "# Data PreProcessing"
   ]
  },
  {
   "cell_type": "code",
   "execution_count": 482,
   "id": "bfa9e8a0-e6f3-475f-a1b3-90e7317ba237",
   "metadata": {},
   "outputs": [],
   "source": [
    "DIR_MAP = {'북': 0, '북동':1, '북서': 2, '북북서':3, '북북동':4, '서북서':5, '서':6, '서남서':7, '동북동':8, '남서':9,'남남동':10, '동남동':11, '남남서':12, '동':13, '남':14, '남동':15, -1:-1}"
   ]
  },
  {
   "cell_type": "code",
   "execution_count": 483,
   "id": "2f1e20c0-3ece-4580-9268-0b00fbc3362b",
   "metadata": {},
   "outputs": [],
   "source": [
    "## 전처리\n",
    "def rep_nan(data):\n",
    "    data['진행방향'].fillna(-1, inplace = True)\n",
    "def drop_str(data):\n",
    "    cnt=0\n",
    "    for y,m,d,t in zip(data[\"Year\"],data[\"Month\"],data[\"Date\"],data[\"Time\"]):\n",
    "            data[\"Year\"][cnt] = y.split(\"년\")[0]\n",
    "            data[\"Month\"][cnt] = m.split(\"월\")[0]\n",
    "            data[\"Date\"][cnt] = d.split(\"일\")[0]\n",
    "            data[\"Time\"][cnt] = t.split(\"시\")[0]\n",
    "            cnt+=1\n",
    "    return data\n",
    "def str2int(data):\n",
    "    data[\"Year\"]=0\n",
    "    data[\"Month\"]=0\n",
    "    data[\"Date\"]=0\n",
    "    data[\"Time\"]=0\n",
    "    for i, element in enumerate(data[\"일시\"]):\n",
    "        data[\"Year\"][i]=element.split(' ')[0]\n",
    "        data[\"Month\"][i]=element.split(' ')[1]\n",
    "        data[\"Date\"][i]=element.split(' ')[2]\n",
    "        data[\"Time\"][i]=element.split(' ')[3]\n",
    "    return data\n",
    "def cat_1(data):\n",
    "    strength_map={}\n",
    "    for i, s in enumerate(data[\"강도\"].unique()):\n",
    "        strength_map[s] = i\n",
    "    data[\"강도\"] = data[\"강도\"].map(strength_map)\n",
    "    return data\n",
    "def cat_2(data):\n",
    "    for i, s in enumerate(data[\"크기\"]):\n",
    "        if s==\"-\":\n",
    "            data[\"크기\"][i] = 0\n",
    "        elif s==\"소형\":\n",
    "            data[\"크기\"][i] = 1\n",
    "        elif s==\"중형\":\n",
    "            data[\"크기\"][i] = 2\n",
    "        else:\n",
    "            data[\"크기\"][i] = 3\n",
    "    return data\n",
    "def dir_enc(data):\n",
    "    for i in range(len(data)):\n",
    "        data[\"진행방향\"][i] = DIR_MAP[data[\"진행방향\"][i]]\n",
    "def prepro(data):\n",
    "    idx = data[data[\"Unnamed: 1\"]!=0].index\n",
    "    data = data.drop(idx)\n",
    "    data = data.reset_index()\n",
    "    data = str2int(data)\n",
    "    drop_str(data)\n",
    "    data =cat_1(data)\n",
    "    data =cat_2(data)\n",
    "    data = data.drop([\"70% 확률 반경(km)\", \"Unnamed: 1\",\"일시\",\"index\"], axis=1)\n",
    "    rep_nan(data)\n",
    "    dir_enc(data)\n",
    "    return data\n",
    "# def prepro2(data):\n",
    "#     data = dir_enc(data)"
   ]
  },
  {
   "cell_type": "code",
   "execution_count": 484,
   "id": "62c8dad5-384c-4b48-80cf-04d3f5b5b238",
   "metadata": {},
   "outputs": [],
   "source": [
    "data_dir = \"C:/Lab/Capstone/Typhoon/tp_\"\n",
    "data = []"
   ]
  },
  {
   "cell_type": "code",
   "execution_count": 485,
   "id": "4a4dcc59-18f4-492f-b0ed-24064afd47e0",
   "metadata": {},
   "outputs": [],
   "source": [
    "## csv 순서대로읽어와서 data에 저장\n",
    "for i in range(1,529):\n",
    "    data.append(pd.read_csv(data_dir+str(i).zfill(3)+\".csv\",encoding_errors='ignore',encoding=\"cp949\"))"
   ]
  },
  {
   "cell_type": "code",
   "execution_count": 486,
   "id": "c203df35-40e7-4826-94f8-d9a480779b15",
   "metadata": {},
   "outputs": [],
   "source": [
    "Hin = data[521]\n",
    "Megi = data[512]\n",
    "del(data[521])\n",
    "del(data[512])"
   ]
  },
  {
   "cell_type": "code",
   "execution_count": 487,
   "id": "32589ea1-1c6d-4ec7-a321-e2ef3d7f75b6",
   "metadata": {},
   "outputs": [],
   "source": [
    "for i in range(len(data)):\n",
    "    data[i]=prepro(data[i])\n",
    "    #data[i].insert(0,'ID', i)\n",
    "Hin = prepro(Hin)\n",
    "Megi = prepro(Megi)\n"
   ]
  },
  {
   "cell_type": "code",
   "execution_count": 488,
   "id": "af640928-9aeb-4e7f-a548-a176f36d58f9",
   "metadata": {},
   "outputs": [],
   "source": [
    "for i in range(len(data)):\n",
    "    data[i] = data[i].drop([\"Year\",\"Month\",\"Date\",\"Time\"],axis=1)\n",
    "Hin = Hin.drop([\"Year\",\"Month\",\"Date\",\"Time\"],axis=1)\n",
    "Megi = Megi.drop([\"Year\",\"Month\",\"Date\",\"Time\"],axis=1)"
   ]
  },
  {
   "cell_type": "code",
   "execution_count": 489,
   "id": "4329538a-713b-4c5c-a3f6-4834f1ba775a",
   "metadata": {},
   "outputs": [],
   "source": [
    "for i in range(len(data)):\n",
    "    data[i] = data[i].fillna(0)"
   ]
  },
  {
   "cell_type": "code",
   "execution_count": 490,
   "id": "ec202ad8-66dd-4435-a817-3b76a8efe3c7",
   "metadata": {},
   "outputs": [
    {
     "name": "stdout",
     "output_type": "stream",
     "text": [
      "min 1.6\n",
      "max 54.0\n",
      "min 99.8\n",
      "max 180.0\n",
      "min 0\n",
      "max 1010\n",
      "min -1\n",
      "max 61\n",
      "min -4\n",
      "max 220\n",
      "min 0\n",
      "max 1480.0\n",
      "min 0.0\n",
      "max 216\n"
     ]
    }
   ],
   "source": [
    "minmax = {}\n",
    "for j in ['위도(N)','경도(E)','중심기압','초속(m/s)','시속(km/h)','강풍반경(km)[예외반경]','이동속도(km/h)']:\n",
    "    m = np.inf\n",
    "    M = -np.inf\n",
    "    for i in range(len(data)):\n",
    "        m = m if np.min(data[i][[j]].values) > m else np.min(data[i][[j]].values)\n",
    "        # if m == -1 :\n",
    "            # print(i, end = ' ')\n",
    "    for i in range(len(data)):\n",
    "        M = M if np.max(data[i][[j]].values) < M  else np.max(data[i][[j]].values)\n",
    "    minmax[j] = [m,M]\n",
    "    print('min', m)\n",
    "    print('max', M)"
   ]
  },
  {
   "cell_type": "code",
   "execution_count": 491,
   "id": "3f747aa0-510e-4712-be01-8458cfed2f09",
   "metadata": {},
   "outputs": [],
   "source": [
    "minmax['위도(N)'][0], minmax['위도(N)'][1] = 0, 60\n",
    "minmax['경도(E)'][0], minmax['경도(E)'][1] = 90, 180\n",
    "\n",
    "for i in range(len(data)):\n",
    "    for j in ['위도(N)','경도(E)','중심기압','초속(m/s)','시속(km/h)','강풍반경(km)[예외반경]','이동속도(km/h)']:\n",
    "        data[i][j] = (data[i][j] - minmax[j][0])/(minmax[j][1] - minmax[j][0])"
   ]
  },
  {
   "cell_type": "code",
   "execution_count": 492,
   "id": "650b6cb8-2a8b-4db3-98cd-34d3bd20f29b",
   "metadata": {
    "tags": []
   },
   "outputs": [
    {
     "data": {
      "text/plain": [
       "526"
      ]
     },
     "execution_count": 492,
     "metadata": {},
     "output_type": "execute_result"
    }
   ],
   "source": [
    "len(data)"
   ]
  },
  {
   "cell_type": "code",
   "execution_count": 493,
   "id": "57b9388f-8257-4355-9e04-012eacc17068",
   "metadata": {},
   "outputs": [
    {
     "data": {
      "text/html": [
       "<div>\n",
       "<style scoped>\n",
       "    .dataframe tbody tr th:only-of-type {\n",
       "        vertical-align: middle;\n",
       "    }\n",
       "\n",
       "    .dataframe tbody tr th {\n",
       "        vertical-align: top;\n",
       "    }\n",
       "\n",
       "    .dataframe thead th {\n",
       "        text-align: right;\n",
       "    }\n",
       "</style>\n",
       "<table border=\"1\" class=\"dataframe\">\n",
       "  <thead>\n",
       "    <tr style=\"text-align: right;\">\n",
       "      <th></th>\n",
       "      <th>위도(N)</th>\n",
       "      <th>경도(E)</th>\n",
       "      <th>중심기압</th>\n",
       "      <th>초속(m/s)</th>\n",
       "      <th>시속(km/h)</th>\n",
       "      <th>강풍반경(km)[예외반경]</th>\n",
       "      <th>강도</th>\n",
       "      <th>크기</th>\n",
       "      <th>진행방향</th>\n",
       "      <th>이동속도(km/h)</th>\n",
       "    </tr>\n",
       "  </thead>\n",
       "  <tbody>\n",
       "    <tr>\n",
       "      <th>0</th>\n",
       "      <td>0.300000</td>\n",
       "      <td>0.323333</td>\n",
       "      <td>0.986139</td>\n",
       "      <td>0.306452</td>\n",
       "      <td>0.308036</td>\n",
       "      <td>0.121622</td>\n",
       "      <td>0</td>\n",
       "      <td>1</td>\n",
       "      <td>0</td>\n",
       "      <td>0.069444</td>\n",
       "    </tr>\n",
       "    <tr>\n",
       "      <th>1</th>\n",
       "      <td>0.323333</td>\n",
       "      <td>0.340000</td>\n",
       "      <td>0.982178</td>\n",
       "      <td>0.387097</td>\n",
       "      <td>0.388393</td>\n",
       "      <td>0.189189</td>\n",
       "      <td>0</td>\n",
       "      <td>1</td>\n",
       "      <td>1</td>\n",
       "      <td>0.055556</td>\n",
       "    </tr>\n",
       "    <tr>\n",
       "      <th>2</th>\n",
       "      <td>0.368333</td>\n",
       "      <td>0.363333</td>\n",
       "      <td>0.980198</td>\n",
       "      <td>0.387097</td>\n",
       "      <td>0.388393</td>\n",
       "      <td>0.222973</td>\n",
       "      <td>0</td>\n",
       "      <td>2</td>\n",
       "      <td>1</td>\n",
       "      <td>0.138889</td>\n",
       "    </tr>\n",
       "  </tbody>\n",
       "</table>\n",
       "</div>"
      ],
      "text/plain": [
       "      위도(N)     경도(E)      중심기압   초속(m/s)  시속(km/h)  강풍반경(km)[예외반경]  강도  크기  \\\n",
       "0  0.300000  0.323333  0.986139  0.306452  0.308036        0.121622   0   1   \n",
       "1  0.323333  0.340000  0.982178  0.387097  0.388393        0.189189   0   1   \n",
       "2  0.368333  0.363333  0.980198  0.387097  0.388393        0.222973   0   2   \n",
       "\n",
       "   진행방향  이동속도(km/h)  \n",
       "0     0    0.069444  \n",
       "1     1    0.055556  \n",
       "2     1    0.138889  "
      ]
     },
     "execution_count": 493,
     "metadata": {},
     "output_type": "execute_result"
    }
   ],
   "source": [
    "data[0]"
   ]
  },
  {
   "cell_type": "markdown",
   "id": "643d4485-6c1a-4541-a175-173d6515832e",
   "metadata": {
    "tags": []
   },
   "source": [
    "# Dataloader"
   ]
  },
  {
   "cell_type": "markdown",
   "id": "4ebb80b3-5412-44b3-a1c8-285341f5692f",
   "metadata": {},
   "source": [
    "## Window DataSet"
   ]
  },
  {
   "cell_type": "code",
   "execution_count": 494,
   "id": "9abebdb6-3997-441e-a6ec-42c27f821a02",
   "metadata": {},
   "outputs": [],
   "source": [
    "class windowDataset(Dataset):\n",
    "    def __init__(self, data, input_window, output_window,\n",
    "                 in_features = ['중심기압','초속(m/s)','시속(km/h)','강풍반경(km)[예외반경]','강도','크기','진행방향','이동속도(km/h)'],\n",
    "                 out_features = ['위도(N)','경도(E)'], stride=1):\n",
    "        deletion = []\n",
    "        num_samples = 0\n",
    "        \n",
    "        #총 데이터의 개수\n",
    "        #inputwindow + outputwindow 보다 짧은 길이의 태풍들은 데이터에서 제거해줌.\n",
    "        for i, d in enumerate(data):\n",
    "            if(len(d) < input_window + output_window):\n",
    "                deletion.append(i)\n",
    "                continue\n",
    "            #stride씩 움직일 때 생기는 총 sample의 개수\n",
    "            #태풍별로 확인해줄 예정이니 각 태풍마다의 sample개수를 구하여 전부 더해줌.\n",
    "            num_samples += (len(d) - input_window - output_window) // stride + 1\n",
    "        print('number of useable data : ', len(data)-len(deletion))\n",
    "        for i in deletion[::-1]:\n",
    "            del data[i]\n",
    "        #in feature의 개수와 out feature의 개수 저장\n",
    "        num_in_feature = len(in_features)\n",
    "        num_out_feature = len(out_features)\n",
    "\n",
    "        #input과 output : shape = (window 크기, sample 개수, feature 개수)\n",
    "        X = np.zeros([input_window, num_samples, num_in_feature])\n",
    "        Y = np.zeros([input_window + output_window, num_samples, num_out_feature])\n",
    "\n",
    "        j = 0\n",
    "        for d in data:\n",
    "            #data별로 불러옴\n",
    "            for i in range((len(d) - (input_window + output_window))// stride + 1):\n",
    "                #각 데이터의 길이를 확인하고 각 데이터별로 input_window와 output_window에따른\n",
    "                #활용가능한 학습용 데이터의 길이를 확인함\n",
    "                #각 태풍별로 input_window와 output_window에 따른 학습용 데이터를 추출함.\n",
    "                start_x = stride*i\n",
    "                end_x = start_x + input_window\n",
    "                X[:,j] = d[start_x:end_x][in_features]\n",
    "                \n",
    "                start_y = stride*i\n",
    "                end_y = start_y +input_window + output_window\n",
    "                Y[:,j] = d[start_y:end_y][out_features]\n",
    "                j += 1\n",
    "\n",
    "        #추출한 데이터를 Dataset 형식에 맞추어 reshape\n",
    "        X = X.reshape(X.shape[0], X.shape[1], num_in_feature).transpose((1,0,2))\n",
    "        Y = Y.reshape(Y.shape[0], Y.shape[1], num_out_feature).transpose((1,0,2))\n",
    "        self.x = X.astype(np.float32)\n",
    "        self.y = Y.astype(np.float32)\n",
    "        \n",
    "        self.len = len(X)\n",
    "    def __getitem__(self, i):\n",
    "        return self.x[i], self.y[i]\n",
    "    def __len__(self):\n",
    "        return self.len"
   ]
  },
  {
   "cell_type": "code",
   "execution_count": 495,
   "id": "0dc89ac2-db77-485c-ad11-4101c2bfa35f",
   "metadata": {},
   "outputs": [],
   "source": [
    "# class Windowdataset(Dataset):\n",
    "#     def __init__(self, data, y, input_wd, output_wd, stride=1):\n",
    "#         # self.data = data\n",
    "#         # self.target = y\n",
    "#         n_data = len(y)\n",
    "#         window_data = (n_data - input_wd - output_wd) // stride + 1\n",
    "        \n",
    "#         X = np.zeros([input_wd, n_data])\n",
    "#         Y = np.zeros([output_wd, n_data])\n",
    "        \n",
    "#         for i in np.arange(n_data):\n",
    "#             start_x = stride * i\n",
    "#             end_x = start_x + input_wd\n",
    "#             X[:, i] = Y[start_x:end_x]\n",
    "            \n",
    "#             start_y = stride*i + input_wd\n",
    "#             end_y = start_y + output_wd\n",
    "#             Y[:,i] = y[start_y:end_y]\n",
    "#         X = X.reshape(X.shape[0], X.shape[1], 1).transpose((1,0,2))\n",
    "#         Y = Y.reshape(Y.shape[0], Y.shape[1], 1).transpose((1,0,2))\n",
    "        \n",
    "#         self.data = X\n",
    "#         self.target = Y\n",
    "#     def __len__(self):\n",
    "#         return len(self.data)\n",
    "        \n",
    "#     def __getitem__(self, i):\n",
    "#         return self.data[i], self.target[i]"
   ]
  },
  {
   "cell_type": "code",
   "execution_count": 496,
   "id": "50c2999e-a956-4032-8efb-3e2b502c5ae0",
   "metadata": {},
   "outputs": [
    {
     "data": {
      "text/plain": [
       "526"
      ]
     },
     "execution_count": 496,
     "metadata": {},
     "output_type": "execute_result"
    }
   ],
   "source": [
    "len(data)"
   ]
  },
  {
   "cell_type": "code",
   "execution_count": 497,
   "id": "52467972-abcd-4647-becb-adaf6f5da815",
   "metadata": {},
   "outputs": [
    {
     "data": {
      "text/plain": [
       "(473, 499)"
      ]
     },
     "execution_count": 497,
     "metadata": {},
     "output_type": "execute_result"
    }
   ],
   "source": [
    "val_idx, test_idx"
   ]
  },
  {
   "cell_type": "code",
   "execution_count": 498,
   "id": "f69f914c-8c33-4355-a9af-e0252d7cce45",
   "metadata": {},
   "outputs": [
    {
     "name": "stdout",
     "output_type": "stream",
     "text": [
      "number of useable data :  408\n",
      "number of useable data :  23\n",
      "number of useable data :  24\n"
     ]
    }
   ],
   "source": [
    "in_window=4\n",
    "out_window=2\n",
    "batch_size = 128\n",
    "\n",
    "val_idx = int(len(data)*0.9)\n",
    "test_idx = int(len(data)*0.95)\n",
    "train_data, valid_data, test_data = data[:val_idx], data[val_idx:test_idx], data[test_idx:]\n",
    "\n",
    "train_dataset = windowDataset(train_data,in_window,out_window)\n",
    "valid_dataset = windowDataset(valid_data,in_window,out_window)\n",
    "test_dataset = windowDataset(test_data, in_window,out_window)\n",
    "\n",
    "train_loader = DataLoader(train_dataset, batch_size, shuffle=False)\n",
    "valid_loader = DataLoader(valid_dataset, batch_size, shuffle=False)\n",
    "test_loader = DataLoader(test_dataset, 1 , shuffle=False)"
   ]
  },
  {
   "cell_type": "code",
   "execution_count": 499,
   "id": "3778d5a2-9f7d-4893-bd16-9d95d05cbcc8",
   "metadata": {},
   "outputs": [
    {
     "data": {
      "text/plain": [
       "(torch.Size([128, 4, 8]), torch.Size([128, 4, 8]), torch.Size([1, 4, 8]))"
      ]
     },
     "execution_count": 499,
     "metadata": {},
     "output_type": "execute_result"
    }
   ],
   "source": [
    "next(iter(train_loader))[0].shape,next(iter(valid_loader))[0].shape,next(iter(test_loader))[0].shape"
   ]
  },
  {
   "cell_type": "code",
   "execution_count": 500,
   "id": "3868cc53-c276-4596-b8cc-7bbfeb90c1d4",
   "metadata": {},
   "outputs": [
    {
     "data": {
      "text/plain": [
       "tensor([[0.2183, 0.4778],\n",
       "        [0.2517, 0.4122],\n",
       "        [0.3250, 0.3589],\n",
       "        [0.3683, 0.3278],\n",
       "        [0.4133, 0.3267],\n",
       "        [0.4417, 0.3278]])"
      ]
     },
     "execution_count": 500,
     "metadata": {},
     "output_type": "execute_result"
    }
   ],
   "source": [
    "next(iter(train_loader))[1][0]"
   ]
  },
  {
   "cell_type": "markdown",
   "id": "165755c1-18b0-4f38-8034-9ed1053dd221",
   "metadata": {},
   "source": [
    "## Model"
   ]
  },
  {
   "cell_type": "code",
   "execution_count": 533,
   "id": "dfd82ef5-2a2c-4ee2-9fef-269792afcb89",
   "metadata": {},
   "outputs": [],
   "source": [
    "input_size = 8\n",
    "hidden_size =100\n",
    "num_layer = 2\n",
    "output_size = 2"
   ]
  },
  {
   "cell_type": "markdown",
   "id": "ecd11204-f02c-4852-a0f0-b2a2b0edea20",
   "metadata": {},
   "source": [
    "## Bidirectional"
   ]
  },
  {
   "cell_type": "code",
   "execution_count": 534,
   "id": "f2947eeb-15b6-4eb8-8abe-67590c02c573",
   "metadata": {},
   "outputs": [],
   "source": [
    "class EncoderRNN(nn.Module):\n",
    "    def __init__(self, input_size, hidden_size,num_layer,batch_size):\n",
    "        super(EncoderRNN, self).__init__()\n",
    "        self.hidden_size = hidden_size\n",
    "        self.input_size = input_size\n",
    "        self.batch_size = batch_size\n",
    "        self.num_layer = num_layer\n",
    "        self.gru = nn.GRU(input_size, hidden_size,num_layer, batch_first=True,bidirectional=True)\n",
    "        \n",
    "        self.ln = nn.LayerNorm(hidden_size)\n",
    "         \n",
    "        self.dropout= nn.Dropout(0.3)\n",
    "        \n",
    "    def forward(self, input, hidden):\n",
    "        \n",
    "        output, hidden = self.gru(input, hidden)\n",
    "\n",
    "        hidden = self.ln(hidden)\n",
    "\n",
    "        return output, hidden\n",
    "        \n",
    "    def initHidden(self,num_layer,batch_size):\n",
    "        return torch.zeros(2*num_layer,batch_size,self.hidden_size)"
   ]
  },
  {
   "cell_type": "code",
   "execution_count": 535,
   "id": "7aa1053e-dda8-4302-a246-24cd6a25e234",
   "metadata": {},
   "outputs": [],
   "source": [
    "class DecoderRNN(nn.Module):\n",
    "    def __init__(self, output_size, hidden_size, num_layer, batch_size):\n",
    "        super(DecoderRNN, self).__init__()\n",
    "        self.output_size = output_size\n",
    "        self.hidden_size = hidden_size\n",
    "        self.batch_size = batch_size\n",
    "        self.num_layer = num_layer\n",
    "        \n",
    "        self.gru = nn.GRU(output_size, hidden_size,num_layer, batch_first=True)\n",
    "        \n",
    "        self.fc1 = nn.Linear(hidden_size, hidden_size)\n",
    "        \n",
    "        self.fc2 = nn.Linear(hidden_size, output_size)\n",
    "        \n",
    "        self.ln = nn.LayerNorm(hidden_size)\n",
    "        \n",
    "        self.relu = nn.ReLU(True)\n",
    "        \n",
    "        self.dropout = nn.Dropout(0.3)\n",
    "        \n",
    "        self.bn = nn.InstanceNorm1d(hidden_size)\n",
    "        \n",
    "        self.bn = nn.BatchNorm1d(output_size)\n",
    "        \n",
    "    def forward(self, input, hidden):\n",
    "        \n",
    "        output, hidden = self.gru(input, hidden)\n",
    "        \n",
    "        # hidden = self.dropout(hidden)\n",
    "        \n",
    "        hidden = self.ln(hidden)\n",
    "        \n",
    "        output = self.ln(output)\n",
    "        \n",
    "        # output = self.dropout(output)\n",
    "        \n",
    "        output = self.relu(self.fc1(output))\n",
    "        \n",
    "        # output = self.dropout(output)\n",
    "        \n",
    "        output = self.fc2(output)\n",
    "        \n",
    "        # output = self.relu(output)\n",
    "        \n",
    "        return output, hidden\n",
    "    \n",
    "    def initHidden(self, num_layer, batch_size):\n",
    "        return torch.zeros(num_layer,batch_size,self.hidden_size)"
   ]
  },
  {
   "cell_type": "code",
   "execution_count": 511,
   "id": "9c1e0335-4985-4e96-9dc4-816e7d6d4de3",
   "metadata": {},
   "outputs": [],
   "source": [
    "a = torch.ones((2,128,32))"
   ]
  },
  {
   "cell_type": "code",
   "execution_count": 512,
   "id": "e5a01f5d-614a-4b58-a532-651ac859d115",
   "metadata": {},
   "outputs": [
    {
     "data": {
      "text/plain": [
       "torch.Size([4, 128, 32])"
      ]
     },
     "execution_count": 512,
     "metadata": {},
     "output_type": "execute_result"
    }
   ],
   "source": [
    "torch.concat((a,a),dim=0).shape"
   ]
  },
  {
   "cell_type": "code",
   "execution_count": 513,
   "id": "3e3d6f76-4f46-484f-8d0c-7fe2081e8417",
   "metadata": {},
   "outputs": [
    {
     "data": {
      "text/plain": [
       "torch.Size([128, 32])"
      ]
     },
     "execution_count": 513,
     "metadata": {},
     "output_type": "execute_result"
    }
   ],
   "source": [
    "a.max(dim=(0))[0].shape"
   ]
  },
  {
   "cell_type": "markdown",
   "id": "418e888a-15d7-46a9-8789-f3f5700aad71",
   "metadata": {},
   "source": [
    "### Encoder"
   ]
  },
  {
   "cell_type": "code",
   "execution_count": 536,
   "id": "2ba13c94-2870-41bb-9554-6c616a3c493a",
   "metadata": {},
   "outputs": [],
   "source": [
    "class EncoderRNN(nn.Module):\n",
    "    def __init__(self, input_size, hidden_size,num_layer,batch_size):\n",
    "        super(EncoderRNN, self).__init__()\n",
    "        self.hidden_size = hidden_size\n",
    "        self.input_size = input_size\n",
    "        self.batch_size = batch_size\n",
    "        self.num_layer = num_layer\n",
    "        self.gru = nn.GRU(input_size, hidden_size,num_layer, batch_first=True)\n",
    "        \n",
    "        self.ln = nn.LayerNorm(hidden_size)\n",
    "         \n",
    "        self.dropout= nn.Dropout(0.3)\n",
    "        \n",
    "    def forward(self, input, hidden):\n",
    "        \n",
    "        output, hidden = self.gru(input, hidden)\n",
    "\n",
    "        hidden = self.ln(hidden)\n",
    "\n",
    "        return output, hidden\n",
    "        \n",
    "    def initHidden(self,num_layer,batch_size):\n",
    "        return torch.zeros(num_layer,batch_size,self.hidden_size)"
   ]
  },
  {
   "cell_type": "markdown",
   "id": "ee1c8196-5e42-4c76-b796-5798026ad7c3",
   "metadata": {},
   "source": [
    "### Decoder"
   ]
  },
  {
   "cell_type": "code",
   "execution_count": 540,
   "id": "b75261b7-8de3-4579-b441-0946c0c27d80",
   "metadata": {},
   "outputs": [],
   "source": [
    "class DecoderRNN(nn.Module):\n",
    "    def __init__(self, output_size, hidden_size, num_layer, batch_size):\n",
    "        super(DecoderRNN, self).__init__()\n",
    "        self.output_size = output_size\n",
    "        self.hidden_size = hidden_size\n",
    "        self.batch_size = batch_size\n",
    "        self.num_layer = num_layer\n",
    "        \n",
    "        self.gru = nn.GRU(output_size, hidden_size,num_layer, batch_first=True)\n",
    "        \n",
    "        self.fc1 = nn.Linear(hidden_size, hidden_size)\n",
    "        \n",
    "        self.fc2 = nn.Linear(hidden_size, output_size)\n",
    "        \n",
    "        self.ln = nn.LayerNorm(hidden_size)\n",
    "        \n",
    "        self.relu = nn.ReLU(True)\n",
    "        \n",
    "        self.dropout = nn.Dropout(0.3)\n",
    "        \n",
    "        self.bn = nn.InstanceNorm1d(hidden_size)\n",
    "        \n",
    "        # self.bn = nn.BatchNorm1d(output_size)\n",
    "        \n",
    "    def forward(self, input, hidden):\n",
    "        \n",
    "        output, hidden = self.gru(input, hidden)\n",
    "        \n",
    "        # hidden = self.dropout(hidden)\n",
    "        \n",
    "        hidden = self.ln(hidden)\n",
    "        \n",
    "        output = self.ln(output)\n",
    "        \n",
    "        # output = self.dropout(output)\n",
    "        \n",
    "        output = self.relu(self.fc1(output))\n",
    "        \n",
    "        output = self.dropout(output)\n",
    "        \n",
    "        output = self.fc2(output)\n",
    "        \n",
    "        # output = self.relu(output)\n",
    "        \n",
    "        return output, hidden\n",
    "    \n",
    "    def initHidden(self, num_layer, batch_size):\n",
    "        return torch.zeros(num_layer,batch_size,self.hidden_size)"
   ]
  },
  {
   "cell_type": "code",
   "execution_count": 541,
   "id": "abadd1a0-6fed-42c1-8288-fb550c0c5fbc",
   "metadata": {},
   "outputs": [
    {
     "data": {
      "text/plain": [
       "(EncoderRNN(\n",
       "   (gru): GRU(8, 100, num_layers=2, batch_first=True)\n",
       "   (ln): LayerNorm((100,), eps=1e-05, elementwise_affine=True)\n",
       "   (dropout): Dropout(p=0.3, inplace=False)\n",
       " ),\n",
       " DecoderRNN(\n",
       "   (gru): GRU(2, 100, num_layers=2, batch_first=True)\n",
       "   (fc1): Linear(in_features=100, out_features=100, bias=True)\n",
       "   (fc2): Linear(in_features=100, out_features=2, bias=True)\n",
       "   (ln): LayerNorm((100,), eps=1e-05, elementwise_affine=True)\n",
       "   (relu): ReLU(inplace=True)\n",
       "   (dropout): Dropout(p=0.3, inplace=False)\n",
       "   (bn): InstanceNorm1d(100, eps=1e-05, momentum=0.1, affine=False, track_running_stats=False)\n",
       " ))"
      ]
     },
     "execution_count": 541,
     "metadata": {},
     "output_type": "execute_result"
    }
   ],
   "source": [
    "encoder = EncoderRNN(input_size, hidden_size, num_layer, batch_size)\n",
    "decoder = DecoderRNN(output_size, hidden_size, num_layer, batch_size)\n",
    "encoder, decoder"
   ]
  },
  {
   "cell_type": "markdown",
   "id": "793aea46-ce20-4cc3-8008-d6d22161c5a3",
   "metadata": {},
   "source": [
    "## Model Training"
   ]
  },
  {
   "cell_type": "code",
   "execution_count": 542,
   "id": "60b23cf3-c4c3-4faa-ac74-cb8e59e8b8c4",
   "metadata": {
    "tags": []
   },
   "outputs": [
    {
     "data": {
      "application/vnd.jupyter.widget-view+json": {
       "model_id": "ed7f692d367d4e9482610b31c7c7485f",
       "version_major": 2,
       "version_minor": 0
      },
      "text/plain": [
       "  0%|          | 0/500 [00:00<?, ?it/s]"
      ]
     },
     "metadata": {},
     "output_type": "display_data"
    },
    {
     "name": "stdout",
     "output_type": "stream",
     "text": [
      "Epoch : 0,\ttrain_loss : 0.3947237730026245\tvalid_loss :0.14449597895145416\n",
      "**********Valid loss decreased (inf ==> 0.144496)**********\n",
      "Epoch : 1,\ttrain_loss : 0.16097933053970337\tvalid_loss :0.11230559647083282\n",
      "**********Valid loss decreased (0.144496 ==> 0.112306)**********\n",
      "Epoch : 2,\ttrain_loss : 0.149897962808609\tvalid_loss :0.10876945406198502\n",
      "**********Valid loss decreased (0.112306 ==> 0.108769)**********\n",
      "Epoch : 3,\ttrain_loss : 0.14411912858486176\tvalid_loss :0.1027689278125763\n",
      "**********Valid loss decreased (0.108769 ==> 0.102769)**********\n",
      "Epoch : 4,\ttrain_loss : 0.1390744298696518\tvalid_loss :0.10753384232521057\n",
      "Epoch : 5,\ttrain_loss : 0.13105307519435883\tvalid_loss :0.12926225364208221\n",
      "Epoch : 6,\ttrain_loss : 0.12686441838741302\tvalid_loss :0.08005417138338089\n",
      "**********Valid loss decreased (0.102769 ==> 0.080054)**********\n",
      "Epoch : 7,\ttrain_loss : 0.12235046178102493\tvalid_loss :0.07996315509080887\n",
      "**********Valid loss decreased (0.080054 ==> 0.079963)**********\n",
      "Epoch : 8,\ttrain_loss : 0.11249997466802597\tvalid_loss :0.0682961493730545\n",
      "**********Valid loss decreased (0.079963 ==> 0.068296)**********\n",
      "Epoch : 9,\ttrain_loss : 0.1028159037232399\tvalid_loss :0.06783325970172882\n",
      "**********Valid loss decreased (0.068296 ==> 0.067833)**********\n",
      "Epoch : 10,\ttrain_loss : 0.09875676035881042\tvalid_loss :0.05499855801463127\n",
      "**********Valid loss decreased (0.067833 ==> 0.054999)**********\n",
      "Epoch : 11,\ttrain_loss : 0.09146985411643982\tvalid_loss :0.05877658352255821\n",
      "Epoch : 12,\ttrain_loss : 0.0854751467704773\tvalid_loss :0.05879467725753784\n",
      "Epoch : 13,\ttrain_loss : 0.08310709148645401\tvalid_loss :0.05470634624361992\n",
      "**********Valid loss decreased (0.054999 ==> 0.054706)**********\n",
      "Epoch : 14,\ttrain_loss : 0.08320429176092148\tvalid_loss :0.05992450192570686\n",
      "Epoch : 15,\ttrain_loss : 0.0818541869521141\tvalid_loss :0.05462048947811127\n",
      "**********Valid loss decreased (0.054706 ==> 0.054620)**********\n",
      "Epoch : 16,\ttrain_loss : 0.07887273281812668\tvalid_loss :0.06110857427120209\n",
      "Epoch : 17,\ttrain_loss : 0.07970906049013138\tvalid_loss :0.0686694011092186\n",
      "Epoch : 18,\ttrain_loss : 0.07899841666221619\tvalid_loss :0.06234094500541687\n",
      "Epoch : 19,\ttrain_loss : 0.0699053555727005\tvalid_loss :0.05008454993367195\n",
      "**********Valid loss decreased (0.054620 ==> 0.050085)**********\n",
      "Epoch : 20,\ttrain_loss : 0.06428246945142746\tvalid_loss :0.04475259780883789\n",
      "**********Valid loss decreased (0.050085 ==> 0.044753)**********\n",
      "Epoch : 21,\ttrain_loss : 0.06488722562789917\tvalid_loss :0.05005461350083351\n",
      "Epoch : 22,\ttrain_loss : 0.06717608869075775\tvalid_loss :0.04608725383877754\n",
      "Epoch : 23,\ttrain_loss : 0.06980904191732407\tvalid_loss :0.051625315099954605\n",
      "Epoch : 24,\ttrain_loss : 0.07239101082086563\tvalid_loss :0.05236981809139252\n",
      "Epoch : 25,\ttrain_loss : 0.07504156231880188\tvalid_loss :0.05561303719878197\n",
      "Epoch : 26,\ttrain_loss : 0.08116645365953445\tvalid_loss :0.0578690841794014\n",
      "Epoch : 27,\ttrain_loss : 0.08081803470849991\tvalid_loss :0.06719422340393066\n",
      "Epoch : 28,\ttrain_loss : 0.087836854159832\tvalid_loss :0.0675714910030365\n",
      "Epoch : 29,\ttrain_loss : 0.08927589654922485\tvalid_loss :0.07110065966844559\n",
      "Epoch : 30,\ttrain_loss : 0.08950193971395493\tvalid_loss :0.0767303854227066\n",
      "Epoch : 31,\ttrain_loss : 0.09035807102918625\tvalid_loss :0.06996452063322067\n",
      "Epoch : 32,\ttrain_loss : 0.08963271230459213\tvalid_loss :0.0719829648733139\n",
      "Epoch : 33,\ttrain_loss : 0.09156975895166397\tvalid_loss :0.0674985721707344\n",
      "Epoch : 34,\ttrain_loss : 0.08926042914390564\tvalid_loss :0.07329625636339188\n",
      "Epoch : 35,\ttrain_loss : 0.08961674571037292\tvalid_loss :0.06594739109277725\n",
      "Epoch : 36,\ttrain_loss : 0.08641978353261948\tvalid_loss :0.06475820392370224\n",
      "Epoch : 37,\ttrain_loss : 0.08829322457313538\tvalid_loss :0.06939961761236191\n",
      "Epoch : 38,\ttrain_loss : 0.08979088068008423\tvalid_loss :0.07418075203895569\n",
      "Epoch : 39,\ttrain_loss : 0.0917949452996254\tvalid_loss :0.0690937489271164\n",
      "Epoch : 40,\ttrain_loss : 0.08823753148317337\tvalid_loss :0.06535430997610092\n",
      "Epoch : 41,\ttrain_loss : 0.08641458302736282\tvalid_loss :0.06657540798187256\n",
      "Epoch : 42,\ttrain_loss : 0.09016168862581253\tvalid_loss :0.06613374501466751\n",
      "Epoch : 43,\ttrain_loss : 0.08515492081642151\tvalid_loss :0.06875758618116379\n",
      "Epoch : 44,\ttrain_loss : 0.08975756168365479\tvalid_loss :0.06827615946531296\n",
      "Epoch : 45,\ttrain_loss : 0.0892299935221672\tvalid_loss :0.071746326982975\n",
      "Epoch : 46,\ttrain_loss : 0.09278183430433273\tvalid_loss :0.0678732618689537\n",
      "Epoch : 47,\ttrain_loss : 0.09064396470785141\tvalid_loss :0.06616119295358658\n",
      "Epoch : 48,\ttrain_loss : 0.09488415718078613\tvalid_loss :0.07159687578678131\n",
      "Epoch : 49,\ttrain_loss : 0.0875936821103096\tvalid_loss :0.06876537948846817\n",
      "Epoch : 50,\ttrain_loss : 0.09336259216070175\tvalid_loss :0.06922870129346848\n",
      "Epoch : 51,\ttrain_loss : 0.08964404463768005\tvalid_loss :0.07745570689439774\n",
      "Epoch : 52,\ttrain_loss : 0.0967799499630928\tvalid_loss :0.0754552036523819\n",
      "Epoch : 53,\ttrain_loss : 0.09640311449766159\tvalid_loss :0.07098549604415894\n",
      "Epoch : 54,\ttrain_loss : 0.09031476825475693\tvalid_loss :0.06446882337331772\n",
      "Epoch : 55,\ttrain_loss : 0.09279044717550278\tvalid_loss :0.07451831549406052\n",
      "Epoch : 56,\ttrain_loss : 0.09358946233987808\tvalid_loss :0.07100530713796616\n",
      "Epoch : 57,\ttrain_loss : 0.09523621201515198\tvalid_loss :0.07595992088317871\n",
      "Epoch : 58,\ttrain_loss : 0.0969451367855072\tvalid_loss :0.08546039462089539\n",
      "Epoch : 59,\ttrain_loss : 0.09791531413793564\tvalid_loss :0.07596230506896973\n",
      "Epoch : 60,\ttrain_loss : 0.0962163507938385\tvalid_loss :0.07668935507535934\n",
      "Epoch : 61,\ttrain_loss : 0.09229275584220886\tvalid_loss :0.0652964636683464\n",
      "Epoch : 62,\ttrain_loss : 0.0919722393155098\tvalid_loss :0.06379374116659164\n",
      "Epoch : 63,\ttrain_loss : 0.0891665443778038\tvalid_loss :0.06835412979125977\n",
      "Epoch : 64,\ttrain_loss : 0.08671247214078903\tvalid_loss :0.06483551859855652\n",
      "Epoch : 65,\ttrain_loss : 0.09234090894460678\tvalid_loss :0.07601960003376007\n",
      "Epoch : 66,\ttrain_loss : 0.09524983912706375\tvalid_loss :0.07472404092550278\n",
      "Epoch : 67,\ttrain_loss : 0.09977420419454575\tvalid_loss :0.08130509406328201\n",
      "Epoch : 68,\ttrain_loss : 0.09961509704589844\tvalid_loss :0.07190574705600739\n",
      "Epoch : 69,\ttrain_loss : 0.09906529635190964\tvalid_loss :0.08147840946912766\n",
      "Epoch : 70,\ttrain_loss : 0.09931361675262451\tvalid_loss :0.08496411144733429\n",
      "Epoch : 71,\ttrain_loss : 0.10088301450014114\tvalid_loss :0.07823396474123001\n",
      "Epoch : 72,\ttrain_loss : 0.10331452637910843\tvalid_loss :0.08059704303741455\n",
      "Epoch : 73,\ttrain_loss : 0.10158336162567139\tvalid_loss :0.09226074069738388\n",
      "Epoch : 74,\ttrain_loss : 0.1021990105509758\tvalid_loss :0.0793752670288086\n",
      "Epoch : 75,\ttrain_loss : 0.10142740607261658\tvalid_loss :0.0863882452249527\n",
      "Epoch : 76,\ttrain_loss : 0.10315316915512085\tvalid_loss :0.0894264504313469\n",
      "Epoch : 77,\ttrain_loss : 0.10372904688119888\tvalid_loss :0.06505957245826721\n",
      "Epoch : 78,\ttrain_loss : 0.09300407767295837\tvalid_loss :0.068979412317276\n",
      "Epoch : 79,\ttrain_loss : 0.09728740900754929\tvalid_loss :0.07876750826835632\n",
      "Epoch : 80,\ttrain_loss : 0.09381932020187378\tvalid_loss :0.07190714031457901\n",
      "Epoch : 81,\ttrain_loss : 0.09919055551290512\tvalid_loss :0.09026279300451279\n",
      "Epoch : 82,\ttrain_loss : 0.09972462803125381\tvalid_loss :0.07573752105236053\n",
      "Epoch : 83,\ttrain_loss : 0.09661691635847092\tvalid_loss :0.07605409622192383\n",
      "Epoch : 84,\ttrain_loss : 0.09585201740264893\tvalid_loss :0.06574077159166336\n",
      "Epoch : 85,\ttrain_loss : 0.09924962371587753\tvalid_loss :0.0851002037525177\n",
      "Epoch : 86,\ttrain_loss : 0.09732469916343689\tvalid_loss :0.09151443839073181\n",
      "Epoch : 87,\ttrain_loss : 0.10714134573936462\tvalid_loss :0.0902678519487381\n",
      "Epoch : 88,\ttrain_loss : 0.11045342683792114\tvalid_loss :0.09048087894916534\n",
      "Epoch : 89,\ttrain_loss : 0.10973645001649857\tvalid_loss :0.08286136388778687\n",
      "Epoch : 90,\ttrain_loss : 0.10373286157846451\tvalid_loss :0.08559660613536835\n",
      "Epoch : 91,\ttrain_loss : 0.1016600951552391\tvalid_loss :0.08711396157741547\n",
      "Epoch : 92,\ttrain_loss : 0.10949701815843582\tvalid_loss :0.09375551342964172\n",
      "Epoch : 93,\ttrain_loss : 0.11194589734077454\tvalid_loss :0.09494279325008392\n",
      "Epoch : 94,\ttrain_loss : 0.11099211126565933\tvalid_loss :0.08493182808160782\n",
      "Epoch : 95,\ttrain_loss : 0.10663378238677979\tvalid_loss :0.07649997621774673\n",
      "Epoch : 96,\ttrain_loss : 0.10532937198877335\tvalid_loss :0.08108802884817123\n",
      "Epoch : 97,\ttrain_loss : 0.10427103191614151\tvalid_loss :0.09366590529680252\n",
      "Epoch : 98,\ttrain_loss : 0.11331143975257874\tvalid_loss :0.092161163687706\n",
      "Epoch : 99,\ttrain_loss : 0.10444783419370651\tvalid_loss :0.0887567549943924\n",
      "Epoch : 100,\ttrain_loss : 0.10780447721481323\tvalid_loss :0.09893719106912613\n",
      "Epoch : 101,\ttrain_loss : 0.12036105990409851\tvalid_loss :0.10580861568450928\n",
      "Epoch : 102,\ttrain_loss : 0.11781308054924011\tvalid_loss :0.09369727969169617\n",
      "Epoch : 103,\ttrain_loss : 0.11154285818338394\tvalid_loss :0.0942736342549324\n",
      "Epoch : 104,\ttrain_loss : 0.11049080640077591\tvalid_loss :0.09639839082956314\n",
      "Epoch : 105,\ttrain_loss : 0.11356424540281296\tvalid_loss :0.087882399559021\n",
      "Epoch : 106,\ttrain_loss : 0.10700953751802444\tvalid_loss :0.07348726689815521\n",
      "Epoch : 107,\ttrain_loss : 0.1095302402973175\tvalid_loss :0.07415997982025146\n",
      "Epoch : 108,\ttrain_loss : 0.10480853170156479\tvalid_loss :0.06763730198144913\n",
      "Epoch : 109,\ttrain_loss : 0.0942135825753212\tvalid_loss :0.08165234327316284\n",
      "Epoch : 110,\ttrain_loss : 0.0943010076880455\tvalid_loss :0.09484972804784775\n",
      "Epoch : 111,\ttrain_loss : 0.10080379247665405\tvalid_loss :0.08318676054477692\n",
      "Epoch : 112,\ttrain_loss : 0.10112611204385757\tvalid_loss :0.09022387117147446\n",
      "Epoch : 113,\ttrain_loss : 0.10208764672279358\tvalid_loss :0.08170311897993088\n",
      "Epoch : 114,\ttrain_loss : 0.1052650511264801\tvalid_loss :0.08946354687213898\n",
      "Epoch : 115,\ttrain_loss : 0.10440631955862045\tvalid_loss :0.08950887620449066\n",
      "Epoch : 116,\ttrain_loss : 0.10425172001123428\tvalid_loss :0.09478368610143661\n",
      "Epoch : 117,\ttrain_loss : 0.11070340126752853\tvalid_loss :0.08591711521148682\n",
      "Epoch : 118,\ttrain_loss : 0.10235645622015\tvalid_loss :0.09362217783927917\n",
      "Epoch : 119,\ttrain_loss : 0.11377092450857162\tvalid_loss :0.09260892868041992\n",
      "Epoch : 120,\ttrain_loss : 0.10804322361946106\tvalid_loss :0.08539539575576782\n",
      "Epoch : 121,\ttrain_loss : 0.10586488991975784\tvalid_loss :0.07032492756843567\n",
      "Epoch : 122,\ttrain_loss : 0.10828814655542374\tvalid_loss :0.09394686669111252\n",
      "Epoch : 123,\ttrain_loss : 0.10120777040719986\tvalid_loss :0.09508764743804932\n",
      "Epoch : 124,\ttrain_loss : 0.10773224383592606\tvalid_loss :0.09631539136171341\n",
      "Epoch : 125,\ttrain_loss : 0.11230965703725815\tvalid_loss :0.08610748499631882\n",
      "Epoch : 126,\ttrain_loss : 0.09676868468523026\tvalid_loss :0.07040227204561234\n",
      "Epoch : 127,\ttrain_loss : 0.09598570317029953\tvalid_loss :0.0701650008559227\n",
      "Epoch : 128,\ttrain_loss : 0.10487733036279678\tvalid_loss :0.09187810868024826\n",
      "Epoch : 129,\ttrain_loss : 0.10238626599311829\tvalid_loss :0.07079371064901352\n",
      "Epoch : 130,\ttrain_loss : 0.10201125591993332\tvalid_loss :0.08597075939178467\n",
      "Epoch : 131,\ttrain_loss : 0.09791750460863113\tvalid_loss :0.07854435592889786\n",
      "Epoch : 132,\ttrain_loss : 0.09871748089790344\tvalid_loss :0.08612377941608429\n",
      "Epoch : 133,\ttrain_loss : 0.09791874885559082\tvalid_loss :0.08391788601875305\n",
      "Epoch : 134,\ttrain_loss : 0.10551611334085464\tvalid_loss :0.08938205242156982\n",
      "Epoch : 135,\ttrain_loss : 0.10039369016885757\tvalid_loss :0.08615995943546295\n",
      "Epoch : 136,\ttrain_loss : 0.10124071687459946\tvalid_loss :0.08219883590936661\n",
      "Epoch : 137,\ttrain_loss : 0.10353728383779526\tvalid_loss :0.08333512395620346\n",
      "Epoch : 138,\ttrain_loss : 0.09896320849657059\tvalid_loss :0.07999513298273087\n",
      "Epoch : 139,\ttrain_loss : 0.09798216819763184\tvalid_loss :0.08076515793800354\n",
      "Epoch : 140,\ttrain_loss : 0.10258400440216064\tvalid_loss :0.08442659676074982\n",
      "Epoch : 141,\ttrain_loss : 0.10099952667951584\tvalid_loss :0.09400168061256409\n",
      "Epoch : 142,\ttrain_loss : 0.10128971934318542\tvalid_loss :0.07937179505825043\n",
      "Epoch : 143,\ttrain_loss : 0.09467694163322449\tvalid_loss :0.07850915193557739\n",
      "Epoch : 144,\ttrain_loss : 0.09150046855211258\tvalid_loss :0.07055864483118057\n",
      "Epoch : 145,\ttrain_loss : 0.09488124400377274\tvalid_loss :0.0817047655582428\n",
      "Epoch : 146,\ttrain_loss : 0.0977850928902626\tvalid_loss :0.08954816311597824\n",
      "Epoch : 147,\ttrain_loss : 0.09935624152421951\tvalid_loss :0.08114410191774368\n",
      "Epoch : 148,\ttrain_loss : 0.10290089249610901\tvalid_loss :0.09052284061908722\n",
      "Epoch : 149,\ttrain_loss : 0.10273462533950806\tvalid_loss :0.07503536343574524\n",
      "Epoch : 150,\ttrain_loss : 0.10060745477676392\tvalid_loss :0.07821553200483322\n",
      "Epoch : 151,\ttrain_loss : 0.10115516185760498\tvalid_loss :0.07960188388824463\n",
      "Epoch : 152,\ttrain_loss : 0.09599516540765762\tvalid_loss :0.07287298887968063\n",
      "Epoch : 153,\ttrain_loss : 0.09546041488647461\tvalid_loss :0.08198238164186478\n",
      "Epoch : 154,\ttrain_loss : 0.10166751593351364\tvalid_loss :0.07541774213314056\n",
      "Epoch : 155,\ttrain_loss : 0.09879755973815918\tvalid_loss :0.07770986109972\n",
      "Epoch : 156,\ttrain_loss : 0.10116183757781982\tvalid_loss :0.07876108586788177\n",
      "Epoch : 157,\ttrain_loss : 0.09932052344083786\tvalid_loss :0.0738861933350563\n",
      "Epoch : 158,\ttrain_loss : 0.10073374956846237\tvalid_loss :0.0802089124917984\n",
      "Epoch : 159,\ttrain_loss : 0.09983882308006287\tvalid_loss :0.08085835725069046\n",
      "Epoch : 160,\ttrain_loss : 0.0991659164428711\tvalid_loss :0.07974990457296371\n",
      "Epoch : 161,\ttrain_loss : 0.10135664790868759\tvalid_loss :0.08088494092226028\n",
      "Epoch : 162,\ttrain_loss : 0.1003587618470192\tvalid_loss :0.06888323277235031\n",
      "Epoch : 163,\ttrain_loss : 0.10007980465888977\tvalid_loss :0.08392219245433807\n",
      "Epoch : 164,\ttrain_loss : 0.09481329470872879\tvalid_loss :0.07078399509191513\n",
      "Epoch : 165,\ttrain_loss : 0.09815368801355362\tvalid_loss :0.08048874884843826\n",
      "Epoch : 166,\ttrain_loss : 0.09029624611139297\tvalid_loss :0.07110609859228134\n",
      "Epoch : 167,\ttrain_loss : 0.08604776859283447\tvalid_loss :0.06603895127773285\n",
      "Epoch : 168,\ttrain_loss : 0.0818009003996849\tvalid_loss :0.06388039886951447\n",
      "Epoch : 169,\ttrain_loss : 0.08691241592168808\tvalid_loss :0.07063490152359009\n",
      "Epoch : 170,\ttrain_loss : 0.08628776669502258\tvalid_loss :0.06361305713653564\n",
      "Epoch : 171,\ttrain_loss : 0.08662121742963791\tvalid_loss :0.07391499727964401\n",
      "Epoch : 172,\ttrain_loss : 0.08950942009687424\tvalid_loss :0.06749164313077927\n",
      "Epoch : 173,\ttrain_loss : 0.08304855972528458\tvalid_loss :0.06577514857053757\n",
      "Epoch : 174,\ttrain_loss : 0.09370601177215576\tvalid_loss :0.07494666427373886\n",
      "Epoch : 175,\ttrain_loss : 0.08545303344726562\tvalid_loss :0.06601336598396301\n",
      "Epoch : 176,\ttrain_loss : 0.08329800516366959\tvalid_loss :0.06611890345811844\n",
      "Epoch : 177,\ttrain_loss : 0.08621975779533386\tvalid_loss :0.06752092391252518\n",
      "Epoch : 178,\ttrain_loss : 0.08084239810705185\tvalid_loss :0.06561516970396042\n",
      "Epoch : 179,\ttrain_loss : 0.0777377262711525\tvalid_loss :0.06192108616232872\n",
      "Epoch : 180,\ttrain_loss : 0.0882556363940239\tvalid_loss :0.06886335462331772\n",
      "Epoch : 181,\ttrain_loss : 0.07904797047376633\tvalid_loss :0.06362193077802658\n",
      "Epoch : 182,\ttrain_loss : 0.07748845219612122\tvalid_loss :0.06858991086483002\n",
      "Epoch : 183,\ttrain_loss : 0.07764709740877151\tvalid_loss :0.06068027392029762\n",
      "Epoch : 184,\ttrain_loss : 0.09308994561433792\tvalid_loss :0.07519064098596573\n",
      "Epoch : 185,\ttrain_loss : 0.0844603180885315\tvalid_loss :0.057839151471853256\n",
      "Epoch : 186,\ttrain_loss : 0.08300229161977768\tvalid_loss :0.05796675384044647\n",
      "Epoch : 187,\ttrain_loss : 0.07862009853124619\tvalid_loss :0.06004750356078148\n",
      "Epoch : 188,\ttrain_loss : 0.07642225176095963\tvalid_loss :0.05793875828385353\n",
      "Epoch : 189,\ttrain_loss : 0.07409331947565079\tvalid_loss :0.05308738723397255\n",
      "Epoch : 190,\ttrain_loss : 0.06981771439313889\tvalid_loss :0.05758640170097351\n",
      "Epoch : 191,\ttrain_loss : 0.07654204219579697\tvalid_loss :0.055916473269462585\n",
      "Epoch : 192,\ttrain_loss : 0.0690901130437851\tvalid_loss :0.05554990470409393\n",
      "Epoch : 193,\ttrain_loss : 0.07237210124731064\tvalid_loss :0.05986266955733299\n",
      "Epoch : 194,\ttrain_loss : 0.07118357717990875\tvalid_loss :0.05143435671925545\n",
      "Epoch : 195,\ttrain_loss : 0.06983111053705215\tvalid_loss :0.05641107261180878\n",
      "Epoch : 196,\ttrain_loss : 0.07392866164445877\tvalid_loss :0.046860385686159134\n",
      "Epoch : 197,\ttrain_loss : 0.06951768696308136\tvalid_loss :0.06485477834939957\n",
      "Epoch : 198,\ttrain_loss : 0.09080319851636887\tvalid_loss :0.06640571355819702\n",
      "Epoch : 199,\ttrain_loss : 0.09021209925413132\tvalid_loss :0.05947483703494072\n",
      "Epoch : 200,\ttrain_loss : 0.07575763016939163\tvalid_loss :0.054727502167224884\n",
      "Epoch : 201,\ttrain_loss : 0.07645153254270554\tvalid_loss :0.05813256651163101\n",
      "Epoch : 202,\ttrain_loss : 0.07958966493606567\tvalid_loss :0.06121927499771118\n",
      "Epoch : 203,\ttrain_loss : 0.07812540233135223\tvalid_loss :0.062003448605537415\n",
      "Epoch : 204,\ttrain_loss : 0.07315971702337265\tvalid_loss :0.06488317996263504\n",
      "Epoch : 205,\ttrain_loss : 0.08055538684129715\tvalid_loss :0.054791443049907684\n",
      "Epoch : 206,\ttrain_loss : 0.08851096779108047\tvalid_loss :0.08403593301773071\n",
      "Epoch : 207,\ttrain_loss : 0.0999840572476387\tvalid_loss :0.06743494421243668\n",
      "Epoch : 208,\ttrain_loss : 0.07352698594331741\tvalid_loss :0.0632338598370552\n",
      "Epoch : 209,\ttrain_loss : 0.07827917486429214\tvalid_loss :0.06193304434418678\n",
      "Epoch : 210,\ttrain_loss : 0.08109430223703384\tvalid_loss :0.0609377846121788\n",
      "Epoch : 211,\ttrain_loss : 0.07802587747573853\tvalid_loss :0.05887456610798836\n",
      "Epoch : 212,\ttrain_loss : 0.07633724063634872\tvalid_loss :0.06068878248333931\n",
      "Epoch : 213,\ttrain_loss : 0.07450695335865021\tvalid_loss :0.06202200800180435\n",
      "Epoch : 214,\ttrain_loss : 0.08363452553749084\tvalid_loss :0.06649336963891983\n",
      "Epoch : 215,\ttrain_loss : 0.08390775322914124\tvalid_loss :0.058404341340065\n",
      "Epoch : 216,\ttrain_loss : 0.07079441100358963\tvalid_loss :0.04785721376538277\n",
      "Epoch : 217,\ttrain_loss : 0.06504009664058685\tvalid_loss :0.04886476695537567\n",
      "Epoch : 218,\ttrain_loss : 0.06616926938295364\tvalid_loss :0.051638443022966385\n",
      "Epoch : 219,\ttrain_loss : 0.06620535999536514\tvalid_loss :0.050092171877622604\n",
      "Epoch : 220,\ttrain_loss : 0.06624635308980942\tvalid_loss :0.05171382427215576\n",
      "Epoch : 221,\ttrain_loss : 0.07034438848495483\tvalid_loss :0.05358061194419861\n",
      "Epoch : 222,\ttrain_loss : 0.06748679280281067\tvalid_loss :0.05171551927924156\n",
      "Epoch : 223,\ttrain_loss : 0.06525015830993652\tvalid_loss :0.05308923497796059\n",
      "Epoch : 224,\ttrain_loss : 0.06440695375204086\tvalid_loss :0.04766898974776268\n",
      "Epoch : 225,\ttrain_loss : 0.06825514882802963\tvalid_loss :0.05139906704425812\n",
      "Epoch : 226,\ttrain_loss : 0.06801015138626099\tvalid_loss :0.05333385616540909\n",
      "Epoch : 227,\ttrain_loss : 0.06926170736551285\tvalid_loss :0.05351912975311279\n",
      "Epoch : 228,\ttrain_loss : 0.06755077093839645\tvalid_loss :0.05353255569934845\n",
      "Epoch : 229,\ttrain_loss : 0.064298614859581\tvalid_loss :0.051817309111356735\n",
      "Epoch : 230,\ttrain_loss : 0.06296416372060776\tvalid_loss :0.057356301695108414\n",
      "Epoch : 231,\ttrain_loss : 0.061693478375673294\tvalid_loss :0.055707599967718124\n",
      "Epoch : 232,\ttrain_loss : 0.05739546939730644\tvalid_loss :0.04853009060025215\n",
      "Epoch : 233,\ttrain_loss : 0.05902889743447304\tvalid_loss :0.05043856054544449\n",
      "Epoch : 234,\ttrain_loss : 0.061891719698905945\tvalid_loss :0.051162391901016235\n",
      "Epoch : 235,\ttrain_loss : 0.06175803020596504\tvalid_loss :0.049473702907562256\n",
      "Epoch : 236,\ttrain_loss : 0.060878459364175797\tvalid_loss :0.05333581194281578\n",
      "Epoch : 237,\ttrain_loss : 0.06362352520227432\tvalid_loss :0.04827192798256874\n",
      "Epoch : 238,\ttrain_loss : 0.060780201107263565\tvalid_loss :0.0509464256465435\n",
      "Epoch : 239,\ttrain_loss : 0.06017187610268593\tvalid_loss :0.04825245961546898\n",
      "Epoch : 240,\ttrain_loss : 0.06340589374303818\tvalid_loss :0.0541454516351223\n",
      "Epoch : 241,\ttrain_loss : 0.06208443641662598\tvalid_loss :0.04674724116921425\n",
      "Epoch : 242,\ttrain_loss : 0.06590814143419266\tvalid_loss :0.044846706092357635\n",
      "Epoch : 243,\ttrain_loss : 0.05811789631843567\tvalid_loss :0.04952177777886391\n",
      "Epoch : 244,\ttrain_loss : 0.058052077889442444\tvalid_loss :0.048890773206949234\n",
      "Epoch : 245,\ttrain_loss : 0.060038015246391296\tvalid_loss :0.05392786115407944\n",
      "Epoch : 246,\ttrain_loss : 0.05778796970844269\tvalid_loss :0.045331742614507675\n",
      "Epoch : 247,\ttrain_loss : 0.05811399593949318\tvalid_loss :0.05341678857803345\n",
      "Epoch : 248,\ttrain_loss : 0.05859909951686859\tvalid_loss :0.04975659400224686\n",
      "Epoch : 249,\ttrain_loss : 0.059605374932289124\tvalid_loss :0.04675157740712166\n",
      "Epoch : 250,\ttrain_loss : 0.05865151062607765\tvalid_loss :0.046556174755096436\n",
      "Epoch : 251,\ttrain_loss : 0.05943785235285759\tvalid_loss :0.0492178313434124\n",
      "Epoch : 252,\ttrain_loss : 0.056767094880342484\tvalid_loss :0.04699841886758804\n",
      "Epoch : 253,\ttrain_loss : 0.05673119053244591\tvalid_loss :0.046818606555461884\n",
      "Epoch : 254,\ttrain_loss : 0.05605536326766014\tvalid_loss :0.04411296546459198\n",
      "**********Valid loss decreased (0.044753 ==> 0.044113)**********\n",
      "Epoch : 255,\ttrain_loss : 0.05810578167438507\tvalid_loss :0.05120845511555672\n",
      "Epoch : 256,\ttrain_loss : 0.06219818815588951\tvalid_loss :0.05190035328269005\n",
      "Epoch : 257,\ttrain_loss : 0.06064238026738167\tvalid_loss :0.05074024200439453\n",
      "Epoch : 258,\ttrain_loss : 0.06062912940979004\tvalid_loss :0.045452993363142014\n",
      "Epoch : 259,\ttrain_loss : 0.05619410052895546\tvalid_loss :0.04686186835169792\n",
      "Epoch : 260,\ttrain_loss : 0.057660382241010666\tvalid_loss :0.04871786758303642\n",
      "Epoch : 261,\ttrain_loss : 0.05575933679938316\tvalid_loss :0.048877816647291183\n",
      "Epoch : 262,\ttrain_loss : 0.06232665851712227\tvalid_loss :0.05017523095011711\n",
      "Epoch : 263,\ttrain_loss : 0.057260509580373764\tvalid_loss :0.048849716782569885\n",
      "Epoch : 264,\ttrain_loss : 0.056487176567316055\tvalid_loss :0.05599134415388107\n",
      "Epoch : 265,\ttrain_loss : 0.060311853885650635\tvalid_loss :0.04994288831949234\n",
      "Epoch : 266,\ttrain_loss : 0.06990614533424377\tvalid_loss :0.04751429706811905\n",
      "Epoch : 267,\ttrain_loss : 0.058187711983919144\tvalid_loss :0.04300205409526825\n",
      "**********Valid loss decreased (0.044113 ==> 0.043002)**********\n",
      "Epoch : 268,\ttrain_loss : 0.05490778386592865\tvalid_loss :0.04094402492046356\n",
      "**********Valid loss decreased (0.043002 ==> 0.040944)**********\n",
      "Epoch : 269,\ttrain_loss : 0.05890773609280586\tvalid_loss :0.045905809849500656\n",
      "Epoch : 270,\ttrain_loss : 0.06003522500395775\tvalid_loss :0.04761779308319092\n",
      "Epoch : 271,\ttrain_loss : 0.05467284098267555\tvalid_loss :0.04172973707318306\n",
      "Epoch : 272,\ttrain_loss : 0.05819479748606682\tvalid_loss :0.04661824181675911\n",
      "Epoch : 273,\ttrain_loss : 0.05605040118098259\tvalid_loss :0.043134111911058426\n",
      "Epoch : 274,\ttrain_loss : 0.06258754432201385\tvalid_loss :0.04621851071715355\n",
      "Epoch : 275,\ttrain_loss : 0.060532744973897934\tvalid_loss :0.05242403224110603\n",
      "Epoch : 276,\ttrain_loss : 0.06258942931890488\tvalid_loss :0.044609975069761276\n",
      "Epoch : 277,\ttrain_loss : 0.059091921895742416\tvalid_loss :0.04493919014930725\n",
      "Epoch : 278,\ttrain_loss : 0.05861112102866173\tvalid_loss :0.04621832072734833\n",
      "Epoch : 279,\ttrain_loss : 0.05874837934970856\tvalid_loss :0.04499286785721779\n",
      "Epoch : 280,\ttrain_loss : 0.05445444583892822\tvalid_loss :0.040783174335956573\n",
      "**********Valid loss decreased (0.040944 ==> 0.040783)**********\n",
      "Epoch : 281,\ttrain_loss : 0.05576232075691223\tvalid_loss :0.04650348797440529\n",
      "Epoch : 282,\ttrain_loss : 0.0555504709482193\tvalid_loss :0.040820591151714325\n",
      "Epoch : 283,\ttrain_loss : 0.05176675319671631\tvalid_loss :0.04492150992155075\n",
      "Epoch : 284,\ttrain_loss : 0.050908204168081284\tvalid_loss :0.04022274166345596\n",
      "**********Valid loss decreased (0.040783 ==> 0.040223)**********\n",
      "Epoch : 285,\ttrain_loss : 0.05310189723968506\tvalid_loss :0.04472921043634415\n",
      "Epoch : 286,\ttrain_loss : 0.0549151711165905\tvalid_loss :0.041235052049160004\n",
      "Epoch : 287,\ttrain_loss : 0.05514909327030182\tvalid_loss :0.04579780250787735\n",
      "Epoch : 288,\ttrain_loss : 0.05624916031956673\tvalid_loss :0.04400768131017685\n",
      "Epoch : 289,\ttrain_loss : 0.05428833141922951\tvalid_loss :0.045216407626867294\n",
      "Epoch : 290,\ttrain_loss : 0.05503949150443077\tvalid_loss :0.04481125250458717\n",
      "Epoch : 291,\ttrain_loss : 0.05474212393164635\tvalid_loss :0.04146809130907059\n",
      "Epoch : 292,\ttrain_loss : 0.05157532915472984\tvalid_loss :0.03808995336294174\n",
      "**********Valid loss decreased (0.040223 ==> 0.038090)**********\n",
      "Epoch : 293,\ttrain_loss : 0.06420888751745224\tvalid_loss :0.04677393659949303\n",
      "Epoch : 294,\ttrain_loss : 0.05492435768246651\tvalid_loss :0.04105512425303459\n",
      "Epoch : 295,\ttrain_loss : 0.05127451941370964\tvalid_loss :0.040001071989536285\n",
      "Epoch : 296,\ttrain_loss : 0.05097154900431633\tvalid_loss :0.039615850895643234\n",
      "Epoch : 297,\ttrain_loss : 0.05049519240856171\tvalid_loss :0.039290618151426315\n",
      "Epoch : 298,\ttrain_loss : 0.05332082882523537\tvalid_loss :0.03531458228826523\n",
      "**********Valid loss decreased (0.038090 ==> 0.035315)**********\n",
      "Epoch : 299,\ttrain_loss : 0.053061921149492264\tvalid_loss :0.043211277574300766\n",
      "Epoch : 300,\ttrain_loss : 0.055056702345609665\tvalid_loss :0.04048651456832886\n",
      "Epoch : 301,\ttrain_loss : 0.049292515963315964\tvalid_loss :0.04078107327222824\n",
      "Epoch : 302,\ttrain_loss : 0.05116927623748779\tvalid_loss :0.038595039397478104\n",
      "Epoch : 303,\ttrain_loss : 0.0483848862349987\tvalid_loss :0.03587551787495613\n",
      "Epoch : 304,\ttrain_loss : 0.05259096249938011\tvalid_loss :0.04278958961367607\n",
      "Epoch : 305,\ttrain_loss : 0.05299335718154907\tvalid_loss :0.042854972183704376\n",
      "Epoch : 306,\ttrain_loss : 0.05430959537625313\tvalid_loss :0.04382667690515518\n",
      "Epoch : 307,\ttrain_loss : 0.05761877819895744\tvalid_loss :0.0435040257871151\n",
      "Epoch : 308,\ttrain_loss : 0.061437610536813736\tvalid_loss :0.0445132777094841\n",
      "Epoch : 309,\ttrain_loss : 0.059086721390485764\tvalid_loss :0.04366306960582733\n",
      "Epoch : 310,\ttrain_loss : 0.06414008140563965\tvalid_loss :0.05012306943535805\n",
      "Epoch : 311,\ttrain_loss : 0.06525442004203796\tvalid_loss :0.05533131584525108\n",
      "Epoch : 312,\ttrain_loss : 0.06974229216575623\tvalid_loss :0.04637623578310013\n",
      "Epoch : 313,\ttrain_loss : 0.0639345645904541\tvalid_loss :0.053276270627975464\n",
      "Epoch : 314,\ttrain_loss : 0.0719163790345192\tvalid_loss :0.057419199496507645\n",
      "Epoch : 315,\ttrain_loss : 0.07151922583580017\tvalid_loss :0.056875791400671005\n",
      "Epoch : 316,\ttrain_loss : 0.06946159154176712\tvalid_loss :0.05613231658935547\n",
      "Epoch : 317,\ttrain_loss : 0.06360815465450287\tvalid_loss :0.04705987870693207\n",
      "Epoch : 318,\ttrain_loss : 0.0613095797598362\tvalid_loss :0.04568951576948166\n",
      "Epoch : 319,\ttrain_loss : 0.05318029224872589\tvalid_loss :0.04891739413142204\n",
      "Epoch : 320,\ttrain_loss : 0.06795347481966019\tvalid_loss :0.04597477987408638\n",
      "Epoch : 321,\ttrain_loss : 0.05131682753562927\tvalid_loss :0.03476915508508682\n",
      "**********Valid loss decreased (0.035315 ==> 0.034769)**********\n",
      "Epoch : 322,\ttrain_loss : 0.04696639999747276\tvalid_loss :0.03626563400030136\n",
      "Epoch : 323,\ttrain_loss : 0.04973842203617096\tvalid_loss :0.03504117950797081\n",
      "Epoch : 324,\ttrain_loss : 0.0512055940926075\tvalid_loss :0.04134736955165863\n",
      "Epoch : 325,\ttrain_loss : 0.053994327783584595\tvalid_loss :0.04197290912270546\n",
      "Epoch : 326,\ttrain_loss : 0.056418489664793015\tvalid_loss :0.04251891002058983\n",
      "Epoch : 327,\ttrain_loss : 0.05102761462330818\tvalid_loss :0.03701675310730934\n",
      "Epoch : 328,\ttrain_loss : 0.050760772079229355\tvalid_loss :0.039871182292699814\n",
      "Epoch : 329,\ttrain_loss : 0.05026117339730263\tvalid_loss :0.036783527582883835\n",
      "Epoch : 330,\ttrain_loss : 0.05144113674759865\tvalid_loss :0.03898628056049347\n",
      "Epoch : 331,\ttrain_loss : 0.04971444979310036\tvalid_loss :0.03662383556365967\n",
      "Epoch : 332,\ttrain_loss : 0.04461870715022087\tvalid_loss :0.034176055341959\n",
      "**********Valid loss decreased (0.034769 ==> 0.034176)**********\n",
      "Epoch : 333,\ttrain_loss : 0.04792264476418495\tvalid_loss :0.03636641800403595\n",
      "Epoch : 334,\ttrain_loss : 0.04728603735566139\tvalid_loss :0.03840171545743942\n",
      "Epoch : 335,\ttrain_loss : 0.04775247350335121\tvalid_loss :0.03703475371003151\n",
      "Epoch : 336,\ttrain_loss : 0.04250423610210419\tvalid_loss :0.03087121993303299\n",
      "**********Valid loss decreased (0.034176 ==> 0.030871)**********\n",
      "Epoch : 337,\ttrain_loss : 0.05110675469040871\tvalid_loss :0.04432964324951172\n",
      "Epoch : 338,\ttrain_loss : 0.049869734793901443\tvalid_loss :0.033938217908144\n",
      "Epoch : 339,\ttrain_loss : 0.050808314234018326\tvalid_loss :0.037598446011543274\n",
      "Epoch : 340,\ttrain_loss : 0.04811987653374672\tvalid_loss :0.035647790879011154\n",
      "Epoch : 341,\ttrain_loss : 0.047639429569244385\tvalid_loss :0.0337766632437706\n",
      "Epoch : 342,\ttrain_loss : 0.049856383353471756\tvalid_loss :0.03313969075679779\n",
      "Epoch : 343,\ttrain_loss : 0.046657126396894455\tvalid_loss :0.03566279262304306\n",
      "Epoch : 344,\ttrain_loss : 0.04663575813174248\tvalid_loss :0.03612235561013222\n",
      "Epoch : 345,\ttrain_loss : 0.04656510055065155\tvalid_loss :0.032967161387205124\n",
      "Epoch : 346,\ttrain_loss : 0.0458238311111927\tvalid_loss :0.034802231937646866\n",
      "Epoch : 347,\ttrain_loss : 0.04798094555735588\tvalid_loss :0.03982990235090256\n",
      "Epoch : 348,\ttrain_loss : 0.04559240862727165\tvalid_loss :0.03307204693555832\n",
      "Epoch : 349,\ttrain_loss : 0.04356973245739937\tvalid_loss :0.03222226724028587\n",
      "Epoch : 350,\ttrain_loss : 0.047095607966184616\tvalid_loss :0.03507499024271965\n",
      "Epoch : 351,\ttrain_loss : 0.04847119748592377\tvalid_loss :0.03622550889849663\n",
      "Epoch : 352,\ttrain_loss : 0.04657681658864021\tvalid_loss :0.033594656735658646\n",
      "Epoch : 353,\ttrain_loss : 0.04981248453259468\tvalid_loss :0.03452436253428459\n",
      "Epoch : 354,\ttrain_loss : 0.04789102077484131\tvalid_loss :0.03475393354892731\n",
      "Epoch : 355,\ttrain_loss : 0.03747372701764107\tvalid_loss :0.026598399505019188\n",
      "**********Valid loss decreased (0.030871 ==> 0.026598)**********\n",
      "Epoch : 356,\ttrain_loss : 0.03942244499921799\tvalid_loss :0.02996278926730156\n",
      "Epoch : 357,\ttrain_loss : 0.04403926804661751\tvalid_loss :0.03171656280755997\n",
      "Epoch : 358,\ttrain_loss : 0.04415788874030113\tvalid_loss :0.03631316125392914\n",
      "Epoch : 359,\ttrain_loss : 0.04416804388165474\tvalid_loss :0.03392783924937248\n",
      "Epoch : 360,\ttrain_loss : 0.04339762032032013\tvalid_loss :0.036743149161338806\n",
      "Epoch : 361,\ttrain_loss : 0.045150335878133774\tvalid_loss :0.031756799668073654\n",
      "Epoch : 362,\ttrain_loss : 0.04052551090717316\tvalid_loss :0.03116133250296116\n",
      "Epoch : 363,\ttrain_loss : 0.04274941608309746\tvalid_loss :0.03303267061710358\n",
      "Epoch : 364,\ttrain_loss : 0.04184482991695404\tvalid_loss :0.03375643491744995\n",
      "Epoch : 365,\ttrain_loss : 0.04298959672451019\tvalid_loss :0.033555302768945694\n",
      "Epoch : 366,\ttrain_loss : 0.04371054470539093\tvalid_loss :0.03555555269122124\n",
      "Epoch : 367,\ttrain_loss : 0.04338487610220909\tvalid_loss :0.03486200049519539\n",
      "Epoch : 368,\ttrain_loss : 0.041416242718696594\tvalid_loss :0.03127681091427803\n",
      "Epoch : 369,\ttrain_loss : 0.04041719436645508\tvalid_loss :0.03015437349677086\n",
      "Epoch : 370,\ttrain_loss : 0.04401133954524994\tvalid_loss :0.03511037304997444\n",
      "Epoch : 371,\ttrain_loss : 0.04418457671999931\tvalid_loss :0.028945976868271828\n",
      "Epoch : 372,\ttrain_loss : 0.042244210839271545\tvalid_loss :0.031961098313331604\n",
      "Epoch : 373,\ttrain_loss : 0.041206151247024536\tvalid_loss :0.028187956660985947\n",
      "Epoch : 374,\ttrain_loss : 0.03922867774963379\tvalid_loss :0.029680710285902023\n",
      "Epoch : 375,\ttrain_loss : 0.03593631461262703\tvalid_loss :0.024841107428073883\n",
      "**********Valid loss decreased (0.026598 ==> 0.024841)**********\n",
      "Epoch : 376,\ttrain_loss : 0.03842249885201454\tvalid_loss :0.03075646609067917\n",
      "Epoch : 377,\ttrain_loss : 0.041765760630369186\tvalid_loss :0.027333149686455727\n",
      "Epoch : 378,\ttrain_loss : 0.04108400642871857\tvalid_loss :0.02996974065899849\n",
      "Epoch : 379,\ttrain_loss : 0.04248581454157829\tvalid_loss :0.029968587681651115\n",
      "Epoch : 380,\ttrain_loss : 0.03999100252985954\tvalid_loss :0.02884296141564846\n",
      "Epoch : 381,\ttrain_loss : 0.039696794003248215\tvalid_loss :0.030398311093449593\n",
      "Epoch : 382,\ttrain_loss : 0.03943781554698944\tvalid_loss :0.02855020947754383\n",
      "Epoch : 383,\ttrain_loss : 0.040006037801504135\tvalid_loss :0.02986668236553669\n",
      "Epoch : 384,\ttrain_loss : 0.04299486055970192\tvalid_loss :0.032910075038671494\n",
      "Epoch : 385,\ttrain_loss : 0.04018792882561684\tvalid_loss :0.029730625450611115\n",
      "Epoch : 386,\ttrain_loss : 0.03752231225371361\tvalid_loss :0.028643537312746048\n",
      "Epoch : 387,\ttrain_loss : 0.036662232130765915\tvalid_loss :0.031043635681271553\n",
      "Epoch : 388,\ttrain_loss : 0.04152316227555275\tvalid_loss :0.04083689674735069\n",
      "Epoch : 389,\ttrain_loss : 0.046758558601140976\tvalid_loss :0.033589694648981094\n",
      "Epoch : 390,\ttrain_loss : 0.04104585945606232\tvalid_loss :0.03226301819086075\n",
      "Epoch : 391,\ttrain_loss : 0.042106423527002335\tvalid_loss :0.029130788519978523\n",
      "Epoch : 392,\ttrain_loss : 0.03892591968178749\tvalid_loss :0.029239056631922722\n",
      "Epoch : 393,\ttrain_loss : 0.040610600262880325\tvalid_loss :0.03048046864569187\n",
      "Epoch : 394,\ttrain_loss : 0.037793222814798355\tvalid_loss :0.024496810510754585\n",
      "**********Valid loss decreased (0.024841 ==> 0.024497)**********\n",
      "Epoch : 395,\ttrain_loss : 0.033160772174596786\tvalid_loss :0.029848549515008926\n",
      "Epoch : 396,\ttrain_loss : 0.03619867563247681\tvalid_loss :0.023917797952890396\n",
      "**********Valid loss decreased (0.024497 ==> 0.023918)**********\n",
      "Epoch : 397,\ttrain_loss : 0.032688237726688385\tvalid_loss :0.025818655267357826\n",
      "Epoch : 398,\ttrain_loss : 0.03529947251081467\tvalid_loss :0.027267467230558395\n",
      "Epoch : 399,\ttrain_loss : 0.032508641481399536\tvalid_loss :0.024185528978705406\n",
      "Epoch : 400,\ttrain_loss : 0.03043844737112522\tvalid_loss :0.022452350705862045\n",
      "**********Valid loss decreased (0.023918 ==> 0.022452)**********\n",
      "Epoch : 401,\ttrain_loss : 0.02967008762061596\tvalid_loss :0.018937841057777405\n",
      "**********Valid loss decreased (0.022452 ==> 0.018938)**********\n",
      "Epoch : 402,\ttrain_loss : 0.03003835119307041\tvalid_loss :0.02613702043890953\n",
      "Epoch : 403,\ttrain_loss : 0.0348784476518631\tvalid_loss :0.027046192437410355\n",
      "Epoch : 404,\ttrain_loss : 0.03354502096772194\tvalid_loss :0.024442488327622414\n",
      "Epoch : 405,\ttrain_loss : 0.030605502426624298\tvalid_loss :0.022065650671720505\n",
      "Epoch : 406,\ttrain_loss : 0.03194902837276459\tvalid_loss :0.025316227227449417\n",
      "Epoch : 407,\ttrain_loss : 0.031816158443689346\tvalid_loss :0.02144647389650345\n",
      "Epoch : 408,\ttrain_loss : 0.029784375801682472\tvalid_loss :0.023963581770658493\n",
      "Epoch : 409,\ttrain_loss : 0.030699996277689934\tvalid_loss :0.024359483271837234\n",
      "Epoch : 410,\ttrain_loss : 0.02985033206641674\tvalid_loss :0.022596929222345352\n",
      "Epoch : 411,\ttrain_loss : 0.03020608425140381\tvalid_loss :0.022649547085165977\n",
      "Epoch : 412,\ttrain_loss : 0.03130120411515236\tvalid_loss :0.02266145683825016\n",
      "Epoch : 413,\ttrain_loss : 0.029085593298077583\tvalid_loss :0.01998552307486534\n",
      "Epoch : 414,\ttrain_loss : 0.029242075979709625\tvalid_loss :0.0209721177816391\n",
      "Epoch : 415,\ttrain_loss : 0.03083714284002781\tvalid_loss :0.02038213424384594\n",
      "Epoch : 416,\ttrain_loss : 0.02762395143508911\tvalid_loss :0.01907646656036377\n",
      "Epoch : 417,\ttrain_loss : 0.02694042958319187\tvalid_loss :0.01850459910929203\n",
      "**********Valid loss decreased (0.018938 ==> 0.018505)**********\n",
      "Epoch : 418,\ttrain_loss : 0.026426440104842186\tvalid_loss :0.01752290688455105\n",
      "**********Valid loss decreased (0.018505 ==> 0.017523)**********\n",
      "Epoch : 419,\ttrain_loss : 0.02744460292160511\tvalid_loss :0.019796067848801613\n",
      "Epoch : 420,\ttrain_loss : 0.027951158583164215\tvalid_loss :0.024398915469646454\n",
      "Epoch : 421,\ttrain_loss : 0.03169689700007439\tvalid_loss :0.0312589593231678\n",
      "Epoch : 422,\ttrain_loss : 0.030821330845355988\tvalid_loss :0.019993234425783157\n",
      "Epoch : 423,\ttrain_loss : 0.028516432270407677\tvalid_loss :0.021210547536611557\n",
      "Epoch : 424,\ttrain_loss : 0.028127850964665413\tvalid_loss :0.019795982167124748\n",
      "Epoch : 425,\ttrain_loss : 0.027288595214486122\tvalid_loss :0.020207272842526436\n",
      "Epoch : 426,\ttrain_loss : 0.028424708172678947\tvalid_loss :0.020417146384716034\n",
      "Epoch : 427,\ttrain_loss : 0.028247231617569923\tvalid_loss :0.021928442642092705\n",
      "Epoch : 428,\ttrain_loss : 0.030099935829639435\tvalid_loss :0.02143016830086708\n",
      "Epoch : 429,\ttrain_loss : 0.029350103810429573\tvalid_loss :0.02017495036125183\n",
      "Epoch : 430,\ttrain_loss : 0.028909651562571526\tvalid_loss :0.01973564177751541\n",
      "Epoch : 431,\ttrain_loss : 0.028804011642932892\tvalid_loss :0.021819770336151123\n",
      "Epoch : 432,\ttrain_loss : 0.03016091324388981\tvalid_loss :0.0212264247238636\n",
      "Epoch : 433,\ttrain_loss : 0.028491457924246788\tvalid_loss :0.01769854687154293\n",
      "Epoch : 434,\ttrain_loss : 0.03146803006529808\tvalid_loss :0.02016051672399044\n",
      "Epoch : 435,\ttrain_loss : 0.029272260144352913\tvalid_loss :0.018096892163157463\n",
      "Epoch : 436,\ttrain_loss : 0.027620084583759308\tvalid_loss :0.019210021942853928\n",
      "Epoch : 437,\ttrain_loss : 0.027627965435385704\tvalid_loss :0.01852010190486908\n",
      "Epoch : 438,\ttrain_loss : 0.027682088315486908\tvalid_loss :0.019911769777536392\n",
      "Epoch : 439,\ttrain_loss : 0.028889261186122894\tvalid_loss :0.020581629127264023\n",
      "Epoch : 440,\ttrain_loss : 0.027729639783501625\tvalid_loss :0.017867421731352806\n",
      "Epoch : 441,\ttrain_loss : 0.02680809237062931\tvalid_loss :0.018060341477394104\n",
      "Epoch : 442,\ttrain_loss : 0.02751823328435421\tvalid_loss :0.020067580044269562\n",
      "Epoch : 443,\ttrain_loss : 0.029321687296032906\tvalid_loss :0.017534002661705017\n",
      "Epoch : 444,\ttrain_loss : 0.02760136127471924\tvalid_loss :0.018872153013944626\n",
      "Epoch : 445,\ttrain_loss : 0.029042420908808708\tvalid_loss :0.01814793050289154\n",
      "Epoch : 446,\ttrain_loss : 0.029234597459435463\tvalid_loss :0.020594138652086258\n",
      "Epoch : 447,\ttrain_loss : 0.028890671208500862\tvalid_loss :0.01813358999788761\n",
      "Epoch : 448,\ttrain_loss : 0.02873857319355011\tvalid_loss :0.018810417503118515\n",
      "Epoch : 449,\ttrain_loss : 0.028183115646243095\tvalid_loss :0.019412163645029068\n",
      "Epoch : 450,\ttrain_loss : 0.027899108827114105\tvalid_loss :0.02104746364057064\n",
      "Epoch : 451,\ttrain_loss : 0.02975963056087494\tvalid_loss :0.02185709960758686\n",
      "Epoch : 452,\ttrain_loss : 0.02916744165122509\tvalid_loss :0.021398643031716347\n",
      "Epoch : 453,\ttrain_loss : 0.030848905444145203\tvalid_loss :0.022240830585360527\n",
      "Epoch : 454,\ttrain_loss : 0.03028763085603714\tvalid_loss :0.021061083301901817\n",
      "Epoch : 455,\ttrain_loss : 0.02838852070271969\tvalid_loss :0.02069193311035633\n",
      "Epoch : 456,\ttrain_loss : 0.029240688309073448\tvalid_loss :0.02321973443031311\n",
      "Epoch : 457,\ttrain_loss : 0.030586378648877144\tvalid_loss :0.026235077530145645\n",
      "Epoch : 458,\ttrain_loss : 0.03136811777949333\tvalid_loss :0.026226907968521118\n",
      "Epoch : 459,\ttrain_loss : 0.03393280878663063\tvalid_loss :0.028415732085704803\n",
      "Epoch : 460,\ttrain_loss : 0.03701017051935196\tvalid_loss :0.030399231240153313\n",
      "Epoch : 461,\ttrain_loss : 0.033049579709768295\tvalid_loss :0.024434395134449005\n",
      "Epoch : 462,\ttrain_loss : 0.03059014119207859\tvalid_loss :0.02448149211704731\n",
      "Epoch : 463,\ttrain_loss : 0.031666453927755356\tvalid_loss :0.02207467518746853\n",
      "Epoch : 464,\ttrain_loss : 0.031786639243364334\tvalid_loss :0.02441144362092018\n",
      "Epoch : 465,\ttrain_loss : 0.03021189011633396\tvalid_loss :0.02384081669151783\n",
      "Epoch : 466,\ttrain_loss : 0.03124220483005047\tvalid_loss :0.0236604455858469\n",
      "Epoch : 467,\ttrain_loss : 0.029807396233081818\tvalid_loss :0.022381173446774483\n",
      "Epoch : 468,\ttrain_loss : 0.028826763853430748\tvalid_loss :0.02117041125893593\n",
      "Epoch : 469,\ttrain_loss : 0.0299220010638237\tvalid_loss :0.021784547716379166\n",
      "Epoch : 470,\ttrain_loss : 0.029027631506323814\tvalid_loss :0.02494155429303646\n",
      "Epoch : 471,\ttrain_loss : 0.029241375625133514\tvalid_loss :0.021585067734122276\n",
      "Epoch : 472,\ttrain_loss : 0.029255462810397148\tvalid_loss :0.023020071908831596\n",
      "Epoch : 473,\ttrain_loss : 0.028413565829396248\tvalid_loss :0.02153649553656578\n",
      "Epoch : 474,\ttrain_loss : 0.02806442230939865\tvalid_loss :0.022571345791220665\n",
      "Epoch : 475,\ttrain_loss : 0.028667740523815155\tvalid_loss :0.021919243037700653\n",
      "Epoch : 476,\ttrain_loss : 0.02972756326198578\tvalid_loss :0.024499839171767235\n",
      "Epoch : 477,\ttrain_loss : 0.029011346399784088\tvalid_loss :0.023208297789096832\n",
      "Epoch : 478,\ttrain_loss : 0.02881036512553692\tvalid_loss :0.022267190739512444\n",
      "Epoch : 479,\ttrain_loss : 0.0300142765045166\tvalid_loss :0.022757740691304207\n",
      "Epoch : 480,\ttrain_loss : 0.029116416350007057\tvalid_loss :0.018061477690935135\n",
      "Epoch : 481,\ttrain_loss : 0.032902736216783524\tvalid_loss :0.019791007041931152\n",
      "Epoch : 482,\ttrain_loss : 0.02889859676361084\tvalid_loss :0.02084638737142086\n",
      "Epoch : 483,\ttrain_loss : 0.028392324224114418\tvalid_loss :0.02416067384183407\n",
      "Epoch : 484,\ttrain_loss : 0.027829667553305626\tvalid_loss :0.019863298162817955\n",
      "Epoch : 485,\ttrain_loss : 0.026911037042737007\tvalid_loss :0.020676983520388603\n",
      "Epoch : 486,\ttrain_loss : 0.02693183906376362\tvalid_loss :0.019859258085489273\n",
      "Epoch : 487,\ttrain_loss : 0.027232341468334198\tvalid_loss :0.018128637224435806\n",
      "Epoch : 488,\ttrain_loss : 0.026769228279590607\tvalid_loss :0.020962685346603394\n",
      "Epoch : 489,\ttrain_loss : 0.02781291864812374\tvalid_loss :0.022498903796076775\n",
      "Epoch : 490,\ttrain_loss : 0.02765297144651413\tvalid_loss :0.022745799273252487\n",
      "Epoch : 491,\ttrain_loss : 0.027977943420410156\tvalid_loss :0.020810630172491074\n",
      "Epoch : 492,\ttrain_loss : 0.027867184951901436\tvalid_loss :0.021961329504847527\n",
      "Epoch : 493,\ttrain_loss : 0.028896234929561615\tvalid_loss :0.020441725850105286\n",
      "Epoch : 494,\ttrain_loss : 0.02763480506837368\tvalid_loss :0.023516368120908737\n",
      "Epoch : 495,\ttrain_loss : 0.02947353385388851\tvalid_loss :0.0203770212829113\n",
      "Epoch : 496,\ttrain_loss : 0.02794690988957882\tvalid_loss :0.02278536558151245\n",
      "Epoch : 497,\ttrain_loss : 0.02941613644361496\tvalid_loss :0.022964445874094963\n",
      "Epoch : 498,\ttrain_loss : 0.0274999737739563\tvalid_loss :0.02092563547194004\n",
      "Epoch : 499,\ttrain_loss : 0.02737346477806568\tvalid_loss :0.022528531029820442\n"
     ]
    }
   ],
   "source": [
    "epoch = 500\n",
    "teacher_forcing_ratio = 0.5\n",
    "learning_rate = 0.006\n",
    "# embeder = Emb(hidden_size, output_size)\n",
    "encoder.to(device)\n",
    "decoder.to(device)\n",
    "# embeder.to(device)\n",
    "encoder_optimizer = optim.Adam(encoder.parameters(), lr = learning_rate)\n",
    "decoder_optimizer = optim.Adam(decoder.parameters(), lr = learning_rate)\n",
    "# embeder_optimizer = optim.Adam(embeder.parameters(), lr = learning_rate)\n",
    "# scheduler1 = optim.lr_scheduler.StepLR(encoder_optimizer,step_size=100,verbose=True)\n",
    "# scheduler2 = optim.lr_scheduler.StepLR(decoder_optimizer,step_size=100,verbose=True)\n",
    "\n",
    "# criterion = mse_loss\n",
    "criterion = nn.MSELoss()\n",
    "# Save training loss\n",
    "train_loss = torch.zeros(epoch)\n",
    "valid_loss_min = np.Inf\n",
    "# Save validation loss\n",
    "valid_loss = torch.zeros(epoch)\n",
    "for e in trange(epoch):\n",
    "    encoder.train()\n",
    "    decoder.train()\n",
    "    for data, label in train_loader:\n",
    "        data, label = data.to(device), label.to(device)\n",
    "\n",
    "        encoder_hidden = encoder.initHidden(num_layer,label.shape[0])\n",
    "        encoder_hidden = encoder_hidden.to(device)\n",
    "        \n",
    "        encoder_optimizer.zero_grad()\n",
    "        decoder_optimizer.zero_grad()\n",
    "        # embeder_optimizer.zero_grad()\n",
    "        encoder_length = data.size(1) # input_window_size\n",
    "        decoder_length = label.size(1) # input_window_size + output_window_size\n",
    "        \n",
    "        # encoder_outputs = torch.zeros(MAX_LENGTH, encoder.hidden_size).to(device)\n",
    "        \n",
    "        \n",
    "        # Encoder\n",
    "        for ei in range(encoder_length): #input_window_size 만큼\n",
    "            encoder_output, encoder_hidden = encoder(data[:,ei,:].reshape(label.shape[0],1,-1), encoder_hidden)\n",
    "        # Decoder_init\n",
    "        d_input = torch.zeros((label.shape[0],1,2)).to(device)\n",
    "        # d_input = label[:,0,:].reshape(label.shape[0],1,-1)\n",
    "        decoder_input = d_input\n",
    "        decoder_hidden = encoder_hidden\n",
    "        \n",
    "        # Decoder\n",
    "        for di in range(decoder_length): # input_window_size + output_window_size 만큼\n",
    "            decoder_output, decoder_hidden = decoder(decoder_input,decoder_hidden)\n",
    "            loss=criterion(decoder_output, label[:,di,:].reshape(label.shape[0],1,-1))\n",
    "            decoder_input = label[:,di,:].reshape(label.shape[0],1,-1) #if teacher_force else decoder_output\n",
    "            train_loss[e] += loss.item()\n",
    "            \n",
    "        loss.backward(retain_graph = True)\n",
    "        encoder_optimizer.step()\n",
    "        decoder_optimizer.step()\n",
    "    train_loss[e] /= len(train_loader)\n",
    "\n",
    "    with torch.no_grad():\n",
    "        encoder.eval()\n",
    "        decoder.eval()\n",
    "        for data, label in valid_loader:\n",
    "            data, label = data.to(device), label.to(device)\n",
    "            \n",
    "            encoder_hidden = encoder.initHidden(num_layer,label.shape[0])\n",
    "            encoder_hidden = encoder_hidden.to(device)\n",
    "\n",
    "            encoder_length = data.size(1)\n",
    "            decoder_length = label.size(1)\n",
    "\n",
    "            # Encoder\n",
    "            for ei in range(encoder_length):\n",
    "                encoder_output, encoder_hidden = encoder(data[:,ei,:].reshape(label.shape[0],1,-1), encoder_hidden)\n",
    "            # Decoder_init\n",
    "            d_input = torch.zeros((label.shape[0],1,2)).to(device)\n",
    "            # d_input = label[:,0,:].reshape(label.shape[0],1,-1)\n",
    "            decoder_input = d_input\n",
    "            decoder_hidden = encoder_hidden\n",
    "            \n",
    "            # Decoder\n",
    "            for di in range(decoder_length):\n",
    "                decoder_output, decoder_hidden = decoder(decoder_input,decoder_hidden)\n",
    "                decoder_input = label[:,di,:].reshape(label.shape[0],1,-1)\n",
    "                loss=criterion(decoder_output, label[:,di,:].reshape(label.shape[0],1,-1))\n",
    "                valid_loss[e] += loss.item()\n",
    "        valid_loss[e] /= len(valid_loader)\n",
    "        # scheduler1.step()\n",
    "        # scheduler2.step()\n",
    "    print(f'Epoch : {e},\\ttrain_loss : {train_loss[e]}\\tvalid_loss :{valid_loss[e]}')\n",
    "    if (valid_loss[e] < valid_loss_min):\n",
    "        print(f'**********Valid loss decreased ({valid_loss_min:.6f} ==> {valid_loss[e]:.6f})**********')\n",
    "        valid_loss_min = valid_loss[e]\n",
    "        torch.save(encoder.state_dict(),'Encoder.pt')\n",
    "        torch.save(decoder.state_dict(),'Decoder.pt')"
   ]
  },
  {
   "cell_type": "markdown",
   "id": "b619d7b4-c26a-4b13-a714-2bde6fc0b137",
   "metadata": {},
   "source": [
    "## Test & Eval"
   ]
  },
  {
   "cell_type": "code",
   "execution_count": 543,
   "id": "6ad7bbe7-d14f-468d-85f1-c94aed0d903d",
   "metadata": {},
   "outputs": [
    {
     "data": {
      "text/plain": [
       "[<matplotlib.lines.Line2D at 0x237816a2970>]"
      ]
     },
     "execution_count": 543,
     "metadata": {},
     "output_type": "execute_result"
    },
    {
     "data": {
      "image/png": "[encoded data removed]",
      "text/plain": [
       "<Figure size 432x288 with 1 Axes>"
      ]
     },
     "metadata": {
      "needs_background": "light"
     },
     "output_type": "display_data"
    }
   ],
   "source": [
    "plt.plot(valid_loss)"
   ]
  },
  {
   "cell_type": "code",
   "execution_count": 544,
   "id": "48ec3f9e-5efe-4b13-826e-a0cbd6f1f434",
   "metadata": {},
   "outputs": [
    {
     "data": {
      "text/plain": [
       "[<matplotlib.lines.Line2D at 0x23783740340>]"
      ]
     },
     "execution_count": 544,
     "metadata": {},
     "output_type": "execute_result"
    },
    {
     "data": {
      "image/png": "[encoded data removed]",
      "text/plain": [
       "<Figure size 432x288 with 1 Axes>"
      ]
     },
     "metadata": {
      "needs_background": "light"
     },
     "output_type": "display_data"
    }
   ],
   "source": [
    "plt.plot(train_loss)"
   ]
  },
  {
   "cell_type": "code",
   "execution_count": 545,
   "id": "9eaabf8e-82ea-41d2-954f-a27ebbba56ee",
   "metadata": {},
   "outputs": [
    {
     "data": {
      "text/plain": [
       "[<matplotlib.lines.Line2D at 0x237837a3610>]"
      ]
     },
     "execution_count": 545,
     "metadata": {},
     "output_type": "execute_result"
    },
    {
     "data": {
      "image/png": "[encoded data removed]",
      "text/plain": [
       "<Figure size 432x288 with 1 Axes>"
      ]
     },
     "metadata": {
      "needs_background": "light"
     },
     "output_type": "display_data"
    }
   ],
   "source": [
    "plt.plot(valid_loss)\n",
    "plt.plot(train_loss)"
   ]
  },
  {
   "cell_type": "code",
   "execution_count": 546,
   "id": "a7733c30-8511-4163-b333-29b7fcdb0754",
   "metadata": {},
   "outputs": [
    {
     "data": {
      "text/plain": [
       "DecoderRNN(\n",
       "  (gru): GRU(2, 100, num_layers=2, batch_first=True)\n",
       "  (fc1): Linear(in_features=100, out_features=100, bias=True)\n",
       "  (fc2): Linear(in_features=100, out_features=2, bias=True)\n",
       "  (ln): LayerNorm((100,), eps=1e-05, elementwise_affine=True)\n",
       "  (relu): ReLU(inplace=True)\n",
       "  (dropout): Dropout(p=0.3, inplace=False)\n",
       "  (bn): InstanceNorm1d(100, eps=1e-05, momentum=0.1, affine=False, track_running_stats=False)\n",
       ")"
      ]
     },
     "execution_count": 546,
     "metadata": {},
     "output_type": "execute_result"
    }
   ],
   "source": [
    "encoder.load_state_dict(torch.load('./Encoder_wbest.pt'))\n",
    "decoder.load_state_dict(torch.load('./Decoder_wbest.pt'))\n",
    "encoder.eval()\n",
    "decoder.eval()"
   ]
  },
  {
   "cell_type": "code",
   "execution_count": 549,
   "id": "ecd65b0d-76c6-4b27-9ebb-b157b2ee6576",
   "metadata": {},
   "outputs": [],
   "source": [
    "test_data_1 = next(iter(train_loader))[0][1,:,:]\n",
    "test_label_1 = next(iter(train_loader))[1][1,:,:]\n",
    "test_data_1 = test_data_1.reshape(1,4,-1)\n",
    "test_label_1 = test_label_1.reshape(1,6,-1)\n",
    "test_data_2 = next(iter(train_loader))[0][2,:,:]\n",
    "test_label_2 = next(iter(train_loader))[1][2,:,:]\n",
    "test_data_2 = test_data_2.reshape(1,4,-1)\n",
    "test_label_2 = test_label_2.reshape(1,6,-1)\n",
    "test_data_3 = next(iter(train_loader))[0][3,:,:]\n",
    "test_label_3 = next(iter(train_loader))[1][3,:,:]\n",
    "test_data_3 = test_data_3.reshape(1,4,-1)\n",
    "test_label_3 = test_label_3.reshape(1,6,-1)"
   ]
  },
  {
   "cell_type": "markdown",
   "id": "fc7af779-4614-4a80-ae4d-1a6d25fcd23c",
   "metadata": {},
   "source": [
    "## First_input = Zeros"
   ]
  },
  {
   "cell_type": "code",
   "execution_count": 552,
   "id": "5c6fb022-41e0-4c1e-9c84-47bf3b6f0f30",
   "metadata": {},
   "outputs": [],
   "source": [
    "test_data_1 = test_data_1.to(device)\n",
    "hid = encoder.initHidden(2,1)\n",
    "hid = hid.to(device)\n",
    "pred_path = []\n",
    "for i in range(in_window):\n",
    "    out, hidden = encoder(test_data_1[:,i,:].reshape(1,1,-1), hid)\n",
    "d_input = torch.zeros((1,1,2)).to(device)\n",
    "# d_input = test_label_1[:,0,:].reshape(1,1,-1).to(device)\n",
    "decoder_input = d_input\n",
    "decoder_hidden = hidden\n",
    "\n",
    "for i in range(in_window):\n",
    "    decoder_output, decoder_hidden = decoder(decoder_input, decoder_hidden)\n",
    "    decoder_input = test_label_1[:,i,:].reshape(1,1,-1).to(device)\n",
    "    pred_path.append(decoder_input)\n",
    "    \n",
    "for i in range(out_window):\n",
    "    decoder_output, decoder_hidden = decoder(decoder_input, decoder_hidden)\n",
    "    decoder_input = decoder_output\n",
    "    pred_path.append(decoder_output)\n"
   ]
  },
  {
   "cell_type": "code",
   "execution_count": 551,
   "id": "ed838844-75fd-4d43-b57d-8a966b567df6",
   "metadata": {},
   "outputs": [
    {
     "data": {
      "text/plain": [
       "([tensor([[[0.2517, 0.4122]]], device='cuda:0'),\n",
       "  tensor([[[0.3250, 0.3589]]], device='cuda:0'),\n",
       "  tensor([[[0.3683, 0.3278]]], device='cuda:0'),\n",
       "  tensor([[[0.4133, 0.3267]]], device='cuda:0'),\n",
       "  tensor([[[0.4595, 0.3485]]], device='cuda:0', grad_fn=<ViewBackward0>),\n",
       "  tensor([[[0.4993, 0.3918]]], device='cuda:0', grad_fn=<ViewBackward0>)],\n",
       " tensor([[[0.2517, 0.4122],\n",
       "          [0.3250, 0.3589],\n",
       "          [0.3683, 0.3278],\n",
       "          [0.4133, 0.3267],\n",
       "          [0.4417, 0.3278],\n",
       "          [0.4700, 0.3400]]]))"
      ]
     },
     "execution_count": 551,
     "metadata": {},
     "output_type": "execute_result"
    }
   ],
   "source": [
    "pred_path, test_label_1"
   ]
  },
  {
   "cell_type": "markdown",
   "id": "a051ab54-cbe4-45eb-9578-54ed4751642c",
   "metadata": {},
   "source": [
    "## TEST"
   ]
  },
  {
   "cell_type": "code",
   "execution_count": 561,
   "id": "3310fce7-d908-44c1-a827-6705d67b5b07",
   "metadata": {},
   "outputs": [],
   "source": [
    "tx = next(iter(test_loader))[0].to(device)\n",
    "ty = next(iter(test_loader))[1].to(device)"
   ]
  },
  {
   "cell_type": "code",
   "execution_count": 562,
   "id": "d5c8aca3-e4fe-452d-9f54-f1239cf0e7cd",
   "metadata": {},
   "outputs": [],
   "source": [
    "hid = encoder.initHidden(2,1)\n",
    "hid = hid.to(device)\n",
    "pred_path = []\n",
    "for i in range(in_window):\n",
    "    out, hidden = encoder(tx[:,i,:].reshape(1,1,-1), hid)\n",
    "d_input = torch.zeros((1,1,2)).to(device)\n",
    "# d_input = test_label_1[:,0,:].reshape(1,1,-1).to(device)\n",
    "decoder_input = d_input\n",
    "decoder_hidden = hidden\n",
    "\n",
    "for i in range(in_window):\n",
    "    decoder_output, decoder_hidden = decoder(decoder_input, decoder_hidden)\n",
    "    decoder_input = ty[:,i,:].reshape(1,1,-1).to(device)\n",
    "    pred_path.append(decoder_input)\n",
    "    \n",
    "for i in range(out_window):\n",
    "    decoder_output, decoder_hidden = decoder(decoder_input, decoder_hidden)\n",
    "    decoder_input = decoder_output\n",
    "    pred_path.append(decoder_output)\n"
   ]
  },
  {
   "cell_type": "code",
   "execution_count": 563,
   "id": "fe33db68-7e1c-433a-b1e5-25eeb67e45f3",
   "metadata": {},
   "outputs": [
    {
     "data": {
      "text/plain": [
       "[tensor([[[0.5417, 0.6433]]], device='cuda:0'),\n",
       " tensor([[[0.5550, 0.6467]]], device='cuda:0'),\n",
       " tensor([[[0.5750, 0.6511]]], device='cuda:0'),\n",
       " tensor([[[0.5900, 0.6567]]], device='cuda:0'),\n",
       " tensor([[[0.6002, 0.6506]]], device='cuda:0', grad_fn=<ViewBackward0>),\n",
       " tensor([[[0.5978, 0.6315]]], device='cuda:0', grad_fn=<ViewBackward0>)]"
      ]
     },
     "execution_count": 563,
     "metadata": {},
     "output_type": "execute_result"
    }
   ],
   "source": [
    "pred_path"
   ]
  },
  {
   "cell_type": "code",
   "execution_count": 564,
   "id": "a171fdae-8a8f-4e8f-9b84-4e0917b5e958",
   "metadata": {},
   "outputs": [
    {
     "data": {
      "text/plain": [
       "tensor([[[0.5417, 0.6433],\n",
       "         [0.5550, 0.6467],\n",
       "         [0.5750, 0.6511],\n",
       "         [0.5900, 0.6567],\n",
       "         [0.6067, 0.6778],\n",
       "         [0.6133, 0.6989]]], device='cuda:0')"
      ]
     },
     "execution_count": 564,
     "metadata": {},
     "output_type": "execute_result"
    }
   ],
   "source": [
    "ty"
   ]
  }
 ],
 "metadata": {
  "kernelspec": {
   "display_name": "Python 3 (ipykernel)",
   "language": "python",
   "name": "python3"
  },
  "language_info": {
   "codemirror_mode": {
    "name": "ipython",
    "version": 3
   },
   "file_extension": ".py",
   "mimetype": "text/x-python",
   "name": "python",
   "nbconvert_exporter": "python",
   "pygments_lexer": "ipython3",
   "version": "3.8.13"
  }
 },
 "nbformat": 4,
 "nbformat_minor": 5
}
