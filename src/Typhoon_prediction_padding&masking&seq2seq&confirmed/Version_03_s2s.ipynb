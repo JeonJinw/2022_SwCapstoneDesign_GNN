{
 "cells": [
  {
   "cell_type": "markdown",
   "id": "9010e283-eb33-423e-8670-eda779dbceaf",
   "metadata": {},
   "source": [
    "# Typhoon Prediction Project\n",
    "* Predict the trajectory of typhoons\n",
    "    * 6h, 12h, 18h, 24h, ...\n",
    "* LSTM, GRU"
   ]
  },
  {
   "cell_type": "code",
   "execution_count": 2312,
   "id": "9e1988b2-1225-42b4-8600-de1eb0aaa004",
   "metadata": {},
   "outputs": [],
   "source": [
    "import pandas as pd\n",
    "# from pandas.core.common import SettingWithCopyWarning\n",
    "import numpy as np\n",
    "import torch\n",
    "from torch.utils.data import Dataset,DataLoader\n",
    "from sklearn.preprocessing import StandardScaler, MinMaxScaler\n",
    "import matplotlib.pyplot as plt\n",
    "from tqdm.auto import tqdm, trange\n",
    "import random\n",
    "import torch\n",
    "import torch.nn as nn\n",
    "import torch.nn.functional as F\n",
    "import torch.optim as optim\n",
    "from torchinfo import summary\n",
    "from torch.nn.utils.rnn import pad_sequence\n",
    "from sklearn.metrics import mean_absolute_error, f1_score\n",
    "from sklearn.model_selection import train_test_split\n",
    "from torch.autograd import Variable\n",
    "import geopandas as gpd\n",
    "from shapely.geometry import LineString\n",
    "from torch.nn.utils.rnn import pad_sequence, pack_padded_sequence, pad_packed_sequence\n",
    "\n",
    "pd.set_option('mode.chained_assignment', None)\n",
    "train_on_gpu = torch.cuda.is_available()\n",
    "if not train_on_gpu:\n",
    "    device = 'cpu'\n",
    "    print('CUDA is not available. Training on CPU...')\n",
    "else:\n",
    "    device = 'cuda'"
   ]
  },
  {
   "cell_type": "code",
   "execution_count": 2313,
   "id": "6c9fa743-6ca5-4b12-828f-1dc83a1fdd5f",
   "metadata": {},
   "outputs": [],
   "source": [
    "DIR_MAP = {'북': 0, '북동':1, '북서': 2, '북북서':3, '북북동':4, '서북서':5, '서':6, '서남서':7, '동북동':8, '남서':9,'남남동':10, '동남동':11, '남남서':12, '동':13, '남':14, '남동':15, -1:-1}"
   ]
  },
  {
   "cell_type": "code",
   "execution_count": 2314,
   "id": "2f1e20c0-3ece-4580-9268-0b00fbc3362b",
   "metadata": {},
   "outputs": [],
   "source": [
    "## 전처리\n",
    "def rep_nan(data):\n",
    "    data['진행방향'].fillna(-1, inplace = True)\n",
    "def drop_str(data):\n",
    "    cnt=0\n",
    "    for y,m,d,t in zip(data[\"Year\"],data[\"Month\"],data[\"Date\"],data[\"Time\"]):\n",
    "            data[\"Year\"][cnt] = y.split(\"년\")[0]\n",
    "            data[\"Month\"][cnt] = m.split(\"월\")[0]\n",
    "            data[\"Date\"][cnt] = d.split(\"일\")[0]\n",
    "            data[\"Time\"][cnt] = t.split(\"시\")[0]\n",
    "            cnt+=1\n",
    "    return data\n",
    "def str2int(data):\n",
    "    data[\"Year\"]=0\n",
    "    data[\"Month\"]=0\n",
    "    data[\"Date\"]=0\n",
    "    data[\"Time\"]=0\n",
    "    for i, element in enumerate(data[\"일시\"]):\n",
    "        data[\"Year\"][i]=element.split(' ')[0]\n",
    "        data[\"Month\"][i]=element.split(' ')[1]\n",
    "        data[\"Date\"][i]=element.split(' ')[2]\n",
    "        data[\"Time\"][i]=element.split(' ')[3]\n",
    "    return data\n",
    "def cat_1(data):\n",
    "    strength_map={}\n",
    "    for i, s in enumerate(data[\"강도\"].unique()):\n",
    "        strength_map[s] = i\n",
    "    data[\"강도\"] = data[\"강도\"].map(strength_map)\n",
    "    return data\n",
    "def cat_2(data):\n",
    "    for i, s in enumerate(data[\"크기\"]):\n",
    "        if s==\"-\":\n",
    "            data[\"크기\"][i] = 0\n",
    "        elif s==\"소형\":\n",
    "            data[\"크기\"][i] = 1\n",
    "        elif s==\"중형\":\n",
    "            data[\"크기\"][i] = 2\n",
    "        else:\n",
    "            data[\"크기\"][i] = 3\n",
    "    return data\n",
    "def dir_enc(data):\n",
    "    for i in range(len(data)):\n",
    "        data[\"진행방향\"][i] = DIR_MAP[data[\"진행방향\"][i]]\n",
    "def prepro(data):\n",
    "    idx = data[data[\"Unnamed: 1\"]!=0].index\n",
    "    data = data.drop(idx)\n",
    "    data = data.reset_index()\n",
    "    data = str2int(data)\n",
    "    drop_str(data)\n",
    "    data =cat_1(data)\n",
    "    data =cat_2(data)\n",
    "    data = data.drop([\"70% 확률 반경(km)\", \"Unnamed: 1\",\"일시\",\"index\"], axis=1)\n",
    "    rep_nan(data)\n",
    "    dir_enc(data)\n",
    "    return data\n",
    "# def prepro2(data):\n",
    "#     data = dir_enc(data)"
   ]
  },
  {
   "cell_type": "code",
   "execution_count": 2315,
   "id": "62c8dad5-384c-4b48-80cf-04d3f5b5b238",
   "metadata": {},
   "outputs": [],
   "source": [
    "data_dir = \"C:/Lab/Capstone/Typhoon/tp_\"\n",
    "data = []"
   ]
  },
  {
   "cell_type": "code",
   "execution_count": 2316,
   "id": "4a4dcc59-18f4-492f-b0ed-24064afd47e0",
   "metadata": {},
   "outputs": [],
   "source": [
    "## csv 순서대로읽어와서 data에 저장\n",
    "for i in range(1,529):\n",
    "    data.append(pd.read_csv(data_dir+str(i).zfill(3)+\".csv\",encoding_errors='ignore',encoding=\"cp949\"))"
   ]
  },
  {
   "cell_type": "code",
   "execution_count": 2317,
   "id": "c203df35-40e7-4826-94f8-d9a480779b15",
   "metadata": {},
   "outputs": [],
   "source": [
    "Hin = data[521]\n",
    "Megi = data[512]\n",
    "del(data[521])\n",
    "del(data[512])"
   ]
  },
  {
   "cell_type": "code",
   "execution_count": 2318,
   "id": "70216cb1-1b8c-4193-990d-883978b180f9",
   "metadata": {},
   "outputs": [],
   "source": [
    "for i in range(len(data)):\n",
    "    data[i]=prepro(data[i])\n",
    "    #data[i].insert(0,'ID', i)\n",
    "Hin = prepro(Hin)\n",
    "Megi = prepro(Megi)"
   ]
  },
  {
   "cell_type": "code",
   "execution_count": 2319,
   "id": "af640928-9aeb-4e7f-a548-a176f36d58f9",
   "metadata": {},
   "outputs": [],
   "source": [
    "for i in range(len(data)):\n",
    "    data[i] = data[i].drop([\"Year\",\"Month\",\"Date\",\"Time\"],axis=1)\n",
    "Hin = Hin.drop([\"Year\",\"Month\",\"Date\",\"Time\"],axis=1)\n",
    "Megi = Megi.drop([\"Year\",\"Month\",\"Date\",\"Time\"],axis=1)"
   ]
  },
  {
   "cell_type": "code",
   "execution_count": 2320,
   "id": "599fa224-6e0f-48d2-8ae7-824c008b2493",
   "metadata": {},
   "outputs": [],
   "source": [
    "# for i in range(len(data)):\n",
    "#     data[i] = data[i].drop([\"ID\"],axis=1)\n",
    "# Hin = Hin.drop([\"ID\"],axis=1)"
   ]
  },
  {
   "cell_type": "code",
   "execution_count": 2323,
   "id": "4329538a-713b-4c5c-a3f6-4834f1ba775a",
   "metadata": {},
   "outputs": [],
   "source": [
    "for i in range(len(data)):\n",
    "    data[i] = data[i].fillna(-2)"
   ]
  },
  {
   "cell_type": "code",
   "execution_count": 2324,
   "id": "417d8cc9-5925-4252-9029-5a6d43f8d407",
   "metadata": {},
   "outputs": [],
   "source": [
    "# sc1 = MinMaxScaler()\n",
    "# sc2 = MinMaxScaler()\n",
    "\n",
    "# for i in range(len(data)):\n",
    "#     data[i][['위도(N)','경도(E)','중심기압','초속(m/s)','시속(km/h)','강풍반경(km)[예외반경]','강도','크기','이동속도(km/h)']]=sc1.fit_transform(data[i][['위도(N)','경도(E)','중심기압','초속(m/s)','시속(km/h)','강풍반경(km)[예외반경]','강도','크기','이동속도(km/h)']])\n",
    "#     data[i][['위도(N)','경도(E)']] = sc2.fit_transform(data[i][['위도(N)','경도(E)']])"
   ]
  },
  {
   "cell_type": "code",
   "execution_count": 2325,
   "id": "ec202ad8-66dd-4435-a817-3b76a8efe3c7",
   "metadata": {},
   "outputs": [
    {
     "name": "stdout",
     "output_type": "stream",
     "text": [
      "min 1.6\n",
      "max 54.0\n",
      "min 99.8\n",
      "max 180.0\n",
      "min 0\n",
      "max 1010\n",
      "min -2.0\n",
      "max 61\n",
      "min -4\n",
      "max 220\n",
      "min -2.0\n",
      "max 1480.0\n",
      "min -2.0\n",
      "max 216\n"
     ]
    }
   ],
   "source": [
    "minmax = {}\n",
    "for j in ['위도(N)','경도(E)','중심기압','초속(m/s)','시속(km/h)','강풍반경(km)[예외반경]','이동속도(km/h)']:\n",
    "    m = np.inf\n",
    "    M = -np.inf\n",
    "    for i in range(len(data)):\n",
    "        m = m if np.min(data[i][[j]].values) > m else np.min(data[i][[j]].values)\n",
    "        # if m == -1 :\n",
    "            # print(i, end = ' ')\n",
    "    for i in range(len(data)):\n",
    "        M = M if np.max(data[i][[j]].values) < M  else np.max(data[i][[j]].values)\n",
    "    minmax[j] = [m,M]\n",
    "    print('min', m)\n",
    "    print('max', M)"
   ]
  },
  {
   "cell_type": "code",
   "execution_count": 2327,
   "id": "3f747aa0-510e-4712-be01-8458cfed2f09",
   "metadata": {},
   "outputs": [],
   "source": [
    "minmax['위도(N)'][0], minmax['위도(N)'][1] = 0, 60\n",
    "minmax['경도(E)'][0], minmax['경도(E)'][1] = 90, 180\n",
    "\n",
    "for i in range(len(data)):\n",
    "    for j in ['위도(N)','경도(E)','중심기압','초속(m/s)','시속(km/h)','강풍반경(km)[예외반경]','이동속도(km/h)']:\n",
    "        data[i][j] = (data[i][j] - minmax[j][0])/(minmax[j][1] - minmax[j][0])\n",
    "\n",
    "# for i in range(len(data)):\n",
    "#     for j in ['중심기압','초속(m/s)','시속(km/h)','강풍반경(km)[예외반경]','이동속도(km/h)']:\n",
    "#         data[i][j] = (data[i][j] - minmax[j][0])/(minmax[j][1] - minmax[j][0])"
   ]
  },
  {
   "cell_type": "markdown",
   "id": "cd2b7f56-d8c6-4c64-a10e-4aaef5e0d5fd",
   "metadata": {},
   "source": [
    "### With_padding"
   ]
  },
  {
   "cell_type": "code",
   "execution_count": 2328,
   "id": "a24e3c0a-5a3d-4b8d-ba08-d0fd0305b9fa",
   "metadata": {},
   "outputs": [],
   "source": [
    "# for i in range(len(data)):\n",
    "#     pad = nn.ConstantPad2d((0,0,0,max-data[i].shape[0]),0)\n",
    "#     data[i]=pad(torch.tensor(data[i].values, dtype=torch.float32))\n",
    "\n",
    "# y=[]\n",
    "# for i in range(len(data)):\n",
    "#     y.append(data[i][:,0:2])\n",
    "\n",
    "# for i in range(len(data)):\n",
    "#     data[i] = data[i][:,2:]"
   ]
  },
  {
   "cell_type": "markdown",
   "id": "0238de44-ca36-4e14-8631-7da73f738929",
   "metadata": {},
   "source": [
    "### Without_padding"
   ]
  },
  {
   "cell_type": "code",
   "execution_count": 2329,
   "id": "d9cdbd4f-a1d4-40d0-b9da-a65455ef30e9",
   "metadata": {},
   "outputs": [],
   "source": [
    "y=[]\n",
    "for i in range(len(data)):\n",
    "    y.append(pd.concat([data[i][:]['위도(N)'],data[i][:]['경도(E)']],axis=1))\n",
    "\n",
    "for i in range(len(data)):\n",
    "    data[i] = data[i].drop(['위도(N)','경도(E)'], axis=1)\n",
    "\n",
    "for i in range(len(data)):\n",
    "    data[i] = torch.tensor(data[i].values, dtype=torch.float32)\n",
    "    y[i] = torch.tensor(y[i].values, dtype=torch.float32)\n"
   ]
  },
  {
   "cell_type": "code",
   "execution_count": 2330,
   "id": "9b32d905-e558-4df2-a674-d228b44f35af",
   "metadata": {},
   "outputs": [
    {
     "data": {
      "text/plain": [
       "tensor([[ 0.0050, -0.9964],\n",
       "        [ 0.0054, -0.9962],\n",
       "        [ 0.0061, -0.9960]])"
      ]
     },
     "execution_count": 2330,
     "metadata": {},
     "output_type": "execute_result"
    }
   ],
   "source": [
    "y[0]"
   ]
  },
  {
   "cell_type": "code",
   "execution_count": 2331,
   "id": "fabd71ad-fe01-4a43-a94e-89d0698d4928",
   "metadata": {},
   "outputs": [],
   "source": [
    "x_train, x_valid, y_train, y_valid = train_test_split(data, y, test_size=0.1,shuffle=False)"
   ]
  },
  {
   "cell_type": "markdown",
   "id": "643d4485-6c1a-4541-a175-173d6515832e",
   "metadata": {},
   "source": [
    "# 전처리 끝"
   ]
  },
  {
   "cell_type": "code",
   "execution_count": 2332,
   "id": "130043f8-7219-4377-a5d7-93c9cfcb6d70",
   "metadata": {},
   "outputs": [],
   "source": [
    "def pad_collate(batch):\n",
    "    (xx, yy) = zip(*batch)\n",
    "    x_lens = [len(x) for x in xx]\n",
    "    y_lens = [len(y) for y in yy]\n",
    "    \n",
    "    xx_pad = pad_sequence(xx, batch_first=True, padding_value=10)\n",
    "    yy_pad = pad_sequence(yy, batch_first=True, padding_value=10)\n",
    "    \n",
    "    return xx_pad, yy_pad"
   ]
  },
  {
   "cell_type": "code",
   "execution_count": 2333,
   "id": "9abebdb6-3997-441e-a6ec-42c27f821a02",
   "metadata": {},
   "outputs": [],
   "source": [
    "class my_dataset(Dataset):\n",
    "    def __init__(self, data, y):\n",
    "        self.data = data\n",
    "        self.target = y\n",
    "        \n",
    "    def __len__(self):\n",
    "        return len(self.data)\n",
    "        \n",
    "    def __getitem__(self, i):\n",
    "        return self.data[i], self.target[i]"
   ]
  },
  {
   "cell_type": "code",
   "execution_count": 2334,
   "id": "673a7ba9-b08a-41e4-872f-153cf688dad7",
   "metadata": {},
   "outputs": [],
   "source": [
    "batch_size = 32\n",
    "input_size = 8\n",
    "hidden_size = 128\n",
    "num_layer = 2\n",
    "output_size = 2\n",
    "MAX_LENGTH = 74\n",
    "# embedding_size = 32"
   ]
  },
  {
   "cell_type": "code",
   "execution_count": 2335,
   "id": "f69f914c-8c33-4355-a9af-e0252d7cce45",
   "metadata": {},
   "outputs": [],
   "source": [
    "train_dataset = my_dataset(x_train, y_train)\n",
    "valid_dataset = my_dataset(x_valid, y_valid)\n",
    "train_loader = DataLoader(train_dataset, batch_size, shuffle=False, collate_fn = pad_collate)\n",
    "valid_loader = DataLoader(valid_dataset, batch_size, shuffle=False, collate_fn = pad_collate)"
   ]
  },
  {
   "cell_type": "markdown",
   "id": "a7fe86aa-08f1-4c98-8c02-5d3778ae428f",
   "metadata": {
    "tags": []
   },
   "source": [
    "### Encoder"
   ]
  },
  {
   "cell_type": "code",
   "execution_count": 2336,
   "id": "b5f8bfac-037c-40c7-ad10-53e9c80c41c7",
   "metadata": {},
   "outputs": [],
   "source": [
    "class EncoderRNN(nn.Module):\n",
    "    def __init__(self, input_size, hidden_size,num_layer,batch_size):\n",
    "        super(EncoderRNN, self).__init__()\n",
    "        self.hidden_size = hidden_size\n",
    "        self.input_size = input_size\n",
    "        self.batch_size = batch_size\n",
    "        self.num_layer = num_layer\n",
    "        self.gru = nn.GRU(input_size, hidden_size,num_layer, batch_first=True)\n",
    "        \n",
    "        self.ln = nn.LayerNorm(hidden_size)\n",
    "         \n",
    "        self.dropout= nn.Dropout(0.3)\n",
    "        \n",
    "    def forward(self, input, hidden):\n",
    "        \n",
    "        output, hidden = self.gru(input, hidden)\n",
    "        # output = self.ln(output)\n",
    "        \n",
    "        hidden = self.ln(hidden)\n",
    "\n",
    "        return output, hidden\n",
    "        \n",
    "    def initHidden(self,num_layer,batch_size):\n",
    "        return torch.zeros(num_layer,batch_size,self.hidden_size)"
   ]
  },
  {
   "cell_type": "markdown",
   "id": "f0efc277-aa12-435d-b82f-17f1d84641eb",
   "metadata": {},
   "source": [
    "### Decoder"
   ]
  },
  {
   "cell_type": "code",
   "execution_count": 2337,
   "id": "0ea27618-0070-486b-8dbd-ce24f4632e27",
   "metadata": {},
   "outputs": [],
   "source": [
    "class DecoderRNN(nn.Module):\n",
    "    def __init__(self, output_size, hidden_size, num_layer, batch_size):\n",
    "        super(DecoderRNN, self).__init__()\n",
    "        self.output_size = output_size\n",
    "        self.hidden_size = hidden_size\n",
    "        self.batch_size = batch_size\n",
    "        self.num_layer = num_layer\n",
    "        \n",
    "        self.gru = nn.GRU(output_size, hidden_size,num_layer, batch_first=True)\n",
    "        \n",
    "        self.fc1 = nn.Linear(hidden_size, hidden_size)\n",
    "        \n",
    "        self.fc2 = nn.Linear(hidden_size, output_size)\n",
    "        \n",
    "        self.ln = nn.LayerNorm(hidden_size)\n",
    "        \n",
    "        self.relu = nn.ReLU(True)\n",
    "        \n",
    "        self.dropout = nn.Dropout(0.3)\n",
    "        \n",
    "        self.bn = nn.InstanceNorm1d(hidden_size)\n",
    "        \n",
    "        #self.bn = nn.BatchNorm1d(hidden_size)\n",
    "        \n",
    "    def forward(self, input, hidden):\n",
    "        \n",
    "        output, hidden = self.gru(input, hidden)\n",
    "        \n",
    "        # hidden = self.ln(hidden)\n",
    "        output = self.ln(output)\n",
    "        \n",
    "        output = self.relu(self.bn(self.fc1(output)))\n",
    "        \n",
    "        output = self.dropout(output)\n",
    "        \n",
    "        output = self.fc2(output)\n",
    "        \n",
    "        output = self.relu(output)\n",
    "        \n",
    "        return output, hidden\n",
    "    \n",
    "    def initHidden(self, num_layer, batch_size):\n",
    "        return torch.zeros(num_layer,batch_size,self.hidden_size)"
   ]
  },
  {
   "cell_type": "markdown",
   "id": "5779bf90-4f01-4444-b8e2-17f8185d642d",
   "metadata": {},
   "source": [
    "## Bi"
   ]
  },
  {
   "cell_type": "code",
   "execution_count": 2338,
   "id": "6e987483-7bbf-42a8-b1c6-77dccaa54ea8",
   "metadata": {},
   "outputs": [],
   "source": [
    "# class EncoderRNN(nn.Module):\n",
    "#     def __init__(self, input_size, hidden_size,num_layer,batch_size):\n",
    "#         super(EncoderRNN, self).__init__()\n",
    "#         self.hidden_size = hidden_size\n",
    "#         self.input_size = input_size\n",
    "#         self.batch_size = batch_size\n",
    "#         self.num_layer = num_layer\n",
    "#         self.gru = nn.GRU(input_size, hidden_size,num_layer, batch_first=True, bidirectional=True)\n",
    "        \n",
    "#         self.ln = nn.LayerNorm(hidden_size)\n",
    "         \n",
    "#         self.dropout= nn.Dropout(0.3)\n",
    "        \n",
    "#     def forward(self, input, hidden):\n",
    "        \n",
    "#         output, hidden = self.gru(input, hidden)\n",
    "#         # output = self.ln(output)\n",
    "\n",
    "#         # hidden = self.dropout(hidden)\n",
    "        \n",
    "#         hidden = self.ln(hidden)\n",
    "\n",
    "#         return output, hidden\n",
    "        \n",
    "#     def initHidden(self,num_layer,batch_size):\n",
    "#         return torch.zeros(2*num_layer, batch_size, self.hidden_size)"
   ]
  },
  {
   "cell_type": "code",
   "execution_count": 2339,
   "id": "aaa8e527-ad21-4c13-99db-40a04090975e",
   "metadata": {},
   "outputs": [],
   "source": [
    "# class DecoderRNN(nn.Module):\n",
    "#     def __init__(self, output_size, hidden_size, num_layer, batch_size):\n",
    "#         super(DecoderRNN, self).__init__()\n",
    "#         self.output_size = output_size\n",
    "#         self.hidden_size = hidden_size\n",
    "#         self.batch_size = batch_size\n",
    "#         self.num_layer = num_layer\n",
    "        \n",
    "#         self.gru = nn.GRU(output_size, hidden_size,num_layer, batch_first=True, bidirectional=True)\n",
    "        \n",
    "#         self.fc1 = nn.Linear(2*hidden_size, hidden_size)\n",
    "        \n",
    "#         self.fc2 = nn.Linear(hidden_size, output_size)\n",
    "        \n",
    "#         self.ln = nn.LayerNorm(hidden_size*2)\n",
    "        \n",
    "#         self.relu = nn.ReLU(True)\n",
    "        \n",
    "#         self.dropout = nn.Dropout(0.3)\n",
    "        \n",
    "#         self.bn = nn.InstanceNorm1d(hidden_size)\n",
    "        \n",
    "#         #self.bn = nn.BatchNorm1d(hidden_size)\n",
    "        \n",
    "#     def forward(self, input, hidden):\n",
    "        \n",
    "#         output, hidden = self.gru(input, hidden)\n",
    "        \n",
    "#         # hidden = self.dropout(hidden)\n",
    "        \n",
    "#         # hidden = self.ln(hidden)\n",
    "#         output = self.ln(output)\n",
    "        \n",
    "#         # output = self.dropout(output)\n",
    "        \n",
    "#         output = self.relu(self.bn(self.fc1(output)))\n",
    "        \n",
    "#         output = self.dropout(output)\n",
    "        \n",
    "#         output = self.fc2(output)\n",
    "        \n",
    "#         output = self.relu(output)\n",
    "        \n",
    "#         return output, hidden\n",
    "    \n",
    "#     def initHidden(self, num_layer, batch_size):\n",
    "#         return torch.zeros(2*num_layer,batch_size,self.hidden_size)"
   ]
  },
  {
   "cell_type": "markdown",
   "id": "c37d92b3-9de4-4b30-ab31-6e7066d25507",
   "metadata": {},
   "source": [
    "### Linear"
   ]
  },
  {
   "cell_type": "code",
   "execution_count": 2340,
   "id": "0e0604b4-8996-415d-acce-39b68e2e1bc2",
   "metadata": {},
   "outputs": [],
   "source": [
    "encoder = EncoderRNN(input_size, hidden_size, num_layer, batch_size)\n",
    "decoder = DecoderRNN(output_size, hidden_size, num_layer, batch_size)"
   ]
  },
  {
   "cell_type": "code",
   "execution_count": 2341,
   "id": "034d694c-a07a-462b-9003-127e0b8d6126",
   "metadata": {},
   "outputs": [
    {
     "data": {
      "text/plain": [
       "EncoderRNN(\n",
       "  (gru): GRU(8, 128, num_layers=2, batch_first=True)\n",
       "  (ln): LayerNorm((128,), eps=1e-05, elementwise_affine=True)\n",
       "  (dropout): Dropout(p=0.3, inplace=False)\n",
       ")"
      ]
     },
     "execution_count": 2341,
     "metadata": {},
     "output_type": "execute_result"
    }
   ],
   "source": [
    "encoder"
   ]
  },
  {
   "cell_type": "code",
   "execution_count": 2342,
   "id": "912aa7ef-cad4-4163-89f5-c22ccf26fe94",
   "metadata": {},
   "outputs": [
    {
     "data": {
      "text/plain": [
       "DecoderRNN(\n",
       "  (gru): GRU(2, 128, num_layers=2, batch_first=True)\n",
       "  (fc1): Linear(in_features=128, out_features=128, bias=True)\n",
       "  (fc2): Linear(in_features=128, out_features=2, bias=True)\n",
       "  (ln): LayerNorm((128,), eps=1e-05, elementwise_affine=True)\n",
       "  (relu): ReLU(inplace=True)\n",
       "  (dropout): Dropout(p=0.3, inplace=False)\n",
       "  (bn): InstanceNorm1d(128, eps=1e-05, momentum=0.1, affine=False, track_running_stats=False)\n",
       ")"
      ]
     },
     "execution_count": 2342,
     "metadata": {},
     "output_type": "execute_result"
    }
   ],
   "source": [
    "decoder"
   ]
  },
  {
   "cell_type": "code",
   "execution_count": 2343,
   "id": "a787a1d0-d85e-4d81-8dcc-88289be40088",
   "metadata": {},
   "outputs": [],
   "source": [
    "def mse_loss(data, target, ignored_index):\n",
    "    mask = (target == ignored_index)\n",
    "    o_loss = nn.MSELoss(reduction = 'mean')\n",
    "    m_data = data[~mask]\n",
    "    m_target = target[~mask]\n",
    "    loss = o_loss(m_data, m_target)\n",
    "    return loss"
   ]
  },
  {
   "cell_type": "code",
   "execution_count": 2344,
   "id": "4d795815-2bae-462a-aeed-25e2cb0313de",
   "metadata": {
    "tags": []
   },
   "outputs": [
    {
     "data": {
      "application/vnd.jupyter.widget-view+json": {
       "model_id": "255953b018a34f66900e370536d3359b",
       "version_major": 2,
       "version_minor": 0
      },
      "text/plain": [
       "  0%|          | 0/200 [00:00<?, ?it/s]"
      ]
     },
     "metadata": {},
     "output_type": "display_data"
    },
    {
     "name": "stdout",
     "output_type": "stream",
     "text": [
      "Epoch : 0,\ttrain_loss : 7.735095500946045\tvalid_loss :4.037733554840088\n",
      "**********Valid loss decreased (inf ==> 4.037734)**********\n",
      "Epoch : 1,\ttrain_loss : 5.685212135314941\tvalid_loss :4.441936016082764\n",
      "Epoch : 2,\ttrain_loss : 6.263018608093262\tvalid_loss :5.505041122436523\n",
      "Epoch : 3,\ttrain_loss : 4.618879318237305\tvalid_loss :4.348788738250732\n",
      "Epoch : 4,\ttrain_loss : 4.457771301269531\tvalid_loss :1.5224308967590332\n",
      "**********Valid loss decreased (4.037734 ==> 1.522431)**********\n",
      "Epoch : 5,\ttrain_loss : 3.733285427093506\tvalid_loss :4.355662822723389\n",
      "Epoch : 6,\ttrain_loss : 3.32877516746521\tvalid_loss :1.0080139636993408\n",
      "**********Valid loss decreased (1.522431 ==> 1.008014)**********\n",
      "Epoch : 7,\ttrain_loss : 3.9287362098693848\tvalid_loss :2.1749563217163086\n",
      "Epoch : 8,\ttrain_loss : 2.3944573402404785\tvalid_loss :1.3045564889907837\n",
      "Epoch : 9,\ttrain_loss : 2.643322467803955\tvalid_loss :2.004889488220215\n",
      "Epoch : 10,\ttrain_loss : 2.8501479625701904\tvalid_loss :2.136075258255005\n",
      "Epoch : 11,\ttrain_loss : 2.9655330181121826\tvalid_loss :3.5686683654785156\n",
      "Epoch : 12,\ttrain_loss : 3.029863119125366\tvalid_loss :1.6828055381774902\n",
      "Epoch : 13,\ttrain_loss : 2.241002082824707\tvalid_loss :1.5992588996887207\n",
      "Epoch : 14,\ttrain_loss : 1.9560023546218872\tvalid_loss :1.441217064857483\n",
      "Epoch : 15,\ttrain_loss : 2.640117645263672\tvalid_loss :1.8921502828598022\n",
      "Epoch : 16,\ttrain_loss : 1.9706405401229858\tvalid_loss :1.259726881980896\n",
      "Epoch : 17,\ttrain_loss : 1.9190298318862915\tvalid_loss :1.487397313117981\n",
      "Epoch : 18,\ttrain_loss : 2.239408254623413\tvalid_loss :1.7871720790863037\n",
      "Epoch : 19,\ttrain_loss : 2.278726816177368\tvalid_loss :2.2563769817352295\n",
      "Epoch : 20,\ttrain_loss : 2.01281476020813\tvalid_loss :1.2023460865020752\n",
      "Epoch : 21,\ttrain_loss : 2.2734429836273193\tvalid_loss :2.2628819942474365\n",
      "Epoch : 22,\ttrain_loss : 2.609722137451172\tvalid_loss :3.277256965637207\n",
      "Epoch : 23,\ttrain_loss : 2.230729341506958\tvalid_loss :1.2411473989486694\n",
      "Epoch : 24,\ttrain_loss : 1.7915873527526855\tvalid_loss :1.5171738862991333\n",
      "Epoch : 25,\ttrain_loss : 2.073704719543457\tvalid_loss :2.2740843296051025\n",
      "Epoch : 26,\ttrain_loss : 1.719097375869751\tvalid_loss :1.4527925252914429\n",
      "Epoch : 27,\ttrain_loss : 1.5539087057113647\tvalid_loss :1.1360348463058472\n",
      "Epoch : 28,\ttrain_loss : 1.6804755926132202\tvalid_loss :1.5535885095596313\n",
      "Epoch : 29,\ttrain_loss : 1.697291612625122\tvalid_loss :1.8280850648880005\n",
      "Epoch : 30,\ttrain_loss : 1.8668516874313354\tvalid_loss :1.788679599761963\n",
      "Epoch : 31,\ttrain_loss : 2.2472145557403564\tvalid_loss :2.582373857498169\n",
      "Epoch : 32,\ttrain_loss : 3.0031137466430664\tvalid_loss :3.304840564727783\n",
      "Epoch : 33,\ttrain_loss : 2.12569522857666\tvalid_loss :1.261000394821167\n",
      "Epoch : 34,\ttrain_loss : 1.3607475757598877\tvalid_loss :0.8475453853607178\n",
      "**********Valid loss decreased (1.008014 ==> 0.847545)**********\n",
      "Epoch : 35,\ttrain_loss : 1.6623141765594482\tvalid_loss :1.0461335182189941\n",
      "Epoch : 36,\ttrain_loss : 1.116610050201416\tvalid_loss :0.8003655672073364\n",
      "**********Valid loss decreased (0.847545 ==> 0.800366)**********\n",
      "Epoch : 37,\ttrain_loss : 1.1198352575302124\tvalid_loss :0.6406627297401428\n",
      "**********Valid loss decreased (0.800366 ==> 0.640663)**********\n",
      "Epoch : 38,\ttrain_loss : 0.9736813902854919\tvalid_loss :0.6768063306808472\n",
      "Epoch : 39,\ttrain_loss : 1.2538268566131592\tvalid_loss :0.8272538781166077\n",
      "Epoch : 40,\ttrain_loss : 1.3285914659500122\tvalid_loss :1.405217170715332\n",
      "Epoch : 41,\ttrain_loss : 1.5896300077438354\tvalid_loss :1.152957797050476\n",
      "Epoch : 42,\ttrain_loss : 1.5824779272079468\tvalid_loss :1.2667202949523926\n",
      "Epoch : 43,\ttrain_loss : 1.6138941049575806\tvalid_loss :1.7081009149551392\n",
      "Epoch : 44,\ttrain_loss : 1.2967029809951782\tvalid_loss :0.5608643293380737\n",
      "**********Valid loss decreased (0.640663 ==> 0.560864)**********\n",
      "Epoch : 45,\ttrain_loss : 1.1439287662506104\tvalid_loss :0.7516524791717529\n",
      "Epoch : 46,\ttrain_loss : 0.8051427602767944\tvalid_loss :0.5032476782798767\n",
      "**********Valid loss decreased (0.560864 ==> 0.503248)**********\n",
      "Epoch : 47,\ttrain_loss : 1.0446585416793823\tvalid_loss :1.1981580257415771\n",
      "Epoch : 48,\ttrain_loss : 0.9322924017906189\tvalid_loss :0.4722725749015808\n",
      "**********Valid loss decreased (0.503248 ==> 0.472273)**********\n",
      "Epoch : 49,\ttrain_loss : 0.7207380533218384\tvalid_loss :0.5325902104377747\n",
      "Epoch : 50,\ttrain_loss : 0.696140468120575\tvalid_loss :0.48191478848457336\n",
      "Epoch : 51,\ttrain_loss : 0.751246452331543\tvalid_loss :0.5989811420440674\n",
      "Epoch : 52,\ttrain_loss : 0.8010615110397339\tvalid_loss :0.48078784346580505\n",
      "Epoch : 53,\ttrain_loss : 0.7141609787940979\tvalid_loss :0.46521833539009094\n",
      "**********Valid loss decreased (0.472273 ==> 0.465218)**********\n",
      "Epoch : 54,\ttrain_loss : 0.7804628014564514\tvalid_loss :0.568903386592865\n",
      "Epoch : 55,\ttrain_loss : 0.9023497104644775\tvalid_loss :0.5727393627166748\n",
      "Epoch : 56,\ttrain_loss : 0.9868499636650085\tvalid_loss :0.7805454134941101\n",
      "Epoch : 57,\ttrain_loss : 0.8887503147125244\tvalid_loss :0.6340296864509583\n",
      "Epoch : 58,\ttrain_loss : 1.1137614250183105\tvalid_loss :0.8461974263191223\n",
      "Epoch : 59,\ttrain_loss : 0.8375471234321594\tvalid_loss :0.6523036360740662\n",
      "Epoch : 60,\ttrain_loss : 0.9179158806800842\tvalid_loss :0.713959813117981\n",
      "Epoch : 61,\ttrain_loss : 0.8801267147064209\tvalid_loss :0.6787376403808594\n",
      "Epoch : 62,\ttrain_loss : 0.961402952671051\tvalid_loss :0.7486171126365662\n",
      "Epoch : 63,\ttrain_loss : 0.9799968600273132\tvalid_loss :1.129026174545288\n",
      "Epoch : 64,\ttrain_loss : 1.0971328020095825\tvalid_loss :0.632308304309845\n",
      "Epoch : 65,\ttrain_loss : 1.2071418762207031\tvalid_loss :0.6774551272392273\n",
      "Epoch : 66,\ttrain_loss : 1.1229033470153809\tvalid_loss :0.9423130750656128\n",
      "Epoch : 67,\ttrain_loss : 1.1894153356552124\tvalid_loss :0.9937258362770081\n",
      "Epoch : 68,\ttrain_loss : 1.0438804626464844\tvalid_loss :0.8022845387458801\n",
      "Epoch : 69,\ttrain_loss : 1.0401798486709595\tvalid_loss :0.9442492723464966\n",
      "Epoch : 70,\ttrain_loss : 1.009871244430542\tvalid_loss :0.7567110061645508\n",
      "Epoch : 71,\ttrain_loss : 1.0911240577697754\tvalid_loss :0.8821529746055603\n",
      "Epoch : 72,\ttrain_loss : 0.9481688737869263\tvalid_loss :0.7207311987876892\n",
      "Epoch : 73,\ttrain_loss : 0.9532627463340759\tvalid_loss :0.8559489250183105\n",
      "Epoch : 74,\ttrain_loss : 0.905876874923706\tvalid_loss :0.715522825717926\n",
      "Epoch : 75,\ttrain_loss : 0.9392122030258179\tvalid_loss :0.7677701711654663\n",
      "Epoch : 76,\ttrain_loss : 0.9485343098640442\tvalid_loss :0.7733343243598938\n",
      "Epoch : 77,\ttrain_loss : 1.0110288858413696\tvalid_loss :0.897167980670929\n",
      "Epoch : 78,\ttrain_loss : 1.042604923248291\tvalid_loss :0.8306286931037903\n",
      "Epoch : 79,\ttrain_loss : 1.095901608467102\tvalid_loss :0.981351912021637\n",
      "Epoch : 80,\ttrain_loss : 1.0304752588272095\tvalid_loss :0.8321131467819214\n",
      "Epoch : 81,\ttrain_loss : 1.0903418064117432\tvalid_loss :0.9573206305503845\n",
      "Epoch : 82,\ttrain_loss : 1.2763761281967163\tvalid_loss :1.0640003681182861\n",
      "Epoch : 83,\ttrain_loss : 1.4048759937286377\tvalid_loss :1.7462180852890015\n",
      "Epoch : 84,\ttrain_loss : 1.1999480724334717\tvalid_loss :0.642645537853241\n",
      "Epoch : 85,\ttrain_loss : 0.9125462174415588\tvalid_loss :0.6763172149658203\n",
      "Epoch : 86,\ttrain_loss : 0.9557918310165405\tvalid_loss :0.6426861882209778\n",
      "Epoch : 87,\ttrain_loss : 0.9529743790626526\tvalid_loss :0.7996180653572083\n",
      "Epoch : 88,\ttrain_loss : 0.9656261801719666\tvalid_loss :0.7011088728904724\n",
      "Epoch : 89,\ttrain_loss : 0.931210458278656\tvalid_loss :0.6816396117210388\n",
      "Epoch : 90,\ttrain_loss : 0.9703410863876343\tvalid_loss :0.7602219581604004\n",
      "Epoch : 91,\ttrain_loss : 0.96158766746521\tvalid_loss :0.6931857466697693\n",
      "Epoch : 92,\ttrain_loss : 0.9288343787193298\tvalid_loss :0.7369558215141296\n",
      "Epoch : 93,\ttrain_loss : 0.9511727690696716\tvalid_loss :0.6596925854682922\n",
      "Epoch : 94,\ttrain_loss : 0.8571536540985107\tvalid_loss :0.7225764989852905\n",
      "Epoch : 95,\ttrain_loss : 0.8329654932022095\tvalid_loss :0.6115556359291077\n",
      "Epoch : 96,\ttrain_loss : 1.23771071434021\tvalid_loss :0.7098751068115234\n",
      "Epoch : 97,\ttrain_loss : 1.1949695348739624\tvalid_loss :1.385532021522522\n",
      "Epoch : 98,\ttrain_loss : 1.07122004032135\tvalid_loss :0.8004385828971863\n",
      "Epoch : 99,\ttrain_loss : 1.0838217735290527\tvalid_loss :0.9764958620071411\n",
      "Epoch : 100,\ttrain_loss : 1.0995738506317139\tvalid_loss :1.067395567893982\n",
      "Epoch : 101,\ttrain_loss : 1.0060123205184937\tvalid_loss :0.9388445615768433\n",
      "Epoch : 102,\ttrain_loss : 1.1066559553146362\tvalid_loss :1.0713329315185547\n",
      "Epoch : 103,\ttrain_loss : 1.3198717832565308\tvalid_loss :0.9699963927268982\n",
      "Epoch : 104,\ttrain_loss : 0.9914252161979675\tvalid_loss :1.0820270776748657\n",
      "Epoch : 105,\ttrain_loss : 1.030239224433899\tvalid_loss :0.8884082436561584\n",
      "Epoch : 106,\ttrain_loss : 1.0779049396514893\tvalid_loss :0.960280179977417\n",
      "Epoch : 107,\ttrain_loss : 1.0534635782241821\tvalid_loss :1.0230904817581177\n",
      "Epoch : 108,\ttrain_loss : 1.0184810161590576\tvalid_loss :0.9669328331947327\n",
      "Epoch : 109,\ttrain_loss : 1.0291074514389038\tvalid_loss :0.9894282817840576\n",
      "Epoch : 110,\ttrain_loss : 1.2074470520019531\tvalid_loss :0.9692590236663818\n",
      "Epoch : 111,\ttrain_loss : 1.0452171564102173\tvalid_loss :0.9317119121551514\n",
      "Epoch : 112,\ttrain_loss : 1.077085018157959\tvalid_loss :1.0342549085617065\n",
      "Epoch : 113,\ttrain_loss : 1.2679674625396729\tvalid_loss :1.2706992626190186\n",
      "Epoch : 114,\ttrain_loss : 1.1300358772277832\tvalid_loss :0.8973977565765381\n",
      "Epoch : 115,\ttrain_loss : 0.9311701059341431\tvalid_loss :0.857044517993927\n",
      "Epoch : 116,\ttrain_loss : 1.033542275428772\tvalid_loss :1.0153098106384277\n",
      "Epoch : 117,\ttrain_loss : 1.1603052616119385\tvalid_loss :1.3059977293014526\n",
      "Epoch : 118,\ttrain_loss : 1.2364975214004517\tvalid_loss :0.8006090521812439\n",
      "Epoch : 119,\ttrain_loss : 1.1249419450759888\tvalid_loss :0.7538290619850159\n",
      "Epoch : 120,\ttrain_loss : 0.7402766942977905\tvalid_loss :0.5745128989219666\n",
      "Epoch : 121,\ttrain_loss : 0.851730227470398\tvalid_loss :0.6774557828903198\n",
      "Epoch : 122,\ttrain_loss : 0.7545719742774963\tvalid_loss :0.746908962726593\n",
      "Epoch : 123,\ttrain_loss : 0.8507160544395447\tvalid_loss :0.8349415063858032\n",
      "Epoch : 124,\ttrain_loss : 0.8442339301109314\tvalid_loss :0.7065563797950745\n",
      "Epoch : 125,\ttrain_loss : 0.8423587679862976\tvalid_loss :0.7446243762969971\n",
      "Epoch : 126,\ttrain_loss : 0.8735972046852112\tvalid_loss :0.7647627592086792\n",
      "Epoch : 127,\ttrain_loss : 1.1906750202178955\tvalid_loss :0.9362693428993225\n",
      "Epoch : 128,\ttrain_loss : 1.2622874975204468\tvalid_loss :1.0715287923812866\n",
      "Epoch : 129,\ttrain_loss : 1.030113697052002\tvalid_loss :0.8236168622970581\n",
      "Epoch : 130,\ttrain_loss : 0.919274628162384\tvalid_loss :0.8407770991325378\n",
      "Epoch : 131,\ttrain_loss : 0.8629835844039917\tvalid_loss :0.6106693148612976\n",
      "Epoch : 132,\ttrain_loss : 0.849983274936676\tvalid_loss :0.6770630478858948\n",
      "Epoch : 133,\ttrain_loss : 0.8337112665176392\tvalid_loss :0.7068807482719421\n",
      "Epoch : 134,\ttrain_loss : 0.9651833772659302\tvalid_loss :0.7026843428611755\n",
      "Epoch : 135,\ttrain_loss : 0.8559980392456055\tvalid_loss :0.69218909740448\n",
      "Epoch : 136,\ttrain_loss : 0.9876279234886169\tvalid_loss :1.1657732725143433\n",
      "Epoch : 137,\ttrain_loss : 1.1239285469055176\tvalid_loss :1.0324077606201172\n",
      "Epoch : 138,\ttrain_loss : 1.1053097248077393\tvalid_loss :1.0460320711135864\n",
      "Epoch : 139,\ttrain_loss : 1.1901860237121582\tvalid_loss :1.080298662185669\n",
      "Epoch : 140,\ttrain_loss : 1.4568957090377808\tvalid_loss :1.7547892332077026\n",
      "Epoch : 141,\ttrain_loss : 1.4178180694580078\tvalid_loss :1.0526604652404785\n",
      "Epoch : 142,\ttrain_loss : 1.3909043073654175\tvalid_loss :1.59169602394104\n",
      "Epoch : 143,\ttrain_loss : 1.1515151262283325\tvalid_loss :0.6633989214897156\n",
      "Epoch : 144,\ttrain_loss : 1.0214855670928955\tvalid_loss :0.6202976703643799\n",
      "Epoch : 145,\ttrain_loss : 1.0264681577682495\tvalid_loss :0.7432891726493835\n",
      "Epoch : 146,\ttrain_loss : 0.7611165642738342\tvalid_loss :0.5795612335205078\n",
      "Epoch : 147,\ttrain_loss : 0.8649052977561951\tvalid_loss :0.6519275903701782\n",
      "Epoch : 148,\ttrain_loss : 0.9573574066162109\tvalid_loss :0.8827040195465088\n",
      "Epoch : 149,\ttrain_loss : 0.9650416970252991\tvalid_loss :0.9164939522743225\n",
      "Epoch : 150,\ttrain_loss : 1.1959422826766968\tvalid_loss :0.9265111684799194\n",
      "Epoch : 151,\ttrain_loss : 1.4310134649276733\tvalid_loss :1.6031283140182495\n",
      "Epoch : 152,\ttrain_loss : 2.2063910961151123\tvalid_loss :2.1226072311401367\n",
      "Epoch : 153,\ttrain_loss : 2.0535473823547363\tvalid_loss :1.4127771854400635\n",
      "Epoch : 154,\ttrain_loss : 1.4751331806182861\tvalid_loss :1.3708237409591675\n",
      "Epoch : 155,\ttrain_loss : 2.2163076400756836\tvalid_loss :3.403904676437378\n",
      "Epoch : 156,\ttrain_loss : 1.6744685173034668\tvalid_loss :0.785652756690979\n",
      "Epoch : 157,\ttrain_loss : 0.8461987972259521\tvalid_loss :0.6701813340187073\n",
      "Epoch : 158,\ttrain_loss : 0.9440447092056274\tvalid_loss :0.5607741475105286\n",
      "Epoch : 159,\ttrain_loss : 0.9078415632247925\tvalid_loss :1.0892930030822754\n",
      "Epoch : 160,\ttrain_loss : 0.9593190550804138\tvalid_loss :0.6872605085372925\n",
      "Epoch : 161,\ttrain_loss : 1.4157246351242065\tvalid_loss :1.102199912071228\n",
      "Epoch : 162,\ttrain_loss : 1.0196794271469116\tvalid_loss :1.0837599039077759\n",
      "Epoch : 163,\ttrain_loss : 0.8223076462745667\tvalid_loss :0.48249107599258423\n",
      "Epoch : 164,\ttrain_loss : 0.8340217471122742\tvalid_loss :0.8844891786575317\n",
      "Epoch : 165,\ttrain_loss : 0.7783915996551514\tvalid_loss :0.508453369140625\n",
      "Epoch : 166,\ttrain_loss : 0.8620157837867737\tvalid_loss :0.5291491150856018\n",
      "Epoch : 167,\ttrain_loss : 0.6969887614250183\tvalid_loss :0.7376560568809509\n",
      "Epoch : 168,\ttrain_loss : 0.7755062580108643\tvalid_loss :0.6106534004211426\n",
      "Epoch : 169,\ttrain_loss : 0.7831953763961792\tvalid_loss :0.4842488467693329\n",
      "Epoch : 170,\ttrain_loss : 0.716857373714447\tvalid_loss :0.5886597037315369\n",
      "Epoch : 171,\ttrain_loss : 0.7163850665092468\tvalid_loss :0.6823089122772217\n",
      "Epoch : 172,\ttrain_loss : 0.8634534478187561\tvalid_loss :0.6298473477363586\n",
      "Epoch : 173,\ttrain_loss : 1.0063782930374146\tvalid_loss :0.9418962597846985\n",
      "Epoch : 174,\ttrain_loss : 1.115592122077942\tvalid_loss :1.0923032760620117\n",
      "Epoch : 175,\ttrain_loss : 0.7863279581069946\tvalid_loss :0.6293715238571167\n",
      "Epoch : 176,\ttrain_loss : 0.6523152589797974\tvalid_loss :0.3931907117366791\n",
      "**********Valid loss decreased (0.465218 ==> 0.393191)**********\n",
      "Epoch : 177,\ttrain_loss : 0.7025588750839233\tvalid_loss :0.4521293640136719\n",
      "Epoch : 178,\ttrain_loss : 0.5902281403541565\tvalid_loss :0.6262299418449402\n",
      "Epoch : 179,\ttrain_loss : 0.676286518573761\tvalid_loss :0.40075695514678955\n",
      "Epoch : 180,\ttrain_loss : 0.6905482411384583\tvalid_loss :0.4720277190208435\n",
      "Epoch : 181,\ttrain_loss : 0.6173978447914124\tvalid_loss :0.5527001619338989\n",
      "Epoch : 182,\ttrain_loss : 0.6702749133110046\tvalid_loss :0.45875248312950134\n",
      "Epoch : 183,\ttrain_loss : 0.7045387029647827\tvalid_loss :0.6010928750038147\n",
      "Epoch : 184,\ttrain_loss : 0.6324141621589661\tvalid_loss :0.48023608326911926\n",
      "Epoch : 185,\ttrain_loss : 0.636597216129303\tvalid_loss :0.5292660593986511\n",
      "Epoch : 186,\ttrain_loss : 0.6688178777694702\tvalid_loss :0.49002766609191895\n",
      "Epoch : 187,\ttrain_loss : 0.6338947415351868\tvalid_loss :0.5830248594284058\n",
      "Epoch : 188,\ttrain_loss : 0.6271289587020874\tvalid_loss :0.4195484519004822\n",
      "Epoch : 189,\ttrain_loss : 0.6289118528366089\tvalid_loss :0.6053037643432617\n",
      "Epoch : 190,\ttrain_loss : 0.6418967843055725\tvalid_loss :0.5034171938896179\n",
      "Epoch : 191,\ttrain_loss : 0.7595126032829285\tvalid_loss :0.546954870223999\n",
      "Epoch : 192,\ttrain_loss : 0.7207223176956177\tvalid_loss :0.5960543155670166\n",
      "Epoch : 193,\ttrain_loss : 0.6274340152740479\tvalid_loss :0.5102803707122803\n",
      "Epoch : 194,\ttrain_loss : 0.6342450976371765\tvalid_loss :0.7393161654472351\n",
      "Epoch : 195,\ttrain_loss : 0.7509727478027344\tvalid_loss :0.42683500051498413\n",
      "Epoch : 196,\ttrain_loss : 0.817413866519928\tvalid_loss :0.7724136710166931\n",
      "Epoch : 197,\ttrain_loss : 0.6968143582344055\tvalid_loss :0.42156854271888733\n",
      "Epoch : 198,\ttrain_loss : 0.6381836533546448\tvalid_loss :0.4639715254306793\n",
      "Epoch : 199,\ttrain_loss : 0.5310041308403015\tvalid_loss :0.4475296139717102\n"
     ]
    }
   ],
   "source": [
    "epoch = 200\n",
    "teacher_forcing_ratio = 0.5\n",
    "learning_rate = 0.001\n",
    "# embeder = Emb(hidden_size, output_size)\n",
    "encoder.to(device)\n",
    "decoder.to(device)\n",
    "# embeder.to(device)\n",
    "encoder_optimizer = optim.Adam(encoder.parameters(), lr = learning_rate)\n",
    "decoder_optimizer = optim.Adam(decoder.parameters(), lr = learning_rate)\n",
    "# embeder_optimizer = optim.Adam(embeder.parameters(), lr = learning_rate)\n",
    "# scheduler1 = optim.lr_scheduler.StepLR(encoder_optimizer,step_size=400,gamma=0.1,verbose=True)\n",
    "# scheduler2 = optim.lr_scheduler.StepLR(decoder_optimizer,step_size=400,gamma=0.1,verbose=True)\n",
    "\n",
    "criterion = mse_loss\n",
    "\n",
    "# Save training loss\n",
    "train_loss = torch.zeros(epoch)\n",
    "valid_loss_min = np.Inf\n",
    "# Save validation loss\n",
    "valid_loss = torch.zeros(epoch)\n",
    "for e in trange(epoch):\n",
    "    encoder.train()\n",
    "    decoder.train()\n",
    "    for data, label in train_loader:\n",
    "        data, label = data.to(device), label.to(device)\n",
    "        # print(type(data))\n",
    "\n",
    "        encoder_hidden = encoder.initHidden(num_layer,label.shape[0])\n",
    "        encoder_hidden = encoder_hidden.to(device)\n",
    "        \n",
    "        encoder_optimizer.zero_grad()\n",
    "        decoder_optimizer.zero_grad()\n",
    "        # embeder_optimizer.zero_grad()\n",
    "        \n",
    "        input_length = data.size(1)\n",
    "        target_length = label.size(1)\n",
    "        \n",
    "        # encoder_outputs = torch.zeros(MAX_LENGTH, encoder.hidden_size).to(device)\n",
    "        \n",
    "        \n",
    "        # Encoder\n",
    "        for ei in range(input_length):\n",
    "            encoder_output, encoder_hidden = encoder(data[:,ei,:].reshape(label.shape[0],1,-1), encoder_hidden)\n",
    "        # Decoder_init\n",
    "        d_input = torch.zeros((label.shape[0],1,2)).to(device)\n",
    "        decoder_input = label[:,0,:].reshape(label.shape[0],1,-1)#d_input\n",
    "        # print(decoder_input.shape)\n",
    "        decoder_hidden = encoder_hidden\n",
    "        # print(decoder_hidden.shape)\n",
    "        \n",
    "        # Decoder\n",
    "        for di in range(1,target_length):\n",
    "            # print(decoder_input.size(), decoder_hidden.size())\n",
    "            # print(decoder_input.size(), decoder_hidden.size())\n",
    "            decoder_output, decoder_hidden = decoder(decoder_input,decoder_hidden)\n",
    "            \n",
    "            # print(decoder_input[:,di,:].shape, label[:,di,:].reshape(1,1,-1).shape)\n",
    "            # output = embeder(decoder_output)\n",
    "            # print(output.shape)\n",
    "            # teacher_force = random.random() < teacher_forcing_ratio\n",
    "            loss=criterion(decoder_output, label[:,di,:].reshape(label.shape[0],1,-1),ignored_index=10)\n",
    "            decoder_input = label[:,di,:].reshape(label.shape[0],1,-1) #if teacher_force else decoder_output\n",
    "            # print(decoder_output.shape)\n",
    "            train_loss[e] += loss.item()\n",
    "        loss.backward(retain_graph = True)\n",
    "        encoder_optimizer.step()\n",
    "        decoder_optimizer.step()\n",
    "        # embeder_optimizer.step()\n",
    "    train_loss[e] /= len(train_loader)\n",
    "\n",
    "    with torch.no_grad():\n",
    "        encoder.eval()\n",
    "        decoder.eval()\n",
    "        # embeder.eval()\n",
    "        for data, label in valid_loader:\n",
    "            data, label = data.to(device), label.to(device)\n",
    "            \n",
    "            encoder_hidden = encoder.initHidden(num_layer,label.shape[0])\n",
    "            encoder_hidden = encoder_hidden.to(device)\n",
    "\n",
    "            # encoder_optimizer.zero_grad()\n",
    "            # decoder_optimizer.zero_grad()\n",
    "            # embeder_optimizer.zero_grad()\n",
    "\n",
    "            input_length = data.size(1)\n",
    "            target_length = label.size(1)\n",
    "\n",
    "            # encoder_outputs = torch.zeros(MAX_LENGTH, encoder.hidden_size).to(device)\n",
    "\n",
    "            for ei in range(input_length):\n",
    "                \n",
    "                # print(data.size(), encoder_hidden.size())\n",
    "                encoder_output, encoder_hidden = encoder(data[:,ei,:].reshape(label.shape[0],1,-1), encoder_hidden)\n",
    "                # print(1)\n",
    "                # encoder_outputs[ei] += encoder_output[0,0]\n",
    "\n",
    "            d_input = torch.zeros((label.shape[0],1,2)).to(device)\n",
    "            decoder_input = label[:,0,:].reshape(label.shape[0],1,-1)\n",
    "            decoder_hidden = encoder_hidden\n",
    "\n",
    "            for di in range(1,target_length):\n",
    "                \n",
    "                decoder_output, decoder_hidden = decoder(decoder_input,decoder_hidden)\n",
    "                # print(decoder_output.shape, decoder_hidden.shape, label.shape)\n",
    "                # output = embeder(decoder_output)\n",
    "                # teacher_force = random.random() < teacher_forcing_ratio\n",
    "                loss=criterion(decoder_output, label[:,di,:].reshape(label.shape[0],1,-1),ignored_index=10)\n",
    "                decoder_input = label[:,di,:].reshape(label.shape[0],1,-1)# if teacher_force else decoder_output\n",
    "                valid_loss[e] += loss.item()\n",
    "        valid_loss[e] /= len(valid_loader)\n",
    "        # scheduler1.step()\n",
    "        # scheduler2.step()\n",
    "    print(f'Epoch : {e},\\ttrain_loss : {train_loss[e]}\\tvalid_loss :{valid_loss[e]}')\n",
    "    if (valid_loss[e] <= valid_loss_min):\n",
    "        print(f'**********Valid loss decreased ({valid_loss_min:.6f} ==> {valid_loss[e]:.6f})**********')\n",
    "        valid_loss_min = valid_loss[e]\n",
    "        torch.save(encoder.state_dict(),'Encoder{}.pt'.format(e))\n",
    "        torch.save(decoder.state_dict(),'Decoder{}.pt'.format(e))"
   ]
  },
  {
   "cell_type": "code",
   "execution_count": 2345,
   "id": "8f02b1c1-2ff0-4d2c-8dd7-8c9ee6334f74",
   "metadata": {},
   "outputs": [
    {
     "data": {
      "text/plain": [
       "([<matplotlib.lines.Line2D at 0x21a0056d100>],\n",
       " [<matplotlib.lines.Line2D at 0x21a0056db80>])"
      ]
     },
     "execution_count": 2345,
     "metadata": {},
     "output_type": "execute_result"
    },
    {
     "data": {
      "image/png": "[encoded data removed]",
      "text/plain": [
       "<Figure size 432x288 with 1 Axes>"
      ]
     },
     "metadata": {
      "needs_background": "light"
     },
     "output_type": "display_data"
    }
   ],
   "source": [
    "plt.plot(train_loss),plt.plot(valid_loss)"
   ]
  },
  {
   "cell_type": "code",
   "execution_count": 2346,
   "id": "c709c17f-146a-496f-8b25-96b68c005857",
   "metadata": {},
   "outputs": [
    {
     "data": {
      "text/plain": [
       "[<matplotlib.lines.Line2D at 0x219fe4380a0>]"
      ]
     },
     "execution_count": 2346,
     "metadata": {},
     "output_type": "execute_result"
    },
    {
     "data": {
      "image/png": "[encoded data removed]",
      "text/plain": [
       "<Figure size 432x288 with 1 Axes>"
      ]
     },
     "metadata": {
      "needs_background": "light"
     },
     "output_type": "display_data"
    }
   ],
   "source": [
    "plt.plot(train_loss)"
   ]
  },
  {
   "cell_type": "code",
   "execution_count": 2347,
   "id": "10b3c493-ff2c-4cd3-8b2a-ef58486f5684",
   "metadata": {},
   "outputs": [
    {
     "data": {
      "text/plain": [
       "[<matplotlib.lines.Line2D at 0x219ff83a370>]"
      ]
     },
     "execution_count": 2347,
     "metadata": {},
     "output_type": "execute_result"
    },
    {
     "data": {
      "image/png": "[encoded data removed]",
      "text/plain": [
       "<Figure size 432x288 with 1 Axes>"
      ]
     },
     "metadata": {
      "needs_background": "light"
     },
     "output_type": "display_data"
    }
   ],
   "source": [
    "plt.plot(valid_loss)"
   ]
  },
  {
   "cell_type": "code",
   "execution_count": 2378,
   "id": "6402cd02-6126-464d-b712-86f6d67cd6b8",
   "metadata": {},
   "outputs": [],
   "source": [
    "Hin_X = Hin.drop(['위도(N)','경도(E)'],axis=1)\n",
    "Hin_Y = pd.concat([Hin['위도(N)'],Hin['경도(E)']],axis=1)\n",
    "\n",
    "Megi_X = Megi.drop(['위도(N)','경도(E)'],axis=1)\n",
    "Megi_Y = pd.concat([Megi['위도(N)'],Megi['경도(E)']],axis=1)"
   ]
  },
  {
   "cell_type": "code",
   "execution_count": 2379,
   "id": "991ccc0d-3ded-4e3c-8d80-374fe5f3d21d",
   "metadata": {},
   "outputs": [],
   "source": [
    "for j in ['중심기압','초속(m/s)','시속(km/h)','강풍반경(km)[예외반경]','이동속도(km/h)']:\n",
    "        Hin_X[j] = (Hin_X[j] - minmax[j][0])/(minmax[j][1] - minmax[j][0])\n",
    "        Megi_X[j] = (Megi_X[j] - minmax[j][0])/(minmax[j][1] - minmax[j][0])"
   ]
  },
  {
   "cell_type": "code",
   "execution_count": 2380,
   "id": "aab20a29-6de9-465e-8cb4-a8e99b586d1f",
   "metadata": {},
   "outputs": [],
   "source": [
    "for j in ['위도(N)','경도(E)']:\n",
    "    Hin_Y[j] = (Hin_Y[j] - minmax[j][0])/(minmax[j][1] - minmax[j][0])\n",
    "    Megi_Y[j] = (Megi_Y[j] - minmax[j][0])/(minmax[j][1] - minmax[j][0])"
   ]
  },
  {
   "cell_type": "code",
   "execution_count": 2381,
   "id": "ca6ce196-97d0-445d-bbb0-7464e9941b4b",
   "metadata": {},
   "outputs": [],
   "source": [
    "Hin_X=Hin_X.values.reshape(-1,44,8).astype(np.float32)\n",
    "Megi_X=Megi_X.values.reshape(-1,9,8).astype(np.float32)\n",
    "Hin_Y=Hin_Y.values.reshape(-1,44,2).astype(np.float32)\n",
    "Megi_Y=Megi_Y.values.reshape(-1,9,2).astype(np.float32)"
   ]
  },
  {
   "cell_type": "code",
   "execution_count": 2382,
   "id": "a7733c30-8511-4163-b333-29b7fcdb0754",
   "metadata": {},
   "outputs": [],
   "source": [
    "Hin_X = torch.tensor(Hin_X, dtype=torch.float32)\n",
    "Megi_X = torch.tensor(Megi_X, dtype=torch.float32)\n",
    "Hin_Y = torch.tensor(Hin_Y, dtype=torch.float32)\n",
    "decoder_inputg = Hin_Y[:,0,:].to(device)\n",
    "Megi_Y = torch.tensor(Megi_Y, dtype=torch.float32)\n",
    "decoder_inputm = Megi_Y[:,0,:].to(device)"
   ]
  },
  {
   "cell_type": "code",
   "execution_count": 2383,
   "id": "a40a05f3-eb3e-49c9-addb-51448b5da901",
   "metadata": {},
   "outputs": [
    {
     "data": {
      "text/plain": [
       "torch.Size([1, 44, 8])"
      ]
     },
     "execution_count": 2383,
     "metadata": {},
     "output_type": "execute_result"
    }
   ],
   "source": [
    "Hin_X.shape"
   ]
  },
  {
   "cell_type": "code",
   "execution_count": 2395,
   "id": "9709b56b-39fb-4258-aa7e-56521a3e974f",
   "metadata": {},
   "outputs": [
    {
     "data": {
      "text/plain": [
       "<All keys matched successfully>"
      ]
     },
     "execution_count": 2395,
     "metadata": {},
     "output_type": "execute_result"
    }
   ],
   "source": [
    "# encoder = EncoderRNN(input_size,hidden_size,batch_size)\n",
    "# decoder = DecoderRNN()\n",
    "encoder.load_state_dict(torch.load('./Encoder176.pt'))\n",
    "decoder.load_state_dict(torch.load('./Decoder176.pt'))"
   ]
  },
  {
   "cell_type": "code",
   "execution_count": 2397,
   "id": "9c92657f-a421-4010-93ec-1544c6c68bba",
   "metadata": {},
   "outputs": [],
   "source": [
    "Hin_X = Hin_X.to(device)\n",
    "hid = encoder.initHidden(2,1)\n",
    "hid = hid.to(device)\n",
    "# encoder_outputs = torch.zeros(MAX_LENGTH, encoder.hidden_size).to(device)\n",
    "decode_path = []\n",
    "# given_path = []\n",
    "for i in range(Hin_X.shape[1]):\n",
    "    out, hidden = encoder(Hin_X[:,i,:].reshape(1,1,-1),hid)\n",
    "    # given_path.append(Hin_Y[:,i,:].reshap(1,1,-1))\n",
    "    # encoder_outputs[i] += out[0,0]\n",
    "d_input = torch.zeros((1,1,2)).to(device)\n",
    "decoder_input = decoder_inputg.reshape(1,-1,2) #d_input\n",
    "decode_path.append(decoder_input)\n",
    "decoder_hidden = hidden\n",
    "\n",
    "# decode_path.append(decoder_input)\n",
    "for i in range(1,Hin_X.shape[1]):\n",
    "    decoder_output , decoder_hidden = decoder(decoder_input, decoder_hidden)\n",
    "    decoder_input = Hin_Y[:,i,:].reshape(1,1,-1).to(device)#decoder_output#\n",
    "    decode_path.append(decoder_output)"
   ]
  },
  {
   "cell_type": "code",
   "execution_count": 2398,
   "id": "7f722f20-a820-46eb-982f-a709f1d3bc13",
   "metadata": {},
   "outputs": [
    {
     "data": {
      "text/plain": [
       "44"
      ]
     },
     "execution_count": 2398,
     "metadata": {},
     "output_type": "execute_result"
    }
   ],
   "source": [
    "len(decode_path)"
   ]
  },
  {
   "cell_type": "code",
   "execution_count": 2399,
   "id": "bb842b01-2456-410a-9dc4-2fa3b801c6dc",
   "metadata": {},
   "outputs": [
    {
     "data": {
      "text/plain": [
       "0.4483333230018616"
      ]
     },
     "execution_count": 2399,
     "metadata": {},
     "output_type": "execute_result"
    }
   ],
   "source": [
    "decode_path[0].squeeze()[0].item()#.to('cpu').detach().numpy()"
   ]
  },
  {
   "cell_type": "code",
   "execution_count": 2400,
   "id": "081e3c8b-05cf-4e55-94b2-0ea280b39e30",
   "metadata": {},
   "outputs": [],
   "source": [
    "path_x=[]\n",
    "path_y=[]\n",
    "for i in range(len(decode_path)):\n",
    "    path_x.append(decode_path[i].squeeze()[0].item()* (minmax['위도(N)'][1] - minmax['위도(N)'][0]) + minmax['위도(N)'][0])\n",
    "    path_y.append(decode_path[i].squeeze()[1].item()* (minmax['경도(E)'][1] - minmax['경도(E)'][0]) + minmax['경도(E)'][0])"
   ]
  },
  {
   "cell_type": "code",
   "execution_count": 2401,
   "id": "4c9862e8-a627-4600-924f-edcb135ca60b",
   "metadata": {},
   "outputs": [],
   "source": [
    "# path_x=[]\n",
    "# path_y=[]\n",
    "# for i in range(len(decode_path)):\n",
    "#     path_x.append(decode_path[i].squeeze()[0].item())\n",
    "#     path_y.append(decode_path[i].squeeze()[1].item())"
   ]
  },
  {
   "cell_type": "code",
   "execution_count": 2402,
   "id": "51746d4d-925e-425f-8dcb-539bfd5ac2a0",
   "metadata": {},
   "outputs": [
    {
     "data": {
      "text/plain": [
       "148.4999978542328"
      ]
     },
     "execution_count": 2402,
     "metadata": {},
     "output_type": "execute_result"
    }
   ],
   "source": [
    "path_y[0]"
   ]
  },
  {
   "cell_type": "code",
   "execution_count": 2403,
   "id": "9a32f21a-b78e-4b8c-8812-64bd1cbc37ef",
   "metadata": {},
   "outputs": [],
   "source": [
    "path_x = pd.DataFrame(path_x)\n",
    "path_y = pd.DataFrame(path_y)"
   ]
  },
  {
   "cell_type": "code",
   "execution_count": 2404,
   "id": "02ef0ae2-61d7-4462-ade5-82b26d6e1f38",
   "metadata": {},
   "outputs": [],
   "source": [
    "pred1_path = pd.concat([path_x, path_y],axis=1)"
   ]
  },
  {
   "cell_type": "code",
   "execution_count": 2405,
   "id": "78fed90f-cdbe-4fbc-b584-0c842722d45f",
   "metadata": {},
   "outputs": [],
   "source": [
    "pred1_path.columns=['위도','경도']"
   ]
  },
  {
   "cell_type": "code",
   "execution_count": 2406,
   "id": "4232b39e-04eb-4aac-8a9b-3d0d124d29bc",
   "metadata": {},
   "outputs": [
    {
     "data": {
      "text/html": [
       "<div>\n",
       "<style scoped>\n",
       "    .dataframe tbody tr th:only-of-type {\n",
       "        vertical-align: middle;\n",
       "    }\n",
       "\n",
       "    .dataframe tbody tr th {\n",
       "        vertical-align: top;\n",
       "    }\n",
       "\n",
       "    .dataframe thead th {\n",
       "        text-align: right;\n",
       "    }\n",
       "</style>\n",
       "<table border=\"1\" class=\"dataframe\">\n",
       "  <thead>\n",
       "    <tr style=\"text-align: right;\">\n",
       "      <th></th>\n",
       "      <th>위도</th>\n",
       "      <th>경도</th>\n",
       "    </tr>\n",
       "  </thead>\n",
       "  <tbody>\n",
       "    <tr>\n",
       "      <th>0</th>\n",
       "      <td>26.899999</td>\n",
       "      <td>148.499998</td>\n",
       "    </tr>\n",
       "    <tr>\n",
       "      <th>1</th>\n",
       "      <td>44.474806</td>\n",
       "      <td>139.018797</td>\n",
       "    </tr>\n",
       "    <tr>\n",
       "      <th>2</th>\n",
       "      <td>34.671210</td>\n",
       "      <td>139.799733</td>\n",
       "    </tr>\n",
       "    <tr>\n",
       "      <th>3</th>\n",
       "      <td>30.257249</td>\n",
       "      <td>142.667910</td>\n",
       "    </tr>\n",
       "    <tr>\n",
       "      <th>4</th>\n",
       "      <td>28.995051</td>\n",
       "      <td>144.131774</td>\n",
       "    </tr>\n",
       "    <tr>\n",
       "      <th>5</th>\n",
       "      <td>28.598737</td>\n",
       "      <td>144.157174</td>\n",
       "    </tr>\n",
       "    <tr>\n",
       "      <th>6</th>\n",
       "      <td>28.540664</td>\n",
       "      <td>143.384430</td>\n",
       "    </tr>\n",
       "    <tr>\n",
       "      <th>7</th>\n",
       "      <td>28.584911</td>\n",
       "      <td>142.076928</td>\n",
       "    </tr>\n",
       "    <tr>\n",
       "      <th>8</th>\n",
       "      <td>28.731025</td>\n",
       "      <td>140.301864</td>\n",
       "    </tr>\n",
       "    <tr>\n",
       "      <th>9</th>\n",
       "      <td>28.772589</td>\n",
       "      <td>138.066060</td>\n",
       "    </tr>\n",
       "    <tr>\n",
       "      <th>10</th>\n",
       "      <td>28.724336</td>\n",
       "      <td>135.537702</td>\n",
       "    </tr>\n",
       "    <tr>\n",
       "      <th>11</th>\n",
       "      <td>28.476661</td>\n",
       "      <td>132.758875</td>\n",
       "    </tr>\n",
       "    <tr>\n",
       "      <th>12</th>\n",
       "      <td>27.990190</td>\n",
       "      <td>130.258246</td>\n",
       "    </tr>\n",
       "    <tr>\n",
       "      <th>13</th>\n",
       "      <td>27.208148</td>\n",
       "      <td>127.899270</td>\n",
       "    </tr>\n",
       "    <tr>\n",
       "      <th>14</th>\n",
       "      <td>26.099498</td>\n",
       "      <td>125.625020</td>\n",
       "    </tr>\n",
       "    <tr>\n",
       "      <th>15</th>\n",
       "      <td>24.706539</td>\n",
       "      <td>123.762456</td>\n",
       "    </tr>\n",
       "    <tr>\n",
       "      <th>16</th>\n",
       "      <td>23.492430</td>\n",
       "      <td>122.536510</td>\n",
       "    </tr>\n",
       "    <tr>\n",
       "      <th>17</th>\n",
       "      <td>22.596059</td>\n",
       "      <td>121.896076</td>\n",
       "    </tr>\n",
       "    <tr>\n",
       "      <th>18</th>\n",
       "      <td>22.191462</td>\n",
       "      <td>121.541533</td>\n",
       "    </tr>\n",
       "    <tr>\n",
       "      <th>19</th>\n",
       "      <td>22.190829</td>\n",
       "      <td>121.205769</td>\n",
       "    </tr>\n",
       "    <tr>\n",
       "      <th>20</th>\n",
       "      <td>22.476198</td>\n",
       "      <td>120.704936</td>\n",
       "    </tr>\n",
       "    <tr>\n",
       "      <th>21</th>\n",
       "      <td>22.839151</td>\n",
       "      <td>120.070567</td>\n",
       "    </tr>\n",
       "    <tr>\n",
       "      <th>22</th>\n",
       "      <td>23.236025</td>\n",
       "      <td>119.514143</td>\n",
       "    </tr>\n",
       "    <tr>\n",
       "      <th>23</th>\n",
       "      <td>23.744901</td>\n",
       "      <td>119.080532</td>\n",
       "    </tr>\n",
       "    <tr>\n",
       "      <th>24</th>\n",
       "      <td>24.379392</td>\n",
       "      <td>118.860961</td>\n",
       "    </tr>\n",
       "    <tr>\n",
       "      <th>25</th>\n",
       "      <td>25.149445</td>\n",
       "      <td>118.860022</td>\n",
       "    </tr>\n",
       "    <tr>\n",
       "      <th>26</th>\n",
       "      <td>25.964735</td>\n",
       "      <td>118.838937</td>\n",
       "    </tr>\n",
       "    <tr>\n",
       "      <th>27</th>\n",
       "      <td>26.876836</td>\n",
       "      <td>118.775291</td>\n",
       "    </tr>\n",
       "    <tr>\n",
       "      <th>28</th>\n",
       "      <td>27.942061</td>\n",
       "      <td>118.914830</td>\n",
       "    </tr>\n",
       "    <tr>\n",
       "      <th>29</th>\n",
       "      <td>28.882211</td>\n",
       "      <td>118.944865</td>\n",
       "    </tr>\n",
       "    <tr>\n",
       "      <th>30</th>\n",
       "      <td>29.869866</td>\n",
       "      <td>119.035996</td>\n",
       "    </tr>\n",
       "    <tr>\n",
       "      <th>31</th>\n",
       "      <td>30.711801</td>\n",
       "      <td>119.154904</td>\n",
       "    </tr>\n",
       "    <tr>\n",
       "      <th>32</th>\n",
       "      <td>31.419922</td>\n",
       "      <td>119.316089</td>\n",
       "    </tr>\n",
       "    <tr>\n",
       "      <th>33</th>\n",
       "      <td>31.962258</td>\n",
       "      <td>119.516144</td>\n",
       "    </tr>\n",
       "    <tr>\n",
       "      <th>34</th>\n",
       "      <td>32.674652</td>\n",
       "      <td>119.952115</td>\n",
       "    </tr>\n",
       "    <tr>\n",
       "      <th>35</th>\n",
       "      <td>33.420299</td>\n",
       "      <td>120.518472</td>\n",
       "    </tr>\n",
       "    <tr>\n",
       "      <th>36</th>\n",
       "      <td>34.140873</td>\n",
       "      <td>121.129739</td>\n",
       "    </tr>\n",
       "    <tr>\n",
       "      <th>37</th>\n",
       "      <td>34.944348</td>\n",
       "      <td>121.893136</td>\n",
       "    </tr>\n",
       "    <tr>\n",
       "      <th>38</th>\n",
       "      <td>35.776269</td>\n",
       "      <td>122.727783</td>\n",
       "    </tr>\n",
       "    <tr>\n",
       "      <th>39</th>\n",
       "      <td>36.702425</td>\n",
       "      <td>123.867019</td>\n",
       "    </tr>\n",
       "    <tr>\n",
       "      <th>40</th>\n",
       "      <td>37.732884</td>\n",
       "      <td>125.260743</td>\n",
       "    </tr>\n",
       "    <tr>\n",
       "      <th>41</th>\n",
       "      <td>38.743172</td>\n",
       "      <td>126.595969</td>\n",
       "    </tr>\n",
       "    <tr>\n",
       "      <th>42</th>\n",
       "      <td>39.829491</td>\n",
       "      <td>128.017416</td>\n",
       "    </tr>\n",
       "    <tr>\n",
       "      <th>43</th>\n",
       "      <td>41.522366</td>\n",
       "      <td>130.240592</td>\n",
       "    </tr>\n",
       "  </tbody>\n",
       "</table>\n",
       "</div>"
      ],
      "text/plain": [
       "           위도          경도\n",
       "0   26.899999  148.499998\n",
       "1   44.474806  139.018797\n",
       "2   34.671210  139.799733\n",
       "3   30.257249  142.667910\n",
       "4   28.995051  144.131774\n",
       "5   28.598737  144.157174\n",
       "6   28.540664  143.384430\n",
       "7   28.584911  142.076928\n",
       "8   28.731025  140.301864\n",
       "9   28.772589  138.066060\n",
       "10  28.724336  135.537702\n",
       "11  28.476661  132.758875\n",
       "12  27.990190  130.258246\n",
       "13  27.208148  127.899270\n",
       "14  26.099498  125.625020\n",
       "15  24.706539  123.762456\n",
       "16  23.492430  122.536510\n",
       "17  22.596059  121.896076\n",
       "18  22.191462  121.541533\n",
       "19  22.190829  121.205769\n",
       "20  22.476198  120.704936\n",
       "21  22.839151  120.070567\n",
       "22  23.236025  119.514143\n",
       "23  23.744901  119.080532\n",
       "24  24.379392  118.860961\n",
       "25  25.149445  118.860022\n",
       "26  25.964735  118.838937\n",
       "27  26.876836  118.775291\n",
       "28  27.942061  118.914830\n",
       "29  28.882211  118.944865\n",
       "30  29.869866  119.035996\n",
       "31  30.711801  119.154904\n",
       "32  31.419922  119.316089\n",
       "33  31.962258  119.516144\n",
       "34  32.674652  119.952115\n",
       "35  33.420299  120.518472\n",
       "36  34.140873  121.129739\n",
       "37  34.944348  121.893136\n",
       "38  35.776269  122.727783\n",
       "39  36.702425  123.867019\n",
       "40  37.732884  125.260743\n",
       "41  38.743172  126.595969\n",
       "42  39.829491  128.017416\n",
       "43  41.522366  130.240592"
      ]
     },
     "execution_count": 2406,
     "metadata": {},
     "output_type": "execute_result"
    }
   ],
   "source": [
    "pred1_path"
   ]
  },
  {
   "cell_type": "code",
   "execution_count": 1855,
   "id": "f379b29a-90eb-4809-a444-d4bcf2bf435d",
   "metadata": {},
   "outputs": [
    {
     "data": {
      "text/html": [
       "<div>\n",
       "<style scoped>\n",
       "    .dataframe tbody tr th:only-of-type {\n",
       "        vertical-align: middle;\n",
       "    }\n",
       "\n",
       "    .dataframe tbody tr th {\n",
       "        vertical-align: top;\n",
       "    }\n",
       "\n",
       "    .dataframe thead th {\n",
       "        text-align: right;\n",
       "    }\n",
       "</style>\n",
       "<table border=\"1\" class=\"dataframe\">\n",
       "  <thead>\n",
       "    <tr style=\"text-align: right;\">\n",
       "      <th></th>\n",
       "      <th>위도</th>\n",
       "      <th>경도</th>\n",
       "    </tr>\n",
       "  </thead>\n",
       "  <tbody>\n",
       "    <tr>\n",
       "      <th>0</th>\n",
       "      <td>26.900000</td>\n",
       "      <td>148.500000</td>\n",
       "    </tr>\n",
       "    <tr>\n",
       "      <th>1</th>\n",
       "      <td>35.542919</td>\n",
       "      <td>129.139267</td>\n",
       "    </tr>\n",
       "    <tr>\n",
       "      <th>2</th>\n",
       "      <td>35.542480</td>\n",
       "      <td>129.140625</td>\n",
       "    </tr>\n",
       "    <tr>\n",
       "      <th>3</th>\n",
       "      <td>35.542938</td>\n",
       "      <td>129.143188</td>\n",
       "    </tr>\n",
       "    <tr>\n",
       "      <th>4</th>\n",
       "      <td>35.543114</td>\n",
       "      <td>129.144119</td>\n",
       "    </tr>\n",
       "    <tr>\n",
       "      <th>5</th>\n",
       "      <td>35.543175</td>\n",
       "      <td>129.144440</td>\n",
       "    </tr>\n",
       "    <tr>\n",
       "      <th>6</th>\n",
       "      <td>35.543198</td>\n",
       "      <td>129.144562</td>\n",
       "    </tr>\n",
       "    <tr>\n",
       "      <th>7</th>\n",
       "      <td>35.543209</td>\n",
       "      <td>129.144608</td>\n",
       "    </tr>\n",
       "    <tr>\n",
       "      <th>8</th>\n",
       "      <td>35.543209</td>\n",
       "      <td>129.144608</td>\n",
       "    </tr>\n",
       "    <tr>\n",
       "      <th>9</th>\n",
       "      <td>35.543213</td>\n",
       "      <td>129.144623</td>\n",
       "    </tr>\n",
       "    <tr>\n",
       "      <th>10</th>\n",
       "      <td>35.543213</td>\n",
       "      <td>129.144623</td>\n",
       "    </tr>\n",
       "    <tr>\n",
       "      <th>11</th>\n",
       "      <td>35.543213</td>\n",
       "      <td>129.144623</td>\n",
       "    </tr>\n",
       "    <tr>\n",
       "      <th>12</th>\n",
       "      <td>35.543213</td>\n",
       "      <td>129.144623</td>\n",
       "    </tr>\n",
       "    <tr>\n",
       "      <th>13</th>\n",
       "      <td>35.543213</td>\n",
       "      <td>129.144623</td>\n",
       "    </tr>\n",
       "    <tr>\n",
       "      <th>14</th>\n",
       "      <td>35.543213</td>\n",
       "      <td>129.144623</td>\n",
       "    </tr>\n",
       "    <tr>\n",
       "      <th>15</th>\n",
       "      <td>35.543213</td>\n",
       "      <td>129.144623</td>\n",
       "    </tr>\n",
       "    <tr>\n",
       "      <th>16</th>\n",
       "      <td>35.543209</td>\n",
       "      <td>129.144608</td>\n",
       "    </tr>\n",
       "    <tr>\n",
       "      <th>17</th>\n",
       "      <td>35.543213</td>\n",
       "      <td>129.144623</td>\n",
       "    </tr>\n",
       "    <tr>\n",
       "      <th>18</th>\n",
       "      <td>35.543213</td>\n",
       "      <td>129.144638</td>\n",
       "    </tr>\n",
       "    <tr>\n",
       "      <th>19</th>\n",
       "      <td>35.543217</td>\n",
       "      <td>129.144638</td>\n",
       "    </tr>\n",
       "    <tr>\n",
       "      <th>20</th>\n",
       "      <td>35.543213</td>\n",
       "      <td>129.144623</td>\n",
       "    </tr>\n",
       "    <tr>\n",
       "      <th>21</th>\n",
       "      <td>35.543213</td>\n",
       "      <td>129.144638</td>\n",
       "    </tr>\n",
       "    <tr>\n",
       "      <th>22</th>\n",
       "      <td>35.543217</td>\n",
       "      <td>129.144638</td>\n",
       "    </tr>\n",
       "    <tr>\n",
       "      <th>23</th>\n",
       "      <td>35.543213</td>\n",
       "      <td>129.144638</td>\n",
       "    </tr>\n",
       "    <tr>\n",
       "      <th>24</th>\n",
       "      <td>35.543213</td>\n",
       "      <td>129.144623</td>\n",
       "    </tr>\n",
       "    <tr>\n",
       "      <th>25</th>\n",
       "      <td>35.543213</td>\n",
       "      <td>129.144653</td>\n",
       "    </tr>\n",
       "    <tr>\n",
       "      <th>26</th>\n",
       "      <td>35.543213</td>\n",
       "      <td>129.144638</td>\n",
       "    </tr>\n",
       "    <tr>\n",
       "      <th>27</th>\n",
       "      <td>35.543213</td>\n",
       "      <td>129.144638</td>\n",
       "    </tr>\n",
       "    <tr>\n",
       "      <th>28</th>\n",
       "      <td>35.543213</td>\n",
       "      <td>129.144638</td>\n",
       "    </tr>\n",
       "    <tr>\n",
       "      <th>29</th>\n",
       "      <td>35.543213</td>\n",
       "      <td>129.144638</td>\n",
       "    </tr>\n",
       "    <tr>\n",
       "      <th>30</th>\n",
       "      <td>35.543213</td>\n",
       "      <td>129.144638</td>\n",
       "    </tr>\n",
       "    <tr>\n",
       "      <th>31</th>\n",
       "      <td>35.543213</td>\n",
       "      <td>129.144623</td>\n",
       "    </tr>\n",
       "    <tr>\n",
       "      <th>32</th>\n",
       "      <td>35.543213</td>\n",
       "      <td>129.144623</td>\n",
       "    </tr>\n",
       "    <tr>\n",
       "      <th>33</th>\n",
       "      <td>35.543217</td>\n",
       "      <td>129.144638</td>\n",
       "    </tr>\n",
       "    <tr>\n",
       "      <th>34</th>\n",
       "      <td>35.543217</td>\n",
       "      <td>129.144638</td>\n",
       "    </tr>\n",
       "    <tr>\n",
       "      <th>35</th>\n",
       "      <td>35.543213</td>\n",
       "      <td>129.144638</td>\n",
       "    </tr>\n",
       "    <tr>\n",
       "      <th>36</th>\n",
       "      <td>35.543221</td>\n",
       "      <td>129.144653</td>\n",
       "    </tr>\n",
       "    <tr>\n",
       "      <th>37</th>\n",
       "      <td>35.543213</td>\n",
       "      <td>129.144638</td>\n",
       "    </tr>\n",
       "    <tr>\n",
       "      <th>38</th>\n",
       "      <td>35.543213</td>\n",
       "      <td>129.144653</td>\n",
       "    </tr>\n",
       "    <tr>\n",
       "      <th>39</th>\n",
       "      <td>35.543217</td>\n",
       "      <td>129.144653</td>\n",
       "    </tr>\n",
       "    <tr>\n",
       "      <th>40</th>\n",
       "      <td>35.543217</td>\n",
       "      <td>129.144653</td>\n",
       "    </tr>\n",
       "    <tr>\n",
       "      <th>41</th>\n",
       "      <td>35.543213</td>\n",
       "      <td>129.144638</td>\n",
       "    </tr>\n",
       "    <tr>\n",
       "      <th>42</th>\n",
       "      <td>35.543217</td>\n",
       "      <td>129.144653</td>\n",
       "    </tr>\n",
       "    <tr>\n",
       "      <th>43</th>\n",
       "      <td>35.543221</td>\n",
       "      <td>129.144653</td>\n",
       "    </tr>\n",
       "  </tbody>\n",
       "</table>\n",
       "</div>"
      ],
      "text/plain": [
       "           위도          경도\n",
       "0   26.900000  148.500000\n",
       "1   35.542919  129.139267\n",
       "2   35.542480  129.140625\n",
       "3   35.542938  129.143188\n",
       "4   35.543114  129.144119\n",
       "5   35.543175  129.144440\n",
       "6   35.543198  129.144562\n",
       "7   35.543209  129.144608\n",
       "8   35.543209  129.144608\n",
       "9   35.543213  129.144623\n",
       "10  35.543213  129.144623\n",
       "11  35.543213  129.144623\n",
       "12  35.543213  129.144623\n",
       "13  35.543213  129.144623\n",
       "14  35.543213  129.144623\n",
       "15  35.543213  129.144623\n",
       "16  35.543209  129.144608\n",
       "17  35.543213  129.144623\n",
       "18  35.543213  129.144638\n",
       "19  35.543217  129.144638\n",
       "20  35.543213  129.144623\n",
       "21  35.543213  129.144638\n",
       "22  35.543217  129.144638\n",
       "23  35.543213  129.144638\n",
       "24  35.543213  129.144623\n",
       "25  35.543213  129.144653\n",
       "26  35.543213  129.144638\n",
       "27  35.543213  129.144638\n",
       "28  35.543213  129.144638\n",
       "29  35.543213  129.144638\n",
       "30  35.543213  129.144638\n",
       "31  35.543213  129.144623\n",
       "32  35.543213  129.144623\n",
       "33  35.543217  129.144638\n",
       "34  35.543217  129.144638\n",
       "35  35.543213  129.144638\n",
       "36  35.543221  129.144653\n",
       "37  35.543213  129.144638\n",
       "38  35.543213  129.144653\n",
       "39  35.543217  129.144653\n",
       "40  35.543217  129.144653\n",
       "41  35.543213  129.144638\n",
       "42  35.543217  129.144653\n",
       "43  35.543221  129.144653"
      ]
     },
     "execution_count": 1855,
     "metadata": {},
     "output_type": "execute_result"
    }
   ],
   "source": [
    "pred1_path"
   ]
  },
  {
   "cell_type": "code",
   "execution_count": 1793,
   "id": "b375a1f4-fdc4-4c59-90f0-2ddfe1643f69",
   "metadata": {
    "tags": []
   },
   "outputs": [
    {
     "data": {
      "text/plain": [
       "tensor([[[0.1817, 0.3989],\n",
       "         [0.1817, 0.3933],\n",
       "         [0.1833, 0.3911],\n",
       "         [0.1833, 0.3889],\n",
       "         [0.1833, 0.3867],\n",
       "         [0.1833, 0.3833],\n",
       "         [0.1883, 0.3844],\n",
       "         [0.1850, 0.3889],\n",
       "         [0.1850, 0.3978]]])"
      ]
     },
     "execution_count": 1793,
     "metadata": {},
     "output_type": "execute_result"
    }
   ],
   "source": [
    "Megi_Y"
   ]
  },
  {
   "cell_type": "code",
   "execution_count": 2365,
   "id": "0a1fd0e0-a3a2-433f-bc75-bcd4a86aadf6",
   "metadata": {},
   "outputs": [
    {
     "name": "stderr",
     "output_type": "stream",
     "text": [
      "C:\\Users\\jeonjw\\anaconda3\\envs\\jeon\\lib\\site-packages\\pandas\\core\\dtypes\\cast.py:118: ShapelyDeprecationWarning: The array interface is deprecated and will no longer work in Shapely 2.0. Convert the '.coords' to a numpy array instead.\n",
      "  arr = construct_1d_object_array_from_listlike(values)\n"
     ]
    },
    {
     "data": {
      "text/plain": [
       "<AxesSubplot:>"
      ]
     },
     "execution_count": 2365,
     "metadata": {},
     "output_type": "execute_result"
    },
    {
     "data": {
      "image/png": "[encoded data removed]",
      "text/plain": [
       "<Figure size 1440x1440 with 1 Axes>"
      ]
     },
     "metadata": {
      "needs_background": "light"
     },
     "output_type": "display_data"
    }
   ],
   "source": [
    "gdf_path = gpd.GeoDataFrame(pred1_path, geometry=gpd.points_from_xy(pred1_path[:]['경도'],pred1_path[:]['위도']), crs='epsg:4326')\n",
    "line_geometry = LineString(gdf_path[\"geometry\"])\n",
    "df_path_line = pd.DataFrame({'geometry' : [line_geometry]})\n",
    "gdf_path_line = gpd.GeoDataFrame(df_path_line, geometry=df_path_line.geometry)\n",
    "world = gpd.read_file(gpd.datasets.get_path('naturalearth_lowres'))\n",
    "basemap = world.loc[world['name'].isin(['South Korea', 'North Korea','Japan', 'China', 'Philippines','Taiwan'])]\n",
    "ax = basemap.plot(figsize=(20,20), color='whitesmoke', edgecolor='black', linewidth=1)\n",
    "ax.axis('off')\n",
    "gdf_path_line.plot(ax=ax, linewidth=1., color='blue', zorder=1)"
   ]
  },
  {
   "cell_type": "code",
   "execution_count": 2407,
   "id": "0b601172-3b34-4815-b016-fc4c5b95a35f",
   "metadata": {},
   "outputs": [
    {
     "name": "stderr",
     "output_type": "stream",
     "text": [
      "C:\\Users\\jeonjw\\anaconda3\\envs\\jeon\\lib\\site-packages\\pandas\\core\\dtypes\\cast.py:118: ShapelyDeprecationWarning: The array interface is deprecated and will no longer work in Shapely 2.0. Convert the '.coords' to a numpy array instead.\n",
      "  arr = construct_1d_object_array_from_listlike(values)\n"
     ]
    },
    {
     "data": {
      "text/plain": [
       "<AxesSubplot:>"
      ]
     },
     "execution_count": 2407,
     "metadata": {},
     "output_type": "execute_result"
    },
    {
     "data": {
      "image/png": "[encoded data removed]",
      "text/plain": [
       "<Figure size 1440x1440 with 1 Axes>"
      ]
     },
     "metadata": {
      "needs_background": "light"
     },
     "output_type": "display_data"
    }
   ],
   "source": [
    "gdf_path = gpd.GeoDataFrame(pred1_path, geometry=gpd.points_from_xy(pred1_path[:]['경도'],pred1_path[:]['위도']), crs='epsg:4326')\n",
    "line_geometry = LineString(gdf_path[\"geometry\"])\n",
    "df_path_line = pd.DataFrame({'geometry' : [line_geometry]})\n",
    "gdf_path_line = gpd.GeoDataFrame(df_path_line, geometry=df_path_line.geometry)\n",
    "world = gpd.read_file(gpd.datasets.get_path('naturalearth_lowres'))\n",
    "basemap = world.loc[world['name'].isin(['South Korea', 'North Korea','Japan', 'China', 'Philippines','Taiwan'])]\n",
    "ax = basemap.plot(figsize=(20,20), color='whitesmoke', edgecolor='black', linewidth=1)\n",
    "ax.axis('off')\n",
    "gdf_path_line.plot(ax=ax, linewidth=1., color='blue', zorder=1)"
   ]
  },
  {
   "cell_type": "code",
   "execution_count": 97,
   "id": "954cd737-f840-41b3-9941-71af7b7ae089",
   "metadata": {},
   "outputs": [
    {
     "name": "stderr",
     "output_type": "stream",
     "text": [
      "C:\\Users\\jeonjw\\anaconda3\\envs\\jeon\\lib\\site-packages\\pandas\\core\\dtypes\\cast.py:118: ShapelyDeprecationWarning: The array interface is deprecated and will no longer work in Shapely 2.0. Convert the '.coords' to a numpy array instead.\n",
      "  arr = construct_1d_object_array_from_listlike(values)\n"
     ]
    },
    {
     "data": {
      "text/plain": [
       "<AxesSubplot:>"
      ]
     },
     "execution_count": 97,
     "metadata": {},
     "output_type": "execute_result"
    },
    {
     "data": {
      "image/png": "[encoded data removed]",
      "text/plain": [
       "<Figure size 1440x1440 with 1 Axes>"
      ]
     },
     "metadata": {
      "needs_background": "light"
     },
     "output_type": "display_data"
    }
   ],
   "source": [
    "gdf_path = gpd.GeoDataFrame(Hin_Y, geometry=gpd.points_from_xy(Hin_Y[:]['경도(E)'],Hin_Y[:]['위도(N)']), crs='epsg:4326')\n",
    "line_geometry = LineString(gdf_path[\"geometry\"])\n",
    "df_path_line = pd.DataFrame({'geometry' : [line_geometry]})\n",
    "gdf_path_line = gpd.GeoDataFrame(df_path_line, geometry=df_path_line.geometry)\n",
    "world = gpd.read_file(gpd.datasets.get_path('naturalearth_lowres'))\n",
    "basemap = world.loc[world['name'].isin(['South Korea', 'North Korea','Japan', 'China', 'Philippines','Taiwan'])]\n",
    "ax = basemap.plot(figsize=(20,20), color='whitesmoke', edgecolor='black', linewidth=1)\n",
    "ax.axis('off')\n",
    "gdf_path_line.plot(ax=ax, linewidth=1., color='b', zorder=1)"
   ]
  },
  {
   "cell_type": "code",
   "execution_count": null,
   "id": "1132bcd4-1283-4b14-b3c0-9b4512dd6c82",
   "metadata": {},
   "outputs": [],
   "source": []
  }
 ],
 "metadata": {
  "kernelspec": {
   "display_name": "Python 3 (ipykernel)",
   "language": "python",
   "name": "python3"
  },
  "language_info": {
   "codemirror_mode": {
    "name": "ipython",
    "version": 3
   },
   "file_extension": ".py",
   "mimetype": "text/x-python",
   "name": "python",
   "nbconvert_exporter": "python",
   "pygments_lexer": "ipython3",
   "version": "3.8.13"
  }
 },
 "nbformat": 4,
 "nbformat_minor": 5
}
